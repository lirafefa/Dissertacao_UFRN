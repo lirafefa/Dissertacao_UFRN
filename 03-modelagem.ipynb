{
 "cells": [
  {
   "cell_type": "markdown",
   "metadata": {},
   "source": [
    "### Importar o dataset\n"
   ]
  },
  {
   "cell_type": "code",
   "execution_count": 2,
   "metadata": {},
   "outputs": [],
   "source": [
    "from dotenv import load_dotenv\n",
    "import os\n",
    "import pandas as pd\n",
    "load_dotenv()\n",
    "\n",
    "dfs = []\n",
    "path_dados = os.getenv(\"PATH_DADOS\")\n",
    "for arquivo in os.listdir(path_dados):\n",
    "    if arquivo.endswith('.parquet'):\n",
    "        dfs.append(pd.read_parquet(f'{path_dados}/{arquivo}'))\n",
    "\n",
    "\n",
    "SEED = 1303\n",
    "\n",
    "df = pd.concat(dfs,ignore_index=True)\n",
    "df_rotulados = pd.read_csv(f'{path_dados}/dados_rotulados.csv')"
   ]
  },
  {
   "cell_type": "code",
   "execution_count": 3,
   "metadata": {},
   "outputs": [
    {
     "data": {
      "text/plain": [
       "array(['Negative', 'Positive', 'Neutral', nan], dtype=object)"
      ]
     },
     "execution_count": 3,
     "metadata": {},
     "output_type": "execute_result"
    }
   ],
   "source": [
    "df_rotulados.sentiment.unique()"
   ]
  },
  {
   "cell_type": "code",
   "execution_count": 4,
   "metadata": {},
   "outputs": [
    {
     "name": "stdout",
     "output_type": "stream",
     "text": [
      "Primeiras linhas do DataFrame original:\n",
      "['Negative' 'Positive' 'Neutral' nan]\n",
      "Arquivo filtrado salvo com sucesso: dados/dados_rotulados_filtrados.csv\n"
     ]
    }
   ],
   "source": [
    "import pandas as pd\n",
    "import os\n",
    "\n",
    "# Caminho correto dos dados rotulados\n",
    "arquivo_entrada = f'{path_dados}/dados_rotulados.csv'\n",
    "arquivo_saida = f'{path_dados}/dados_rotulados_filtrados.csv'\n",
    "\n",
    "# Verifica se o arquivo existe antes de continuar\n",
    "if not os.path.exists(arquivo_entrada):\n",
    "    print(f\"Erro: O arquivo '{arquivo_entrada}' não foi encontrado. Verifique o caminho!\")\n",
    "else:\n",
    "    # Carregando os dados rotulados\n",
    "    df_rotulados = pd.read_csv(arquivo_entrada)\n",
    "\n",
    "    # Exibe as primeiras linhas para entender o formato\n",
    "    print(\"Primeiras linhas do DataFrame original:\")\n",
    "    #print(df_rotulados.head())\n",
    "\n",
    "    print(df_rotulados.sentiment.unique())\n",
    "\n",
    "    # Dicionário de mapeamento para converter sentimentos em valores numéricos\n",
    "    mapeamento_sentimento = {\n",
    "        'Positive': 1,\n",
    "        'Negative': 0,\n",
    "    }\n",
    "\n",
    "    # Verifica se a coluna 'sentiment' existe no DataFrame\n",
    "    if 'sentiment' not in df_rotulados.columns:\n",
    "        print(\"Erro: A coluna 'sentiment' não existe no DataFrame.\")\n",
    "    else:\n",
    "        # Aplicando o mapeamento na coluna 'sentiment'\n",
    "        df_rotulados['sentiment'] = df_rotulados['sentiment'].map(mapeamento_sentimento)\n",
    "\n",
    "        # Removendo valores neutros (0) e não classificados (NaN)\n",
    "        df_rotulados = df_rotulados.dropna(subset=['sentiment'])\n",
    "\n",
    "        # Convertendo a coluna 'sentiment' para inteiro (opcional)\n",
    "        df_rotulados['sentiment'] = df_rotulados['sentiment'].astype(int)\n",
    "\n",
    "        # Salvando o novo arquivo filtrado\n",
    "        df_rotulados.to_csv(arquivo_saida, index=False)\n",
    "\n",
    "        print(f\"Arquivo filtrado salvo com sucesso: {arquivo_saida}\")\n"
   ]
  },
  {
   "cell_type": "markdown",
   "metadata": {},
   "source": [
    "## Aplicação das LabelFuntions do Snorkel\n",
    "\n",
    "Aqui será aplicada as labelfunctions do Snorkel baseadas em regex, em conjunto com os dados rotulados manualmente por LiraFefa"
   ]
  },
  {
   "cell_type": "code",
   "execution_count": 5,
   "metadata": {},
   "outputs": [],
   "source": [
    "from snorkel.labeling import labeling_function,PandasLFApplier\n",
    "import re\n",
    "\n",
    "# Define the label mappings for convenience\n",
    "ABSTER = -1\n",
    "NEGATIVO = 0\n",
    "POSITIVO = 1\n",
    "\n",
    "# Expressões Regulares - Termos que quero encontrar\n",
    "regex_a = re.compile(r'\\bcumpriment[ao]\\s+individual\\s+de\\s+senten[çc]a\\b', re.IGNORECASE) # Encontrar \"cumprimento individual de sentença\"\n",
    "regex_b = re.compile(r'\\bsindicato\\b', re.IGNORECASE)  # Encontrar \"sindicato\"\n",
    "regex_c = re.compile(r'\\bexecuç[ãa]\\s+individual\\b', re.IGNORECASE) # Encontrar \"EXECUÇÃO INDIVIDUAL\"\n",
    "regex_d = re.compile(r'\\bóbit[oa]\\s+do\\s+instituidor\\b', re.IGNORECASE)  # Encontrar \"óbito do instituidor\"\n",
    "regex_e = re.compile(r'\\bparidade\\b', re.IGNORECASE)  # Procurar \"paridade\"\n",
    "regex_f = re.compile(r'\\bsenten[çc]a\\s+coletiva\\b', re.IGNORECASE) #Encontrar \" sentença coletiva\"\n",
    "regex_g = re.compile(r'\\bexecu[çc][ãa]o\\s+origin[áa]ria\\b', re.IGNORECASE) #Encontrar \" execução originária\"\n",
    "regex_h = re.compile(r'\\bnos\\s+autos\\s+da\\s+aç[ãa]o\\s+coletiva\\b', re.IGNORECASE)  # Encontrar \"nos autos da ação coletiva\"\n",
    "regex_i = re.compile(r'\\bherdeir[oa]\\b', re.IGNORECASE)  # Encontrar \"herdeiros\" com ou sem acento\n",
    "\n",
    "# Expressões Regulares - Termos que NÃO quero encontrar\n",
    "regex_nao_encontrar_a = re.compile(r'\\baposentador[ií]a\\b', re.IGNORECASE)  # Encontrar \"APOSENTADORIA\"\n",
    "regex_nao_encontrar_b = re.compile(r'\\b[bB]enef[íi]cio\\s+previdenci[áa]rio\\b', re.IGNORECASE) # Encontrar \"benefício previdenciário\"\n",
    "regex_nao_encontrar_c = re.compile(r'\\bconcurso\\s+público\\b', re.IGNORECASE)  # Encontrar \"concurso público\"\n",
    "regex_nao_encontrar_d = re.compile(r'\\bfinanciamento\\b', re.IGNORECASE)  # Encontrar \"financiamento\"\n",
    "regex_nao_encontrar_e = re.compile(r'\\btributo\\b', re.IGNORECASE)  # Encontrar \"tributo\"\n",
    "regex_nao_encontrar_f = re.compile(r'\\bd[ií]vida\\s+ativa\\b', re.IGNORECASE)  # Encontrar \"dívida ativa\"\n",
    "regex_nao_encontrar_g = re.compile(r'\\bcr[ée]dito\\s+tribut[áa]rio\\b', re.IGNORECASE)  # Encontrar \"crédito tributário\"\n",
    "regex_nao_encontrar_h = re.compile(r'\\bf[ií]scal\\b', re.IGNORECASE)  # Encontrar \"fiscal\"\n",
    "regex_nao_encontrar_i = re.compile(r'\\binvalidez\\b', re.IGNORECASE)  # Encontrar \"invalidez\"\n",
    "regex_nao_encontrar_j = re.compile(r'\\bdiploma\\b', re.IGNORECASE)  # Encontrar \"diploma\"\n",
    "regex_nao_encontrar_k = re.compile(r'\\bpensão\\s+por\\s+morte\\b', re.IGNORECASE)  # Encontrar \"pensão por morte\"\n",
    "regex_nao_encontrar_l = re.compile(r'\\bplano\\s+de\\s+saúde\\b', re.IGNORECASE)  # Encontrar \"plano de saúde\"\n",
    "regex_nao_encontrar_m = re.compile(r'\\bcofins\\b', re.IGNORECASE)  # Encontrar \"COFINS\"\n",
    "regex_nao_encontrar_n = re.compile(r'\\baposentadoria\\s+por\\s+idade\\s+rural\\b', re.IGNORECASE)  # Encontrar \"APOSENTADORIA POR IDADE RURAL\"\n",
    "regex_nao_encontrar_o = re.compile(r'\\bremédio\\b', re.IGNORECASE)  # Encontrar \"remédio\"\n",
    "regex_nao_encontrar_p = re.compile(r'\\baposentadoria\\s+especial\\b', re.IGNORECASE)  # Encontrar \"aposentadoria especial\"\n",
    "\n",
    "@labeling_function()\n",
    "def labeling_function_positiva_a(df):\n",
    "    if regex_a.search(df.texto):\n",
    "        return POSITIVO\n",
    "    return ABSTER\n",
    "\n",
    "@labeling_function()\n",
    "def labeling_function_positiva_b(df):\n",
    "    if regex_b.search(df.texto):\n",
    "        return POSITIVO\n",
    "    return ABSTER\n",
    "\n",
    "@labeling_function()\n",
    "def labeling_function_positiva_c(df):\n",
    "    if regex_c.search(df.texto):\n",
    "        return POSITIVO\n",
    "    return ABSTER\n",
    "\n",
    "@labeling_function()\n",
    "def labeling_function_positiva_d(df):\n",
    "    if regex_d.search(df.texto):\n",
    "        return POSITIVO\n",
    "    return ABSTER\n",
    "\n",
    "@labeling_function()\n",
    "def labeling_function_positiva_e(df):\n",
    "    if regex_e.search(df.texto):\n",
    "        return POSITIVO\n",
    "    return ABSTER\n",
    "\n",
    "@labeling_function()\n",
    "def labeling_function_positiva_g(df):\n",
    "    if regex_g.search(df.texto):\n",
    "        return POSITIVO\n",
    "    return ABSTER\n",
    "\n",
    "\n",
    "@labeling_function()\n",
    "def labeling_function_positiva_f(df):\n",
    "    if regex_f.search(df.texto):\n",
    "        return POSITIVO\n",
    "    return ABSTER\n",
    "\n",
    "@labeling_function()\n",
    "def labeling_function_positiva_dg(df):\n",
    "    if regex_g.search(df.texto):\n",
    "        return POSITIVO\n",
    "    return ABSTER\n",
    "\n",
    "@labeling_function()\n",
    "def labeling_function_positiva_h(df):\n",
    "    if regex_h.search(df.texto):\n",
    "        return POSITIVO\n",
    "    return ABSTER\n",
    "\n",
    "@labeling_function()\n",
    "def labeling_function_positiva_i(df):\n",
    "    if regex_i.search(df.texto):\n",
    "        return POSITIVO\n",
    "    return ABSTER\n",
    "\n",
    "@labeling_function()\n",
    "def labeling_function_negativa_a(df):\n",
    "    if regex_nao_encontrar_a.search(df.texto):\n",
    "        return NEGATIVO\n",
    "    return ABSTER\n",
    "\n",
    "@labeling_function()\n",
    "def labeling_function_negativa_b(df):\n",
    "    if regex_nao_encontrar_b.search(df.texto):\n",
    "        return NEGATIVO\n",
    "    return ABSTER\n",
    "\n",
    "@labeling_function()\n",
    "def labeling_function_negativa_c(df):\n",
    "    if regex_nao_encontrar_c.search(df.texto):\n",
    "        return NEGATIVO\n",
    "    return ABSTER\n",
    "\n",
    "@labeling_function()\n",
    "def labeling_function_negativa_d(df):\n",
    "    if regex_nao_encontrar_d.search(df.texto):\n",
    "        return NEGATIVO\n",
    "    return ABSTER\n",
    "\n",
    "@labeling_function()\n",
    "def labeling_function_negativa_e(df):\n",
    "    if regex_nao_encontrar_e.search(df.texto):\n",
    "        return NEGATIVO\n",
    "    return ABSTER\n",
    "\n",
    "@labeling_function()\n",
    "def labeling_function_negativa_f(df):\n",
    "    if regex_nao_encontrar_f.search(df.texto):\n",
    "        return NEGATIVO\n",
    "    return ABSTER\n",
    "\n",
    "@labeling_function()\n",
    "def labeling_function_negativa_g(df):\n",
    "    if regex_nao_encontrar_g.search(df.texto):\n",
    "        return NEGATIVO\n",
    "    return ABSTER\n",
    "\n",
    "@labeling_function()\n",
    "def labeling_function_negativa_h(df):\n",
    "    if regex_nao_encontrar_h.search(df.texto):\n",
    "        return NEGATIVO\n",
    "    return ABSTER\n",
    "\n",
    "@labeling_function()\n",
    "def labeling_function_negativa_i(df):\n",
    "    if regex_nao_encontrar_i.search(df.texto):\n",
    "        return NEGATIVO\n",
    "    return ABSTER\n",
    "\n",
    "@labeling_function()\n",
    "def labeling_function_negativa_j(df):\n",
    "    if regex_nao_encontrar_j.search(df.texto):\n",
    "        return NEGATIVO\n",
    "    return ABSTER\n",
    "\n",
    "@labeling_function()\n",
    "def labeling_function_negativa_k(df):\n",
    "    if regex_nao_encontrar_k.search(df.texto):\n",
    "        return NEGATIVO\n",
    "    return ABSTER\n",
    "\n",
    "@labeling_function()\n",
    "def labeling_function_negativa_l(df):\n",
    "    if regex_nao_encontrar_l.search(df.texto):\n",
    "        return NEGATIVO\n",
    "    return ABSTER\n",
    "\n",
    "@labeling_function()\n",
    "def labeling_function_negativa_m(df):\n",
    "    if regex_nao_encontrar_m.search(df.texto):\n",
    "        return NEGATIVO\n",
    "    return ABSTER\n",
    "\n",
    "@labeling_function()\n",
    "def labeling_function_negativa_n(df):\n",
    "    if regex_nao_encontrar_n.search(df.texto):\n",
    "        return NEGATIVO\n",
    "    return ABSTER\n",
    "\n",
    "@labeling_function()\n",
    "def labeling_function_negativa_o(df):\n",
    "    if regex_nao_encontrar_o.search(df.texto):\n",
    "        return NEGATIVO\n",
    "    return ABSTER\n",
    "\n",
    "@labeling_function()\n",
    "def labeling_function_negativa_p(df):\n",
    "    if regex_nao_encontrar_p.search(df.texto):\n",
    "        return NEGATIVO\n",
    "    return ABSTER"
   ]
  },
  {
   "cell_type": "code",
   "execution_count": 6,
   "metadata": {},
   "outputs": [
    {
     "name": "stderr",
     "output_type": "stream",
     "text": [
      "100%|██████████| 2324/2324 [00:10<00:00, 221.81it/s]"
     ]
    },
    {
     "name": "stdout",
     "output_type": "stream",
     "text": [
      "Convergencias das Label functions no Dataset de desenvolvimento 60.71428571428571%\n"
     ]
    },
    {
     "name": "stderr",
     "output_type": "stream",
     "text": [
      "\n"
     ]
    }
   ],
   "source": [
    "from snorkel.labeling import LFAnalysis\n",
    "from snorkel.labeling import PandasLFApplier\n",
    "from sklearn.model_selection import train_test_split\n",
    "import numpy as np\n",
    "\n",
    "\n",
    "lfs = [labeling_function_negativa_a,labeling_function_negativa_b,labeling_function_negativa_c,\n",
    "       labeling_function_negativa_d,labeling_function_negativa_e,labeling_function_negativa_f,\n",
    "       labeling_function_negativa_g,labeling_function_negativa_h,labeling_function_negativa_i,\n",
    "       labeling_function_negativa_j,labeling_function_negativa_k,labeling_function_negativa_l,\n",
    "       labeling_function_negativa_m,labeling_function_negativa_n,labeling_function_negativa_o,\n",
    "       labeling_function_negativa_p,\n",
    "       \n",
    "       labeling_function_positiva_a,labeling_function_positiva_b,labeling_function_positiva_c,\n",
    "       labeling_function_positiva_d,labeling_function_positiva_e,labeling_function_positiva_f,\n",
    "       labeling_function_positiva_g,labeling_function_positiva_h,labeling_function_positiva_i\n",
    "    \n",
    "]\n",
    "\n",
    "\n",
    "X = df_rotulados.drop(columns=['sentiment'])\n",
    "y = df_rotulados.loc[:,'sentiment']\n",
    "X_train, X_intermediario, y_train, y_intermediario = train_test_split(X, y, test_size=0.2, random_state=SEED, stratify=y)\n",
    "X_dev, X_test, y_dev, y_test = train_test_split(X_intermediario, y_intermediario, test_size=0.2, random_state=SEED, stratify=y_intermediario)\n",
    "\n",
    "X_test.to_parquet('Dados_de_teste.parquet')\n",
    "np.save('rotulos_teste.npy',y_test)\n",
    "applier = PandasLFApplier(lfs=lfs)\n",
    "L_train = applier.apply(df=X_train)\n",
    "\n",
    "\n",
    "print(f'Convergencias das Label functions no Dataset de desenvolvimento {LFAnalysis(L=L_train, lfs=lfs).label_coverage()*100}%')\n",
    "\n",
    "\n",
    "\n"
   ]
  },
  {
   "cell_type": "code",
   "execution_count": 1,
   "metadata": {},
   "outputs": [
    {
     "ename": "NameError",
     "evalue": "name 'LFAnalysis' is not defined",
     "output_type": "error",
     "traceback": [
      "\u001b[1;31m---------------------------------------------------------------------------\u001b[0m",
      "\u001b[1;31mNameError\u001b[0m                                 Traceback (most recent call last)",
      "Cell \u001b[1;32mIn[1], line 2\u001b[0m\n\u001b[0;32m      1\u001b[0m \u001b[38;5;28;01mimport\u001b[39;00m \u001b[38;5;21;01mnumpy\u001b[39;00m \u001b[38;5;28;01mas\u001b[39;00m \u001b[38;5;21;01mnp\u001b[39;00m\n\u001b[1;32m----> 2\u001b[0m display(LFAnalysis(L\u001b[38;5;241m=\u001b[39mL_train, lfs\u001b[38;5;241m=\u001b[39mlfs)\u001b[38;5;241m.\u001b[39mlf_summary(Y \u001b[38;5;241m=\u001b[39m np\u001b[38;5;241m.\u001b[39marray(y_train)))\n",
      "\u001b[1;31mNameError\u001b[0m: name 'LFAnalysis' is not defined"
     ]
    }
   ],
   "source": [
    "import numpy as np\n",
    "display(LFAnalysis(L=L_train, lfs=lfs).lf_summary(Y = np.array(y_train)))"
   ]
  },
  {
   "cell_type": "code",
   "execution_count": null,
   "metadata": {},
   "outputs": [],
   "source": [
    "import time\n",
    "from multiprocessing import cpu_count\n",
    "\n",
    "#from lightgbm import LGBMClassifier\n",
    "from sklearn.calibration import CalibratedClassifierCV\n",
    "from sklearn.ensemble import (RandomForestClassifier, StackingClassifier,\n",
    "                              ExtraTreesClassifier)\n",
    "from sklearn.feature_extraction.text import TfidfVectorizer\n",
    "from sklearn.linear_model import LogisticRegression, SGDClassifier\n",
    "from sklearn.metrics import (accuracy_score, average_precision_score,\n",
    "                             balanced_accuracy_score, classification_report,\n",
    "                             cohen_kappa_score, confusion_matrix, f1_score,\n",
    "                             matthews_corrcoef)\n",
    "from sklearn.model_selection import (StratifiedKFold, cross_val_predict,\n",
    "                                     train_test_split)\n",
    "from sklearn.naive_bayes import MultinomialNB\n",
    "from sklearn.neighbors import KNeighborsClassifier\n",
    "from sklearn.neural_network import MLPClassifier\n",
    "from sklearn.svm import SVC, LinearSVC\n",
    "from sklearn.tree import DecisionTreeClassifier\n",
    "#from xgboost import XGBClassifier\n",
    "\n",
    "\n",
    "\n",
    "def train_models(X, y):\n",
    "    random_state = 42\n",
    "\n",
    "    # Spot Check\n",
    "    models = []\n",
    "    models.append(('Calibrated-LSVC', CalibratedClassifierCV(LinearSVC(random_state=42, class_weight='balanced', dual='auto'))))\n",
    "    models.append(('LR', LogisticRegression(random_state=42, n_jobs=-1, class_weight='balanced')))\n",
    "    models.append(('RF', RandomForestClassifier(random_state=42, n_jobs=-1, class_weight='balanced')))\n",
    "\n",
    "    #models.append(('XGB', XGBClassifier(random_state=42, n_jobs=-1, class_weight='balanced', verbosity=0)))\n",
    "    models.append(('MLP', MLPClassifier(random_state=42)))\n",
    "    models.append(('SGD', SGDClassifier(random_state=42, n_jobs=-1, class_weight='balanced')))\n",
    "    models.append(('NB', MultinomialNB()))\n",
    "    models.append(('LSVC', LinearSVC(random_state=42, class_weight='balanced')))\n",
    "    models.append(('KNN', KNeighborsClassifier(n_jobs=-1)))\n",
    "    models.append(('DT', DecisionTreeClassifier(random_state=42, class_weight='balanced')))\n",
    "    models.append(('ExtraTrees', ExtraTreesClassifier(random_state=42, n_jobs=-1, class_weight='balanced')))\n",
    "\n",
    "    #models.append(('LGBM', LGBMClassifier(random_state=42, n_jobs=-1, class_weight='balanced', verbose=-1)))\n",
    "\n",
    "    results = []\n",
    "    creports = []\n",
    "\n",
    "    cv = StratifiedKFold(n_splits=10, shuffle=True, random_state=random_state)\n",
    "\n",
    "    for name, model in models:\n",
    "        start_time = time.time()\n",
    "\n",
    "        try:\n",
    "            pred = cross_val_predict(estimator=model, X=X, y=y, cv=cv,\n",
    "                                     method=\"predict\", n_jobs=2)\n",
    "        except Exception as e:\n",
    "            print(f'Error {name} - {e}')\n",
    "            continue\n",
    "\n",
    "        f1 = f1_score(y, pred, average='micro')\n",
    "        bacc = balanced_accuracy_score(y, pred)\n",
    "        acc = accuracy_score(y, pred)\n",
    "        cr = classification_report(y, pred)\n",
    "        mcc = matthews_corrcoef(y, pred)\n",
    "        cm = confusion_matrix(y, pred)\n",
    "        creports.append([name, cr, cm])\n",
    "\n",
    "        elapsed = time.time() - start_time\n",
    "        results.append([name, f1, bacc, acc, mcc, elapsed, cm, cr,])\n",
    "\n",
    "        msg = f'Name: {name} - F1: {f1:.4f} - BACC: {bacc:.4f} - ACC: {acc:.4f} - MCC: {mcc:.4f} - Elapsed: {elapsed:.2f}s'\n",
    "        print(msg)\n",
    "        print(cr)\n",
    "        print(cm)\n",
    "        print('*' * 20, '\\n')\n",
    "\n",
    "    columns = ['Model', 'F1', 'BACC', 'ACC', 'MCC', 'Total Time', 'Confusion Matrix', 'Classification Report']\n",
    "    df_results = pd.DataFrame(results, columns=columns)\n",
    "    df_results['Confusion Matrix'] = df_results['Confusion Matrix'].apply(lambda x: str(x))\n",
    "\n",
    "    return df_results, creports\n",
    "\n",
    "\n",
    "#df_results, creports = train_models(X_dev, y_dev)\n",
    "\n",
    "#df_results.sort_values(by='MCC', ascending=False)"
   ]
  },
  {
   "cell_type": "code",
   "execution_count": null,
   "metadata": {},
   "outputs": [],
   "source": [
    "from sklearn.model_selection import GridSearchCV\n",
    "\"\"\"\n",
    "# Define a grade de hiperparâmetros\n",
    "param_grid = {\n",
    "    # Diferentes combinações para as duas camadas ocultas:\n",
    "    'hidden_layer_sizes': [(50, 50), (100, 50), (100, 100), (150, 50)],\n",
    "    # Funções de ativação: tanh e logistic (sigmoid)\n",
    "    'activation': ['tanh', 'logistic'],\n",
    "    # Solver pode ser ajustado também, aqui usamos o 'adam' como exemplo\n",
    "    'solver': ['adam']\n",
    "}\n",
    "\n",
    "# Cria o classificador MLP\n",
    "mlp = MLPClassifier(max_iter=500, random_state=42)\n",
    "\n",
    "# Configura o GridSearchCV para buscar os melhores parâmetros\n",
    "grid_search = GridSearchCV(estimator=mlp,\n",
    "                           param_grid=param_grid,\n",
    "                           cv=5,\n",
    "                           n_jobs=-1,\n",
    "                           verbose=2)\n",
    "\n",
    "# Executa a busca nos dados de treinamento\n",
    "grid_search.fit(X_dev, y_dev)\n",
    "\n",
    "# Exibe os melhores parâmetros e a pontuação associada\n",
    "print(\"Melhores parâmetros encontrados:\")\n",
    "print(grid_search.best_params_)\n",
    "print(\"Melhor pontuação (CV): {:.4f}\".format(grid_search.best_score_))\n",
    "\n",
    "# Avalia o modelo no conjunto de teste\n",
    "score = grid_search.score(X_dev, y_dev)\n",
    "\"\"\""
   ]
  },
  {
   "cell_type": "code",
   "execution_count": 7,
   "metadata": {},
   "outputs": [
    {
     "data": {
      "text/plain": [
       "'\\n# Exibe os melhores parâmetros e a pontuação associada\\nprint(\"Melhores parâmetros encontrados:\")\\nprint(grid_search.best_params_)\\nprint(\"Melhor pontuação (CV): {:.4f}\".format(grid_search.best_score_))\\n\\n# Avalia o modelo no conjunto de teste\\nscore = grid_search.score(X_dev, y_dev)\\n'"
      ]
     },
     "execution_count": 7,
     "metadata": {},
     "output_type": "execute_result"
    }
   ],
   "source": [
    "\"\"\"\n",
    "# Exibe os melhores parâmetros e a pontuação associada\n",
    "print(\"Melhores parâmetros encontrados:\")\n",
    "print(grid_search.best_params_)\n",
    "print(\"Melhor pontuação (CV): {:.4f}\".format(grid_search.best_score_))\n",
    "\n",
    "# Avalia o modelo no conjunto de teste\n",
    "score = grid_search.score(X_dev, y_dev)\n",
    "\"\"\""
   ]
  },
  {
   "cell_type": "code",
   "execution_count": null,
   "metadata": {},
   "outputs": [
    {
     "data": {
      "text/html": [
       "<div>\n",
       "<style scoped>\n",
       "    .dataframe tbody tr th:only-of-type {\n",
       "        vertical-align: middle;\n",
       "    }\n",
       "\n",
       "    .dataframe tbody tr th {\n",
       "        vertical-align: top;\n",
       "    }\n",
       "\n",
       "    .dataframe thead th {\n",
       "        text-align: right;\n",
       "    }\n",
       "</style>\n",
       "<table border=\"1\" class=\"dataframe\">\n",
       "  <thead>\n",
       "    <tr style=\"text-align: right;\">\n",
       "      <th></th>\n",
       "      <th>Unnamed: 0</th>\n",
       "      <th>annotation_id</th>\n",
       "      <th>annotator</th>\n",
       "      <th>classeJudicial</th>\n",
       "      <th>created_at</th>\n",
       "      <th>id</th>\n",
       "      <th>lead_time</th>\n",
       "      <th>numeroProcesso</th>\n",
       "      <th>resumo</th>\n",
       "      <th>texto</th>\n",
       "      <th>ufClasse</th>\n",
       "      <th>updated_at</th>\n",
       "    </tr>\n",
       "  </thead>\n",
       "  <tbody>\n",
       "    <tr>\n",
       "      <th>50</th>\n",
       "      <td>4698</td>\n",
       "      <td>51</td>\n",
       "      <td>1</td>\n",
       "      <td>APELAÇÃO CÍVEL</td>\n",
       "      <td>2025-02-17T23:43:02.388439Z</td>\n",
       "      <td>51</td>\n",
       "      <td>7.951</td>\n",
       "      <td>08026869420234058100</td>\n",
       "      <td>(PROCESSO: 08026869420234058100, APELAÇÃO CÍVE...</td>\n",
       "      <td>\\r\\n EMENTA \\r\\n ADMINISTRATIVO. FIES. PRORROG...</td>\n",
       "      <td>NaN</td>\n",
       "      <td>2025-02-17T23:43:02.388439Z</td>\n",
       "    </tr>\n",
       "    <tr>\n",
       "      <th>1404</th>\n",
       "      <td>21072</td>\n",
       "      <td>1405</td>\n",
       "      <td>1</td>\n",
       "      <td>APELAÇÃO CÍVEL</td>\n",
       "      <td>2025-02-19T12:40:57.283505Z</td>\n",
       "      <td>1405</td>\n",
       "      <td>5.650</td>\n",
       "      <td>08214877920194058300</td>\n",
       "      <td>(PROCESSO: 08214877920194058300, APELAÇÃO CÍVE...</td>\n",
       "      <td>\\r\\n ADMINISTRATIVO. SERVIDOR PÚBLICO FEDERAL....</td>\n",
       "      <td>NaN</td>\n",
       "      <td>2025-02-19T12:40:57.283505Z</td>\n",
       "    </tr>\n",
       "    <tr>\n",
       "      <th>884</th>\n",
       "      <td>14340</td>\n",
       "      <td>885</td>\n",
       "      <td>1</td>\n",
       "      <td>AGRAVO DE INSTRUMENTO</td>\n",
       "      <td>2025-02-18T18:38:28.783276Z</td>\n",
       "      <td>885</td>\n",
       "      <td>4.893</td>\n",
       "      <td>08085425520244050000</td>\n",
       "      <td>(PROCESSO: 08085425520244050000, AGRAVO DE INS...</td>\n",
       "      <td>\\r\\n PROCESSO Nº: 0808542-55.2024.4.05.0000 - ...</td>\n",
       "      <td>NaN</td>\n",
       "      <td>2025-02-18T18:38:28.783276Z</td>\n",
       "    </tr>\n",
       "    <tr>\n",
       "      <th>2319</th>\n",
       "      <td>10548</td>\n",
       "      <td>2320</td>\n",
       "      <td>1</td>\n",
       "      <td>APELAÇÃO CÍVEL</td>\n",
       "      <td>2025-02-19T20:49:53.234909Z</td>\n",
       "      <td>2320</td>\n",
       "      <td>1.813</td>\n",
       "      <td>08029560920234058201</td>\n",
       "      <td>(PROCESSO: 08029560920234058201, APELAÇÃO CÍVE...</td>\n",
       "      <td>PROCESSO Nº: 0802956-09.2023.4.05.8201 - APELA...</td>\n",
       "      <td>NaN</td>\n",
       "      <td>2025-02-19T20:49:53.234909Z</td>\n",
       "    </tr>\n",
       "    <tr>\n",
       "      <th>1740</th>\n",
       "      <td>20905</td>\n",
       "      <td>1741</td>\n",
       "      <td>1</td>\n",
       "      <td>APELAÇÃO CÍVEL</td>\n",
       "      <td>2025-02-19T14:24:49.258787Z</td>\n",
       "      <td>1741</td>\n",
       "      <td>5.146</td>\n",
       "      <td>08026523820224058300</td>\n",
       "      <td>(PROCESSO: 08026523820224058300, APELAÇÃO CÍVE...</td>\n",
       "      <td>\\r\\n Ementa \\r\\n \\r\\n Processual Civil. Apelaç...</td>\n",
       "      <td>NaN</td>\n",
       "      <td>2025-02-19T14:24:49.258787Z</td>\n",
       "    </tr>\n",
       "    <tr>\n",
       "      <th>...</th>\n",
       "      <td>...</td>\n",
       "      <td>...</td>\n",
       "      <td>...</td>\n",
       "      <td>...</td>\n",
       "      <td>...</td>\n",
       "      <td>...</td>\n",
       "      <td>...</td>\n",
       "      <td>...</td>\n",
       "      <td>...</td>\n",
       "      <td>...</td>\n",
       "      <td>...</td>\n",
       "      <td>...</td>\n",
       "    </tr>\n",
       "    <tr>\n",
       "      <th>1850</th>\n",
       "      <td>11983</td>\n",
       "      <td>1851</td>\n",
       "      <td>1</td>\n",
       "      <td>APELAÇÃO CÍVEL</td>\n",
       "      <td>2025-02-19T14:51:18.053347Z</td>\n",
       "      <td>1851</td>\n",
       "      <td>4.212</td>\n",
       "      <td>08096657220234058100</td>\n",
       "      <td>(PROCESSO: 08096657220234058100, APELAÇÃO CÍVE...</td>\n",
       "      <td>\\r\\n EMENTA \\r\\n PROCESSUAL CIVIL. REEXPEDIÇÃO...</td>\n",
       "      <td>NaN</td>\n",
       "      <td>2025-02-19T14:51:18.053347Z</td>\n",
       "    </tr>\n",
       "    <tr>\n",
       "      <th>688</th>\n",
       "      <td>17087</td>\n",
       "      <td>689</td>\n",
       "      <td>1</td>\n",
       "      <td>APELAÇÃO CÍVEL</td>\n",
       "      <td>2025-02-18T15:39:12.807491Z</td>\n",
       "      <td>689</td>\n",
       "      <td>10.257</td>\n",
       "      <td>08018091420244058200</td>\n",
       "      <td>(PROCESSO: 08018091420244058200, APELAÇÃO CÍVE...</td>\n",
       "      <td>PROCESSO Nº: 0801809-14.2024.4.05.8200 - APELA...</td>\n",
       "      <td>NaN</td>\n",
       "      <td>2025-02-18T15:39:12.807491Z</td>\n",
       "    </tr>\n",
       "    <tr>\n",
       "      <th>1469</th>\n",
       "      <td>6945</td>\n",
       "      <td>1470</td>\n",
       "      <td>1</td>\n",
       "      <td>APELAÇÃO CÍVEL</td>\n",
       "      <td>2025-02-19T12:51:54.465867Z</td>\n",
       "      <td>1470</td>\n",
       "      <td>4.837</td>\n",
       "      <td>08018127720228150261</td>\n",
       "      <td>(PROCESSO: 08018127720228150261, APELAÇÃO CÍVE...</td>\n",
       "      <td>\\r\\n EMENTA \\r\\n PREVIDENCIÁRIO. SEGURADA ESPE...</td>\n",
       "      <td>NaN</td>\n",
       "      <td>2025-02-19T12:51:54.465867Z</td>\n",
       "    </tr>\n",
       "    <tr>\n",
       "      <th>2673</th>\n",
       "      <td>8873</td>\n",
       "      <td>2674</td>\n",
       "      <td>1</td>\n",
       "      <td>AGRAVO DE INSTRUMENTO</td>\n",
       "      <td>2025-02-19T22:19:24.079616Z</td>\n",
       "      <td>2674</td>\n",
       "      <td>4.666</td>\n",
       "      <td>08077527120244050000</td>\n",
       "      <td>(PROCESSO: 08077527120244050000, AGRAVO DE INS...</td>\n",
       "      <td>\\r\\n CUMPRIMENTO INDIVIDUAL DE SENTENÇA COLETI...</td>\n",
       "      <td>NaN</td>\n",
       "      <td>2025-02-19T22:19:24.079616Z</td>\n",
       "    </tr>\n",
       "    <tr>\n",
       "      <th>558</th>\n",
       "      <td>6432</td>\n",
       "      <td>559</td>\n",
       "      <td>1</td>\n",
       "      <td>APELAÇÃO CÍVEL</td>\n",
       "      <td>2025-02-18T14:46:14.070427Z</td>\n",
       "      <td>559</td>\n",
       "      <td>10.779</td>\n",
       "      <td>08104221020214058400</td>\n",
       "      <td>(PROCESSO: 08104221020214058400, APELAÇÃO CÍVE...</td>\n",
       "      <td>PROCESSO Nº: 0810422-10.2021.4.05.8400 - APELA...</td>\n",
       "      <td>NaN</td>\n",
       "      <td>2025-02-18T14:46:14.070427Z</td>\n",
       "    </tr>\n",
       "  </tbody>\n",
       "</table>\n",
       "<p>2324 rows × 12 columns</p>\n",
       "</div>"
      ],
      "text/plain": [
       "      Unnamed: 0  annotation_id  annotator         classeJudicial  \\\n",
       "50          4698             51          1         APELAÇÃO CÍVEL   \n",
       "1404       21072           1405          1         APELAÇÃO CÍVEL   \n",
       "884        14340            885          1  AGRAVO DE INSTRUMENTO   \n",
       "2319       10548           2320          1         APELAÇÃO CÍVEL   \n",
       "1740       20905           1741          1         APELAÇÃO CÍVEL   \n",
       "...          ...            ...        ...                    ...   \n",
       "1850       11983           1851          1         APELAÇÃO CÍVEL   \n",
       "688        17087            689          1         APELAÇÃO CÍVEL   \n",
       "1469        6945           1470          1         APELAÇÃO CÍVEL   \n",
       "2673        8873           2674          1  AGRAVO DE INSTRUMENTO   \n",
       "558         6432            559          1         APELAÇÃO CÍVEL   \n",
       "\n",
       "                       created_at    id  lead_time        numeroProcesso  \\\n",
       "50    2025-02-17T23:43:02.388439Z    51      7.951  08026869420234058100   \n",
       "1404  2025-02-19T12:40:57.283505Z  1405      5.650  08214877920194058300   \n",
       "884   2025-02-18T18:38:28.783276Z   885      4.893  08085425520244050000   \n",
       "2319  2025-02-19T20:49:53.234909Z  2320      1.813  08029560920234058201   \n",
       "1740  2025-02-19T14:24:49.258787Z  1741      5.146  08026523820224058300   \n",
       "...                           ...   ...        ...                   ...   \n",
       "1850  2025-02-19T14:51:18.053347Z  1851      4.212  08096657220234058100   \n",
       "688   2025-02-18T15:39:12.807491Z   689     10.257  08018091420244058200   \n",
       "1469  2025-02-19T12:51:54.465867Z  1470      4.837  08018127720228150261   \n",
       "2673  2025-02-19T22:19:24.079616Z  2674      4.666  08077527120244050000   \n",
       "558   2025-02-18T14:46:14.070427Z   559     10.779  08104221020214058400   \n",
       "\n",
       "                                                 resumo  \\\n",
       "50    (PROCESSO: 08026869420234058100, APELAÇÃO CÍVE...   \n",
       "1404  (PROCESSO: 08214877920194058300, APELAÇÃO CÍVE...   \n",
       "884   (PROCESSO: 08085425520244050000, AGRAVO DE INS...   \n",
       "2319  (PROCESSO: 08029560920234058201, APELAÇÃO CÍVE...   \n",
       "1740  (PROCESSO: 08026523820224058300, APELAÇÃO CÍVE...   \n",
       "...                                                 ...   \n",
       "1850  (PROCESSO: 08096657220234058100, APELAÇÃO CÍVE...   \n",
       "688   (PROCESSO: 08018091420244058200, APELAÇÃO CÍVE...   \n",
       "1469  (PROCESSO: 08018127720228150261, APELAÇÃO CÍVE...   \n",
       "2673  (PROCESSO: 08077527120244050000, AGRAVO DE INS...   \n",
       "558   (PROCESSO: 08104221020214058400, APELAÇÃO CÍVE...   \n",
       "\n",
       "                                                  texto  ufClasse  \\\n",
       "50    \\r\\n EMENTA \\r\\n ADMINISTRATIVO. FIES. PRORROG...       NaN   \n",
       "1404  \\r\\n ADMINISTRATIVO. SERVIDOR PÚBLICO FEDERAL....       NaN   \n",
       "884   \\r\\n PROCESSO Nº: 0808542-55.2024.4.05.0000 - ...       NaN   \n",
       "2319  PROCESSO Nº: 0802956-09.2023.4.05.8201 - APELA...       NaN   \n",
       "1740  \\r\\n Ementa \\r\\n \\r\\n Processual Civil. Apelaç...       NaN   \n",
       "...                                                 ...       ...   \n",
       "1850  \\r\\n EMENTA \\r\\n PROCESSUAL CIVIL. REEXPEDIÇÃO...       NaN   \n",
       "688   PROCESSO Nº: 0801809-14.2024.4.05.8200 - APELA...       NaN   \n",
       "1469  \\r\\n EMENTA \\r\\n PREVIDENCIÁRIO. SEGURADA ESPE...       NaN   \n",
       "2673  \\r\\n CUMPRIMENTO INDIVIDUAL DE SENTENÇA COLETI...       NaN   \n",
       "558   PROCESSO Nº: 0810422-10.2021.4.05.8400 - APELA...       NaN   \n",
       "\n",
       "                       updated_at  \n",
       "50    2025-02-17T23:43:02.388439Z  \n",
       "1404  2025-02-19T12:40:57.283505Z  \n",
       "884   2025-02-18T18:38:28.783276Z  \n",
       "2319  2025-02-19T20:49:53.234909Z  \n",
       "1740  2025-02-19T14:24:49.258787Z  \n",
       "...                           ...  \n",
       "1850  2025-02-19T14:51:18.053347Z  \n",
       "688   2025-02-18T15:39:12.807491Z  \n",
       "1469  2025-02-19T12:51:54.465867Z  \n",
       "2673  2025-02-19T22:19:24.079616Z  \n",
       "558   2025-02-18T14:46:14.070427Z  \n",
       "\n",
       "[2324 rows x 12 columns]"
      ]
     },
     "execution_count": 15,
     "metadata": {},
     "output_type": "execute_result"
    }
   ],
   "source": [
    "X_train"
   ]
  },
  {
   "cell_type": "code",
   "execution_count": null,
   "metadata": {},
   "outputs": [
    {
     "name": "stdout",
     "output_type": "stream",
     "text": [
      "(464, 12)\n"
     ]
    },
    {
     "data": {
      "text/html": [
       "<style>#sk-container-id-1 {\n",
       "  /* Definition of color scheme common for light and dark mode */\n",
       "  --sklearn-color-text: black;\n",
       "  --sklearn-color-line: gray;\n",
       "  /* Definition of color scheme for unfitted estimators */\n",
       "  --sklearn-color-unfitted-level-0: #fff5e6;\n",
       "  --sklearn-color-unfitted-level-1: #f6e4d2;\n",
       "  --sklearn-color-unfitted-level-2: #ffe0b3;\n",
       "  --sklearn-color-unfitted-level-3: chocolate;\n",
       "  /* Definition of color scheme for fitted estimators */\n",
       "  --sklearn-color-fitted-level-0: #f0f8ff;\n",
       "  --sklearn-color-fitted-level-1: #d4ebff;\n",
       "  --sklearn-color-fitted-level-2: #b3dbfd;\n",
       "  --sklearn-color-fitted-level-3: cornflowerblue;\n",
       "\n",
       "  /* Specific color for light theme */\n",
       "  --sklearn-color-text-on-default-background: var(--sg-text-color, var(--theme-code-foreground, var(--jp-content-font-color1, black)));\n",
       "  --sklearn-color-background: var(--sg-background-color, var(--theme-background, var(--jp-layout-color0, white)));\n",
       "  --sklearn-color-border-box: var(--sg-text-color, var(--theme-code-foreground, var(--jp-content-font-color1, black)));\n",
       "  --sklearn-color-icon: #696969;\n",
       "\n",
       "  @media (prefers-color-scheme: dark) {\n",
       "    /* Redefinition of color scheme for dark theme */\n",
       "    --sklearn-color-text-on-default-background: var(--sg-text-color, var(--theme-code-foreground, var(--jp-content-font-color1, white)));\n",
       "    --sklearn-color-background: var(--sg-background-color, var(--theme-background, var(--jp-layout-color0, #111)));\n",
       "    --sklearn-color-border-box: var(--sg-text-color, var(--theme-code-foreground, var(--jp-content-font-color1, white)));\n",
       "    --sklearn-color-icon: #878787;\n",
       "  }\n",
       "}\n",
       "\n",
       "#sk-container-id-1 {\n",
       "  color: var(--sklearn-color-text);\n",
       "}\n",
       "\n",
       "#sk-container-id-1 pre {\n",
       "  padding: 0;\n",
       "}\n",
       "\n",
       "#sk-container-id-1 input.sk-hidden--visually {\n",
       "  border: 0;\n",
       "  clip: rect(1px 1px 1px 1px);\n",
       "  clip: rect(1px, 1px, 1px, 1px);\n",
       "  height: 1px;\n",
       "  margin: -1px;\n",
       "  overflow: hidden;\n",
       "  padding: 0;\n",
       "  position: absolute;\n",
       "  width: 1px;\n",
       "}\n",
       "\n",
       "#sk-container-id-1 div.sk-dashed-wrapped {\n",
       "  border: 1px dashed var(--sklearn-color-line);\n",
       "  margin: 0 0.4em 0.5em 0.4em;\n",
       "  box-sizing: border-box;\n",
       "  padding-bottom: 0.4em;\n",
       "  background-color: var(--sklearn-color-background);\n",
       "}\n",
       "\n",
       "#sk-container-id-1 div.sk-container {\n",
       "  /* jupyter's `normalize.less` sets `[hidden] { display: none; }`\n",
       "     but bootstrap.min.css set `[hidden] { display: none !important; }`\n",
       "     so we also need the `!important` here to be able to override the\n",
       "     default hidden behavior on the sphinx rendered scikit-learn.org.\n",
       "     See: https://github.com/scikit-learn/scikit-learn/issues/21755 */\n",
       "  display: inline-block !important;\n",
       "  position: relative;\n",
       "}\n",
       "\n",
       "#sk-container-id-1 div.sk-text-repr-fallback {\n",
       "  display: none;\n",
       "}\n",
       "\n",
       "div.sk-parallel-item,\n",
       "div.sk-serial,\n",
       "div.sk-item {\n",
       "  /* draw centered vertical line to link estimators */\n",
       "  background-image: linear-gradient(var(--sklearn-color-text-on-default-background), var(--sklearn-color-text-on-default-background));\n",
       "  background-size: 2px 100%;\n",
       "  background-repeat: no-repeat;\n",
       "  background-position: center center;\n",
       "}\n",
       "\n",
       "/* Parallel-specific style estimator block */\n",
       "\n",
       "#sk-container-id-1 div.sk-parallel-item::after {\n",
       "  content: \"\";\n",
       "  width: 100%;\n",
       "  border-bottom: 2px solid var(--sklearn-color-text-on-default-background);\n",
       "  flex-grow: 1;\n",
       "}\n",
       "\n",
       "#sk-container-id-1 div.sk-parallel {\n",
       "  display: flex;\n",
       "  align-items: stretch;\n",
       "  justify-content: center;\n",
       "  background-color: var(--sklearn-color-background);\n",
       "  position: relative;\n",
       "}\n",
       "\n",
       "#sk-container-id-1 div.sk-parallel-item {\n",
       "  display: flex;\n",
       "  flex-direction: column;\n",
       "}\n",
       "\n",
       "#sk-container-id-1 div.sk-parallel-item:first-child::after {\n",
       "  align-self: flex-end;\n",
       "  width: 50%;\n",
       "}\n",
       "\n",
       "#sk-container-id-1 div.sk-parallel-item:last-child::after {\n",
       "  align-self: flex-start;\n",
       "  width: 50%;\n",
       "}\n",
       "\n",
       "#sk-container-id-1 div.sk-parallel-item:only-child::after {\n",
       "  width: 0;\n",
       "}\n",
       "\n",
       "/* Serial-specific style estimator block */\n",
       "\n",
       "#sk-container-id-1 div.sk-serial {\n",
       "  display: flex;\n",
       "  flex-direction: column;\n",
       "  align-items: center;\n",
       "  background-color: var(--sklearn-color-background);\n",
       "  padding-right: 1em;\n",
       "  padding-left: 1em;\n",
       "}\n",
       "\n",
       "\n",
       "/* Toggleable style: style used for estimator/Pipeline/ColumnTransformer box that is\n",
       "clickable and can be expanded/collapsed.\n",
       "- Pipeline and ColumnTransformer use this feature and define the default style\n",
       "- Estimators will overwrite some part of the style using the `sk-estimator` class\n",
       "*/\n",
       "\n",
       "/* Pipeline and ColumnTransformer style (default) */\n",
       "\n",
       "#sk-container-id-1 div.sk-toggleable {\n",
       "  /* Default theme specific background. It is overwritten whether we have a\n",
       "  specific estimator or a Pipeline/ColumnTransformer */\n",
       "  background-color: var(--sklearn-color-background);\n",
       "}\n",
       "\n",
       "/* Toggleable label */\n",
       "#sk-container-id-1 label.sk-toggleable__label {\n",
       "  cursor: pointer;\n",
       "  display: block;\n",
       "  width: 100%;\n",
       "  margin-bottom: 0;\n",
       "  padding: 0.5em;\n",
       "  box-sizing: border-box;\n",
       "  text-align: center;\n",
       "}\n",
       "\n",
       "#sk-container-id-1 label.sk-toggleable__label-arrow:before {\n",
       "  /* Arrow on the left of the label */\n",
       "  content: \"▸\";\n",
       "  float: left;\n",
       "  margin-right: 0.25em;\n",
       "  color: var(--sklearn-color-icon);\n",
       "}\n",
       "\n",
       "#sk-container-id-1 label.sk-toggleable__label-arrow:hover:before {\n",
       "  color: var(--sklearn-color-text);\n",
       "}\n",
       "\n",
       "/* Toggleable content - dropdown */\n",
       "\n",
       "#sk-container-id-1 div.sk-toggleable__content {\n",
       "  max-height: 0;\n",
       "  max-width: 0;\n",
       "  overflow: hidden;\n",
       "  text-align: left;\n",
       "  /* unfitted */\n",
       "  background-color: var(--sklearn-color-unfitted-level-0);\n",
       "}\n",
       "\n",
       "#sk-container-id-1 div.sk-toggleable__content.fitted {\n",
       "  /* fitted */\n",
       "  background-color: var(--sklearn-color-fitted-level-0);\n",
       "}\n",
       "\n",
       "#sk-container-id-1 div.sk-toggleable__content pre {\n",
       "  margin: 0.2em;\n",
       "  border-radius: 0.25em;\n",
       "  color: var(--sklearn-color-text);\n",
       "  /* unfitted */\n",
       "  background-color: var(--sklearn-color-unfitted-level-0);\n",
       "}\n",
       "\n",
       "#sk-container-id-1 div.sk-toggleable__content.fitted pre {\n",
       "  /* unfitted */\n",
       "  background-color: var(--sklearn-color-fitted-level-0);\n",
       "}\n",
       "\n",
       "#sk-container-id-1 input.sk-toggleable__control:checked~div.sk-toggleable__content {\n",
       "  /* Expand drop-down */\n",
       "  max-height: 200px;\n",
       "  max-width: 100%;\n",
       "  overflow: auto;\n",
       "}\n",
       "\n",
       "#sk-container-id-1 input.sk-toggleable__control:checked~label.sk-toggleable__label-arrow:before {\n",
       "  content: \"▾\";\n",
       "}\n",
       "\n",
       "/* Pipeline/ColumnTransformer-specific style */\n",
       "\n",
       "#sk-container-id-1 div.sk-label input.sk-toggleable__control:checked~label.sk-toggleable__label {\n",
       "  color: var(--sklearn-color-text);\n",
       "  background-color: var(--sklearn-color-unfitted-level-2);\n",
       "}\n",
       "\n",
       "#sk-container-id-1 div.sk-label.fitted input.sk-toggleable__control:checked~label.sk-toggleable__label {\n",
       "  background-color: var(--sklearn-color-fitted-level-2);\n",
       "}\n",
       "\n",
       "/* Estimator-specific style */\n",
       "\n",
       "/* Colorize estimator box */\n",
       "#sk-container-id-1 div.sk-estimator input.sk-toggleable__control:checked~label.sk-toggleable__label {\n",
       "  /* unfitted */\n",
       "  background-color: var(--sklearn-color-unfitted-level-2);\n",
       "}\n",
       "\n",
       "#sk-container-id-1 div.sk-estimator.fitted input.sk-toggleable__control:checked~label.sk-toggleable__label {\n",
       "  /* fitted */\n",
       "  background-color: var(--sklearn-color-fitted-level-2);\n",
       "}\n",
       "\n",
       "#sk-container-id-1 div.sk-label label.sk-toggleable__label,\n",
       "#sk-container-id-1 div.sk-label label {\n",
       "  /* The background is the default theme color */\n",
       "  color: var(--sklearn-color-text-on-default-background);\n",
       "}\n",
       "\n",
       "/* On hover, darken the color of the background */\n",
       "#sk-container-id-1 div.sk-label:hover label.sk-toggleable__label {\n",
       "  color: var(--sklearn-color-text);\n",
       "  background-color: var(--sklearn-color-unfitted-level-2);\n",
       "}\n",
       "\n",
       "/* Label box, darken color on hover, fitted */\n",
       "#sk-container-id-1 div.sk-label.fitted:hover label.sk-toggleable__label.fitted {\n",
       "  color: var(--sklearn-color-text);\n",
       "  background-color: var(--sklearn-color-fitted-level-2);\n",
       "}\n",
       "\n",
       "/* Estimator label */\n",
       "\n",
       "#sk-container-id-1 div.sk-label label {\n",
       "  font-family: monospace;\n",
       "  font-weight: bold;\n",
       "  display: inline-block;\n",
       "  line-height: 1.2em;\n",
       "}\n",
       "\n",
       "#sk-container-id-1 div.sk-label-container {\n",
       "  text-align: center;\n",
       "}\n",
       "\n",
       "/* Estimator-specific */\n",
       "#sk-container-id-1 div.sk-estimator {\n",
       "  font-family: monospace;\n",
       "  border: 1px dotted var(--sklearn-color-border-box);\n",
       "  border-radius: 0.25em;\n",
       "  box-sizing: border-box;\n",
       "  margin-bottom: 0.5em;\n",
       "  /* unfitted */\n",
       "  background-color: var(--sklearn-color-unfitted-level-0);\n",
       "}\n",
       "\n",
       "#sk-container-id-1 div.sk-estimator.fitted {\n",
       "  /* fitted */\n",
       "  background-color: var(--sklearn-color-fitted-level-0);\n",
       "}\n",
       "\n",
       "/* on hover */\n",
       "#sk-container-id-1 div.sk-estimator:hover {\n",
       "  /* unfitted */\n",
       "  background-color: var(--sklearn-color-unfitted-level-2);\n",
       "}\n",
       "\n",
       "#sk-container-id-1 div.sk-estimator.fitted:hover {\n",
       "  /* fitted */\n",
       "  background-color: var(--sklearn-color-fitted-level-2);\n",
       "}\n",
       "\n",
       "/* Specification for estimator info (e.g. \"i\" and \"?\") */\n",
       "\n",
       "/* Common style for \"i\" and \"?\" */\n",
       "\n",
       ".sk-estimator-doc-link,\n",
       "a:link.sk-estimator-doc-link,\n",
       "a:visited.sk-estimator-doc-link {\n",
       "  float: right;\n",
       "  font-size: smaller;\n",
       "  line-height: 1em;\n",
       "  font-family: monospace;\n",
       "  background-color: var(--sklearn-color-background);\n",
       "  border-radius: 1em;\n",
       "  height: 1em;\n",
       "  width: 1em;\n",
       "  text-decoration: none !important;\n",
       "  margin-left: 1ex;\n",
       "  /* unfitted */\n",
       "  border: var(--sklearn-color-unfitted-level-1) 1pt solid;\n",
       "  color: var(--sklearn-color-unfitted-level-1);\n",
       "}\n",
       "\n",
       ".sk-estimator-doc-link.fitted,\n",
       "a:link.sk-estimator-doc-link.fitted,\n",
       "a:visited.sk-estimator-doc-link.fitted {\n",
       "  /* fitted */\n",
       "  border: var(--sklearn-color-fitted-level-1) 1pt solid;\n",
       "  color: var(--sklearn-color-fitted-level-1);\n",
       "}\n",
       "\n",
       "/* On hover */\n",
       "div.sk-estimator:hover .sk-estimator-doc-link:hover,\n",
       ".sk-estimator-doc-link:hover,\n",
       "div.sk-label-container:hover .sk-estimator-doc-link:hover,\n",
       ".sk-estimator-doc-link:hover {\n",
       "  /* unfitted */\n",
       "  background-color: var(--sklearn-color-unfitted-level-3);\n",
       "  color: var(--sklearn-color-background);\n",
       "  text-decoration: none;\n",
       "}\n",
       "\n",
       "div.sk-estimator.fitted:hover .sk-estimator-doc-link.fitted:hover,\n",
       ".sk-estimator-doc-link.fitted:hover,\n",
       "div.sk-label-container:hover .sk-estimator-doc-link.fitted:hover,\n",
       ".sk-estimator-doc-link.fitted:hover {\n",
       "  /* fitted */\n",
       "  background-color: var(--sklearn-color-fitted-level-3);\n",
       "  color: var(--sklearn-color-background);\n",
       "  text-decoration: none;\n",
       "}\n",
       "\n",
       "/* Span, style for the box shown on hovering the info icon */\n",
       ".sk-estimator-doc-link span {\n",
       "  display: none;\n",
       "  z-index: 9999;\n",
       "  position: relative;\n",
       "  font-weight: normal;\n",
       "  right: .2ex;\n",
       "  padding: .5ex;\n",
       "  margin: .5ex;\n",
       "  width: min-content;\n",
       "  min-width: 20ex;\n",
       "  max-width: 50ex;\n",
       "  color: var(--sklearn-color-text);\n",
       "  box-shadow: 2pt 2pt 4pt #999;\n",
       "  /* unfitted */\n",
       "  background: var(--sklearn-color-unfitted-level-0);\n",
       "  border: .5pt solid var(--sklearn-color-unfitted-level-3);\n",
       "}\n",
       "\n",
       ".sk-estimator-doc-link.fitted span {\n",
       "  /* fitted */\n",
       "  background: var(--sklearn-color-fitted-level-0);\n",
       "  border: var(--sklearn-color-fitted-level-3);\n",
       "}\n",
       "\n",
       ".sk-estimator-doc-link:hover span {\n",
       "  display: block;\n",
       "}\n",
       "\n",
       "/* \"?\"-specific style due to the `<a>` HTML tag */\n",
       "\n",
       "#sk-container-id-1 a.estimator_doc_link {\n",
       "  float: right;\n",
       "  font-size: 1rem;\n",
       "  line-height: 1em;\n",
       "  font-family: monospace;\n",
       "  background-color: var(--sklearn-color-background);\n",
       "  border-radius: 1rem;\n",
       "  height: 1rem;\n",
       "  width: 1rem;\n",
       "  text-decoration: none;\n",
       "  /* unfitted */\n",
       "  color: var(--sklearn-color-unfitted-level-1);\n",
       "  border: var(--sklearn-color-unfitted-level-1) 1pt solid;\n",
       "}\n",
       "\n",
       "#sk-container-id-1 a.estimator_doc_link.fitted {\n",
       "  /* fitted */\n",
       "  border: var(--sklearn-color-fitted-level-1) 1pt solid;\n",
       "  color: var(--sklearn-color-fitted-level-1);\n",
       "}\n",
       "\n",
       "/* On hover */\n",
       "#sk-container-id-1 a.estimator_doc_link:hover {\n",
       "  /* unfitted */\n",
       "  background-color: var(--sklearn-color-unfitted-level-3);\n",
       "  color: var(--sklearn-color-background);\n",
       "  text-decoration: none;\n",
       "}\n",
       "\n",
       "#sk-container-id-1 a.estimator_doc_link.fitted:hover {\n",
       "  /* fitted */\n",
       "  background-color: var(--sklearn-color-fitted-level-3);\n",
       "}\n",
       "</style><div id=\"sk-container-id-1\" class=\"sk-top-container\"><div class=\"sk-text-repr-fallback\"><pre>MLPClassifier(activation=&#x27;tanh&#x27;, hidden_layer_sizes=(100, 50), max_iter=500,\n",
       "              random_state=42)</pre><b>In a Jupyter environment, please rerun this cell to show the HTML representation or trust the notebook. <br />On GitHub, the HTML representation is unable to render, please try loading this page with nbviewer.org.</b></div><div class=\"sk-container\" hidden><div class=\"sk-item\"><div class=\"sk-estimator fitted sk-toggleable\"><input class=\"sk-toggleable__control sk-hidden--visually\" id=\"sk-estimator-id-1\" type=\"checkbox\" checked><label for=\"sk-estimator-id-1\" class=\"sk-toggleable__label fitted sk-toggleable__label-arrow fitted\">&nbsp;&nbsp;MLPClassifier<a class=\"sk-estimator-doc-link fitted\" rel=\"noreferrer\" target=\"_blank\" href=\"https://scikit-learn.org/1.5/modules/generated/sklearn.neural_network.MLPClassifier.html\">?<span>Documentation for MLPClassifier</span></a><span class=\"sk-estimator-doc-link fitted\">i<span>Fitted</span></span></label><div class=\"sk-toggleable__content fitted\"><pre>MLPClassifier(activation=&#x27;tanh&#x27;, hidden_layer_sizes=(100, 50), max_iter=500,\n",
       "              random_state=42)</pre></div> </div></div></div></div>"
      ],
      "text/plain": [
       "MLPClassifier(activation='tanh', hidden_layer_sizes=(100, 50), max_iter=500,\n",
       "              random_state=42)"
      ]
     },
     "execution_count": 14,
     "metadata": {},
     "output_type": "execute_result"
    }
   ],
   "source": [
    "# Cria o classificador MLP\n",
    "tfidf_vec_ssl = TfidfVectorizer(ngram_range=(1,3), strip_accents='unicode', lowercase=True, max_features=3000, min_df=10)\n",
    "\n",
    "X_vec = tfidf_vec_ssl.fit_transform(X_train.texto)\n",
    "X_vec = X_vec.toarray()\n",
    "y_vec = y_train\n",
    "print(X_vec.shape)\n",
    "\n",
    "grid_search={'activation': 'tanh', 'hidden_layer_sizes': (100, 50), 'solver': 'adam'}\n",
    "mlp = MLPClassifier(hidden_layer_sizes=grid_search['hidden_layer_sizes'],activation=grid_search['activation'],max_iter=500, random_state=42)\n",
    "\n",
    "mlp.fit(X_vec, y_vec)"
   ]
  },
  {
   "cell_type": "code",
   "execution_count": null,
   "metadata": {},
   "outputs": [],
   "source": [
    "from snorkel.preprocess import preprocessor\n",
    "lfs = [labeling_function_negativa_a,labeling_function_negativa_b,labeling_function_negativa_c,\n",
    "       labeling_function_negativa_d,labeling_function_negativa_e,labeling_function_negativa_f,\n",
    "       labeling_function_negativa_g,labeling_function_negativa_h,labeling_function_negativa_i,\n",
    "       labeling_function_negativa_j,labeling_function_negativa_k,labeling_function_negativa_l,\n",
    "       labeling_function_negativa_m,labeling_function_negativa_n,labeling_function_negativa_o,\n",
    "       labeling_function_negativa_p,\n",
    "       \n",
    "       labeling_function_positiva_a,labeling_function_positiva_b,labeling_function_positiva_c,\n",
    "       labeling_function_positiva_d,labeling_function_positiva_e,labeling_function_positiva_f,\n",
    "       labeling_function_positiva_g,labeling_function_positiva_h,labeling_function_positiva_i\n",
    "    \n",
    "]\n",
    "\n",
    "# Define a preprocessor function that adds a predicted label and score to a given example using a stacked classifier\n",
    "@preprocessor(memoize=True)\n",
    "def semi_superv_stacked_classifier(x):\n",
    "    # Vectorize the text of the example using a TF-IDF vectorizer trained on the semi-supervised dataset\n",
    "    vectorized_text = tfidf_vec_ssl.transform([x.texto])\n",
    "    # Use the stacked classifier trained on the semi-supervised dataset to predict the label probabilities for the example\n",
    "    pred_proba = mlp.predict_proba(vectorized_text)\n",
    "    # Determine the predicted label and score based on the predicted probabilities\n",
    "    pred = np.argmax(pred_proba, axis=1)\n",
    "    x.label_pred_ssl = POSITIVO if pred == 1 else NEGATIVO\n",
    "    x.score_ssl = pred_proba[0][pred]\n",
    "    # Return the example with the predicted label and score added\n",
    "    return x\n",
    "\n",
    "@labeling_function(pre=[semi_superv_stacked_classifier])\n",
    "def lf_ssl(x):\n",
    "    if x.score_ssl >= 0.60: # If we don't apply this threshold, we'd get 100% coverage. But we'd also get a wrong labels.\n",
    "        if x.label_pred_ssl == 1:\n",
    "            return POSITIVO\n",
    "        elif x.label_pred_ssl == 0:\n",
    "            return NEGATIVO\n",
    "    else:\n",
    "        return ABSTER\n",
    "lfs_mlp = lfs\n",
    "lfs_mlp.append(lf_ssl)\n",
    "\n"
   ]
  },
  {
   "cell_type": "code",
   "execution_count": null,
   "metadata": {},
   "outputs": [
    {
     "name": "stderr",
     "output_type": "stream",
     "text": [
      "100%|██████████| 2324/2324 [00:16<00:00, 141.89it/s]\n"
     ]
    },
    {
     "data": {
      "text/html": [
       "<div>\n",
       "<style scoped>\n",
       "    .dataframe tbody tr th:only-of-type {\n",
       "        vertical-align: middle;\n",
       "    }\n",
       "\n",
       "    .dataframe tbody tr th {\n",
       "        vertical-align: top;\n",
       "    }\n",
       "\n",
       "    .dataframe thead th {\n",
       "        text-align: right;\n",
       "    }\n",
       "</style>\n",
       "<table border=\"1\" class=\"dataframe\">\n",
       "  <thead>\n",
       "    <tr style=\"text-align: right;\">\n",
       "      <th></th>\n",
       "      <th>j</th>\n",
       "      <th>Polarity</th>\n",
       "      <th>Coverage</th>\n",
       "      <th>Overlaps</th>\n",
       "      <th>Conflicts</th>\n",
       "      <th>Correct</th>\n",
       "      <th>Incorrect</th>\n",
       "      <th>Emp. Acc.</th>\n",
       "    </tr>\n",
       "  </thead>\n",
       "  <tbody>\n",
       "    <tr>\n",
       "      <th>labeling_function_negativa_a</th>\n",
       "      <td>0</td>\n",
       "      <td>[0]</td>\n",
       "      <td>0.109725</td>\n",
       "      <td>0.109725</td>\n",
       "      <td>0.015491</td>\n",
       "      <td>243</td>\n",
       "      <td>12</td>\n",
       "      <td>0.952941</td>\n",
       "    </tr>\n",
       "    <tr>\n",
       "      <th>labeling_function_negativa_b</th>\n",
       "      <td>1</td>\n",
       "      <td>[0]</td>\n",
       "      <td>0.056368</td>\n",
       "      <td>0.056368</td>\n",
       "      <td>0.008606</td>\n",
       "      <td>124</td>\n",
       "      <td>7</td>\n",
       "      <td>0.946565</td>\n",
       "    </tr>\n",
       "    <tr>\n",
       "      <th>labeling_function_negativa_c</th>\n",
       "      <td>2</td>\n",
       "      <td>[0]</td>\n",
       "      <td>0.030981</td>\n",
       "      <td>0.030981</td>\n",
       "      <td>0.003873</td>\n",
       "      <td>65</td>\n",
       "      <td>7</td>\n",
       "      <td>0.902778</td>\n",
       "    </tr>\n",
       "    <tr>\n",
       "      <th>labeling_function_negativa_d</th>\n",
       "      <td>3</td>\n",
       "      <td>[0]</td>\n",
       "      <td>0.093804</td>\n",
       "      <td>0.093804</td>\n",
       "      <td>0.004303</td>\n",
       "      <td>209</td>\n",
       "      <td>9</td>\n",
       "      <td>0.958716</td>\n",
       "    </tr>\n",
       "    <tr>\n",
       "      <th>labeling_function_negativa_e</th>\n",
       "      <td>4</td>\n",
       "      <td>[0]</td>\n",
       "      <td>0.051635</td>\n",
       "      <td>0.051635</td>\n",
       "      <td>0.003442</td>\n",
       "      <td>116</td>\n",
       "      <td>4</td>\n",
       "      <td>0.966667</td>\n",
       "    </tr>\n",
       "    <tr>\n",
       "      <th>labeling_function_negativa_f</th>\n",
       "      <td>5</td>\n",
       "      <td>[0]</td>\n",
       "      <td>0.041308</td>\n",
       "      <td>0.041308</td>\n",
       "      <td>0.002582</td>\n",
       "      <td>92</td>\n",
       "      <td>4</td>\n",
       "      <td>0.958333</td>\n",
       "    </tr>\n",
       "    <tr>\n",
       "      <th>labeling_function_negativa_g</th>\n",
       "      <td>6</td>\n",
       "      <td>[0]</td>\n",
       "      <td>0.039587</td>\n",
       "      <td>0.039587</td>\n",
       "      <td>0.001721</td>\n",
       "      <td>90</td>\n",
       "      <td>2</td>\n",
       "      <td>0.978261</td>\n",
       "    </tr>\n",
       "    <tr>\n",
       "      <th>labeling_function_negativa_h</th>\n",
       "      <td>7</td>\n",
       "      <td>[0]</td>\n",
       "      <td>0.200086</td>\n",
       "      <td>0.200086</td>\n",
       "      <td>0.015491</td>\n",
       "      <td>442</td>\n",
       "      <td>23</td>\n",
       "      <td>0.950538</td>\n",
       "    </tr>\n",
       "    <tr>\n",
       "      <th>labeling_function_negativa_i</th>\n",
       "      <td>8</td>\n",
       "      <td>[0]</td>\n",
       "      <td>0.024527</td>\n",
       "      <td>0.024527</td>\n",
       "      <td>0.001291</td>\n",
       "      <td>57</td>\n",
       "      <td>0</td>\n",
       "      <td>1.000000</td>\n",
       "    </tr>\n",
       "    <tr>\n",
       "      <th>labeling_function_negativa_j</th>\n",
       "      <td>9</td>\n",
       "      <td>[0]</td>\n",
       "      <td>0.050344</td>\n",
       "      <td>0.050344</td>\n",
       "      <td>0.006454</td>\n",
       "      <td>107</td>\n",
       "      <td>10</td>\n",
       "      <td>0.914530</td>\n",
       "    </tr>\n",
       "    <tr>\n",
       "      <th>labeling_function_negativa_k</th>\n",
       "      <td>10</td>\n",
       "      <td>[0]</td>\n",
       "      <td>0.032272</td>\n",
       "      <td>0.032272</td>\n",
       "      <td>0.008176</td>\n",
       "      <td>70</td>\n",
       "      <td>5</td>\n",
       "      <td>0.933333</td>\n",
       "    </tr>\n",
       "    <tr>\n",
       "      <th>labeling_function_negativa_l</th>\n",
       "      <td>11</td>\n",
       "      <td>[0]</td>\n",
       "      <td>0.009897</td>\n",
       "      <td>0.009897</td>\n",
       "      <td>0.000430</td>\n",
       "      <td>23</td>\n",
       "      <td>0</td>\n",
       "      <td>1.000000</td>\n",
       "    </tr>\n",
       "    <tr>\n",
       "      <th>labeling_function_negativa_m</th>\n",
       "      <td>12</td>\n",
       "      <td>[0]</td>\n",
       "      <td>0.071859</td>\n",
       "      <td>0.071859</td>\n",
       "      <td>0.004303</td>\n",
       "      <td>162</td>\n",
       "      <td>5</td>\n",
       "      <td>0.970060</td>\n",
       "    </tr>\n",
       "    <tr>\n",
       "      <th>labeling_function_negativa_n</th>\n",
       "      <td>13</td>\n",
       "      <td>[0]</td>\n",
       "      <td>0.009036</td>\n",
       "      <td>0.009036</td>\n",
       "      <td>0.004303</td>\n",
       "      <td>21</td>\n",
       "      <td>0</td>\n",
       "      <td>1.000000</td>\n",
       "    </tr>\n",
       "    <tr>\n",
       "      <th>labeling_function_negativa_o</th>\n",
       "      <td>14</td>\n",
       "      <td>[0]</td>\n",
       "      <td>0.008606</td>\n",
       "      <td>0.008606</td>\n",
       "      <td>0.000861</td>\n",
       "      <td>19</td>\n",
       "      <td>1</td>\n",
       "      <td>0.950000</td>\n",
       "    </tr>\n",
       "    <tr>\n",
       "      <th>labeling_function_negativa_p</th>\n",
       "      <td>15</td>\n",
       "      <td>[0]</td>\n",
       "      <td>0.018503</td>\n",
       "      <td>0.018503</td>\n",
       "      <td>0.001291</td>\n",
       "      <td>42</td>\n",
       "      <td>1</td>\n",
       "      <td>0.976744</td>\n",
       "    </tr>\n",
       "    <tr>\n",
       "      <th>labeling_function_positiva_a</th>\n",
       "      <td>16</td>\n",
       "      <td>[1]</td>\n",
       "      <td>0.023236</td>\n",
       "      <td>0.023236</td>\n",
       "      <td>0.003442</td>\n",
       "      <td>51</td>\n",
       "      <td>3</td>\n",
       "      <td>0.944444</td>\n",
       "    </tr>\n",
       "    <tr>\n",
       "      <th>labeling_function_positiva_b</th>\n",
       "      <td>17</td>\n",
       "      <td>[1]</td>\n",
       "      <td>0.052496</td>\n",
       "      <td>0.052496</td>\n",
       "      <td>0.024527</td>\n",
       "      <td>71</td>\n",
       "      <td>51</td>\n",
       "      <td>0.581967</td>\n",
       "    </tr>\n",
       "    <tr>\n",
       "      <th>labeling_function_positiva_c</th>\n",
       "      <td>18</td>\n",
       "      <td>[]</td>\n",
       "      <td>0.000000</td>\n",
       "      <td>0.000000</td>\n",
       "      <td>0.000000</td>\n",
       "      <td>0</td>\n",
       "      <td>0</td>\n",
       "      <td>0.000000</td>\n",
       "    </tr>\n",
       "    <tr>\n",
       "      <th>labeling_function_positiva_d</th>\n",
       "      <td>19</td>\n",
       "      <td>[1]</td>\n",
       "      <td>0.003873</td>\n",
       "      <td>0.003873</td>\n",
       "      <td>0.003442</td>\n",
       "      <td>1</td>\n",
       "      <td>8</td>\n",
       "      <td>0.111111</td>\n",
       "    </tr>\n",
       "    <tr>\n",
       "      <th>labeling_function_positiva_e</th>\n",
       "      <td>20</td>\n",
       "      <td>[1]</td>\n",
       "      <td>0.006885</td>\n",
       "      <td>0.006885</td>\n",
       "      <td>0.005164</td>\n",
       "      <td>6</td>\n",
       "      <td>10</td>\n",
       "      <td>0.375000</td>\n",
       "    </tr>\n",
       "    <tr>\n",
       "      <th>labeling_function_positiva_f</th>\n",
       "      <td>21</td>\n",
       "      <td>[1]</td>\n",
       "      <td>0.028399</td>\n",
       "      <td>0.028399</td>\n",
       "      <td>0.004733</td>\n",
       "      <td>60</td>\n",
       "      <td>6</td>\n",
       "      <td>0.909091</td>\n",
       "    </tr>\n",
       "    <tr>\n",
       "      <th>labeling_function_positiva_g</th>\n",
       "      <td>22</td>\n",
       "      <td>[1]</td>\n",
       "      <td>0.008606</td>\n",
       "      <td>0.008606</td>\n",
       "      <td>0.004303</td>\n",
       "      <td>10</td>\n",
       "      <td>10</td>\n",
       "      <td>0.500000</td>\n",
       "    </tr>\n",
       "    <tr>\n",
       "      <th>labeling_function_positiva_h</th>\n",
       "      <td>23</td>\n",
       "      <td>[1]</td>\n",
       "      <td>0.004733</td>\n",
       "      <td>0.004733</td>\n",
       "      <td>0.000430</td>\n",
       "      <td>10</td>\n",
       "      <td>1</td>\n",
       "      <td>0.909091</td>\n",
       "    </tr>\n",
       "    <tr>\n",
       "      <th>labeling_function_positiva_i</th>\n",
       "      <td>24</td>\n",
       "      <td>[1]</td>\n",
       "      <td>0.006024</td>\n",
       "      <td>0.006024</td>\n",
       "      <td>0.000430</td>\n",
       "      <td>13</td>\n",
       "      <td>1</td>\n",
       "      <td>0.928571</td>\n",
       "    </tr>\n",
       "    <tr>\n",
       "      <th>lf_ssl</th>\n",
       "      <td>25</td>\n",
       "      <td>[0, 1]</td>\n",
       "      <td>1.000000</td>\n",
       "      <td>0.607143</td>\n",
       "      <td>0.063253</td>\n",
       "      <td>2322</td>\n",
       "      <td>2</td>\n",
       "      <td>0.999139</td>\n",
       "    </tr>\n",
       "  </tbody>\n",
       "</table>\n",
       "</div>"
      ],
      "text/plain": [
       "                               j Polarity  Coverage  Overlaps  Conflicts  \\\n",
       "labeling_function_negativa_a   0      [0]  0.109725  0.109725   0.015491   \n",
       "labeling_function_negativa_b   1      [0]  0.056368  0.056368   0.008606   \n",
       "labeling_function_negativa_c   2      [0]  0.030981  0.030981   0.003873   \n",
       "labeling_function_negativa_d   3      [0]  0.093804  0.093804   0.004303   \n",
       "labeling_function_negativa_e   4      [0]  0.051635  0.051635   0.003442   \n",
       "labeling_function_negativa_f   5      [0]  0.041308  0.041308   0.002582   \n",
       "labeling_function_negativa_g   6      [0]  0.039587  0.039587   0.001721   \n",
       "labeling_function_negativa_h   7      [0]  0.200086  0.200086   0.015491   \n",
       "labeling_function_negativa_i   8      [0]  0.024527  0.024527   0.001291   \n",
       "labeling_function_negativa_j   9      [0]  0.050344  0.050344   0.006454   \n",
       "labeling_function_negativa_k  10      [0]  0.032272  0.032272   0.008176   \n",
       "labeling_function_negativa_l  11      [0]  0.009897  0.009897   0.000430   \n",
       "labeling_function_negativa_m  12      [0]  0.071859  0.071859   0.004303   \n",
       "labeling_function_negativa_n  13      [0]  0.009036  0.009036   0.004303   \n",
       "labeling_function_negativa_o  14      [0]  0.008606  0.008606   0.000861   \n",
       "labeling_function_negativa_p  15      [0]  0.018503  0.018503   0.001291   \n",
       "labeling_function_positiva_a  16      [1]  0.023236  0.023236   0.003442   \n",
       "labeling_function_positiva_b  17      [1]  0.052496  0.052496   0.024527   \n",
       "labeling_function_positiva_c  18       []  0.000000  0.000000   0.000000   \n",
       "labeling_function_positiva_d  19      [1]  0.003873  0.003873   0.003442   \n",
       "labeling_function_positiva_e  20      [1]  0.006885  0.006885   0.005164   \n",
       "labeling_function_positiva_f  21      [1]  0.028399  0.028399   0.004733   \n",
       "labeling_function_positiva_g  22      [1]  0.008606  0.008606   0.004303   \n",
       "labeling_function_positiva_h  23      [1]  0.004733  0.004733   0.000430   \n",
       "labeling_function_positiva_i  24      [1]  0.006024  0.006024   0.000430   \n",
       "lf_ssl                        25   [0, 1]  1.000000  0.607143   0.063253   \n",
       "\n",
       "                              Correct  Incorrect  Emp. Acc.  \n",
       "labeling_function_negativa_a      243         12   0.952941  \n",
       "labeling_function_negativa_b      124          7   0.946565  \n",
       "labeling_function_negativa_c       65          7   0.902778  \n",
       "labeling_function_negativa_d      209          9   0.958716  \n",
       "labeling_function_negativa_e      116          4   0.966667  \n",
       "labeling_function_negativa_f       92          4   0.958333  \n",
       "labeling_function_negativa_g       90          2   0.978261  \n",
       "labeling_function_negativa_h      442         23   0.950538  \n",
       "labeling_function_negativa_i       57          0   1.000000  \n",
       "labeling_function_negativa_j      107         10   0.914530  \n",
       "labeling_function_negativa_k       70          5   0.933333  \n",
       "labeling_function_negativa_l       23          0   1.000000  \n",
       "labeling_function_negativa_m      162          5   0.970060  \n",
       "labeling_function_negativa_n       21          0   1.000000  \n",
       "labeling_function_negativa_o       19          1   0.950000  \n",
       "labeling_function_negativa_p       42          1   0.976744  \n",
       "labeling_function_positiva_a       51          3   0.944444  \n",
       "labeling_function_positiva_b       71         51   0.581967  \n",
       "labeling_function_positiva_c        0          0   0.000000  \n",
       "labeling_function_positiva_d        1          8   0.111111  \n",
       "labeling_function_positiva_e        6         10   0.375000  \n",
       "labeling_function_positiva_f       60          6   0.909091  \n",
       "labeling_function_positiva_g       10         10   0.500000  \n",
       "labeling_function_positiva_h       10          1   0.909091  \n",
       "labeling_function_positiva_i       13          1   0.928571  \n",
       "lf_ssl                           2322          2   0.999139  "
      ]
     },
     "metadata": {},
     "output_type": "display_data"
    },
    {
     "name": "stderr",
     "output_type": "stream",
     "text": [
      "100%|██████████| 464/464 [00:03<00:00, 135.21it/s]\n"
     ]
    },
    {
     "data": {
      "text/html": [
       "<div>\n",
       "<style scoped>\n",
       "    .dataframe tbody tr th:only-of-type {\n",
       "        vertical-align: middle;\n",
       "    }\n",
       "\n",
       "    .dataframe tbody tr th {\n",
       "        vertical-align: top;\n",
       "    }\n",
       "\n",
       "    .dataframe thead th {\n",
       "        text-align: right;\n",
       "    }\n",
       "</style>\n",
       "<table border=\"1\" class=\"dataframe\">\n",
       "  <thead>\n",
       "    <tr style=\"text-align: right;\">\n",
       "      <th></th>\n",
       "      <th>j</th>\n",
       "      <th>Polarity</th>\n",
       "      <th>Coverage</th>\n",
       "      <th>Overlaps</th>\n",
       "      <th>Conflicts</th>\n",
       "      <th>Correct</th>\n",
       "      <th>Incorrect</th>\n",
       "      <th>Emp. Acc.</th>\n",
       "    </tr>\n",
       "  </thead>\n",
       "  <tbody>\n",
       "    <tr>\n",
       "      <th>labeling_function_negativa_a</th>\n",
       "      <td>0</td>\n",
       "      <td>[0]</td>\n",
       "      <td>0.125000</td>\n",
       "      <td>0.122845</td>\n",
       "      <td>0.019397</td>\n",
       "      <td>57</td>\n",
       "      <td>1</td>\n",
       "      <td>0.982759</td>\n",
       "    </tr>\n",
       "    <tr>\n",
       "      <th>labeling_function_negativa_b</th>\n",
       "      <td>1</td>\n",
       "      <td>[0]</td>\n",
       "      <td>0.062500</td>\n",
       "      <td>0.062500</td>\n",
       "      <td>0.012931</td>\n",
       "      <td>29</td>\n",
       "      <td>0</td>\n",
       "      <td>1.000000</td>\n",
       "    </tr>\n",
       "    <tr>\n",
       "      <th>labeling_function_negativa_c</th>\n",
       "      <td>2</td>\n",
       "      <td>[0]</td>\n",
       "      <td>0.040948</td>\n",
       "      <td>0.040948</td>\n",
       "      <td>0.002155</td>\n",
       "      <td>17</td>\n",
       "      <td>2</td>\n",
       "      <td>0.894737</td>\n",
       "    </tr>\n",
       "    <tr>\n",
       "      <th>labeling_function_negativa_d</th>\n",
       "      <td>3</td>\n",
       "      <td>[0]</td>\n",
       "      <td>0.066810</td>\n",
       "      <td>0.066810</td>\n",
       "      <td>0.004310</td>\n",
       "      <td>28</td>\n",
       "      <td>3</td>\n",
       "      <td>0.903226</td>\n",
       "    </tr>\n",
       "    <tr>\n",
       "      <th>labeling_function_negativa_e</th>\n",
       "      <td>4</td>\n",
       "      <td>[0]</td>\n",
       "      <td>0.053879</td>\n",
       "      <td>0.053879</td>\n",
       "      <td>0.002155</td>\n",
       "      <td>25</td>\n",
       "      <td>0</td>\n",
       "      <td>1.000000</td>\n",
       "    </tr>\n",
       "    <tr>\n",
       "      <th>labeling_function_negativa_f</th>\n",
       "      <td>5</td>\n",
       "      <td>[0]</td>\n",
       "      <td>0.036638</td>\n",
       "      <td>0.036638</td>\n",
       "      <td>0.002155</td>\n",
       "      <td>16</td>\n",
       "      <td>1</td>\n",
       "      <td>0.941176</td>\n",
       "    </tr>\n",
       "    <tr>\n",
       "      <th>labeling_function_negativa_g</th>\n",
       "      <td>6</td>\n",
       "      <td>[0]</td>\n",
       "      <td>0.034483</td>\n",
       "      <td>0.034483</td>\n",
       "      <td>0.000000</td>\n",
       "      <td>16</td>\n",
       "      <td>0</td>\n",
       "      <td>1.000000</td>\n",
       "    </tr>\n",
       "    <tr>\n",
       "      <th>labeling_function_negativa_h</th>\n",
       "      <td>7</td>\n",
       "      <td>[0]</td>\n",
       "      <td>0.170259</td>\n",
       "      <td>0.170259</td>\n",
       "      <td>0.006466</td>\n",
       "      <td>73</td>\n",
       "      <td>6</td>\n",
       "      <td>0.924051</td>\n",
       "    </tr>\n",
       "    <tr>\n",
       "      <th>labeling_function_negativa_i</th>\n",
       "      <td>8</td>\n",
       "      <td>[0]</td>\n",
       "      <td>0.021552</td>\n",
       "      <td>0.021552</td>\n",
       "      <td>0.002155</td>\n",
       "      <td>10</td>\n",
       "      <td>0</td>\n",
       "      <td>1.000000</td>\n",
       "    </tr>\n",
       "    <tr>\n",
       "      <th>labeling_function_negativa_j</th>\n",
       "      <td>9</td>\n",
       "      <td>[0]</td>\n",
       "      <td>0.036638</td>\n",
       "      <td>0.036638</td>\n",
       "      <td>0.000000</td>\n",
       "      <td>17</td>\n",
       "      <td>0</td>\n",
       "      <td>1.000000</td>\n",
       "    </tr>\n",
       "    <tr>\n",
       "      <th>labeling_function_negativa_k</th>\n",
       "      <td>10</td>\n",
       "      <td>[0]</td>\n",
       "      <td>0.040948</td>\n",
       "      <td>0.040948</td>\n",
       "      <td>0.008621</td>\n",
       "      <td>19</td>\n",
       "      <td>0</td>\n",
       "      <td>1.000000</td>\n",
       "    </tr>\n",
       "    <tr>\n",
       "      <th>labeling_function_negativa_l</th>\n",
       "      <td>11</td>\n",
       "      <td>[0]</td>\n",
       "      <td>0.008621</td>\n",
       "      <td>0.008621</td>\n",
       "      <td>0.000000</td>\n",
       "      <td>4</td>\n",
       "      <td>0</td>\n",
       "      <td>1.000000</td>\n",
       "    </tr>\n",
       "    <tr>\n",
       "      <th>labeling_function_negativa_m</th>\n",
       "      <td>12</td>\n",
       "      <td>[0]</td>\n",
       "      <td>0.066810</td>\n",
       "      <td>0.066810</td>\n",
       "      <td>0.004310</td>\n",
       "      <td>31</td>\n",
       "      <td>0</td>\n",
       "      <td>1.000000</td>\n",
       "    </tr>\n",
       "    <tr>\n",
       "      <th>labeling_function_negativa_n</th>\n",
       "      <td>13</td>\n",
       "      <td>[0]</td>\n",
       "      <td>0.008621</td>\n",
       "      <td>0.008621</td>\n",
       "      <td>0.006466</td>\n",
       "      <td>4</td>\n",
       "      <td>0</td>\n",
       "      <td>1.000000</td>\n",
       "    </tr>\n",
       "    <tr>\n",
       "      <th>labeling_function_negativa_o</th>\n",
       "      <td>14</td>\n",
       "      <td>[0]</td>\n",
       "      <td>0.008621</td>\n",
       "      <td>0.008621</td>\n",
       "      <td>0.000000</td>\n",
       "      <td>4</td>\n",
       "      <td>0</td>\n",
       "      <td>1.000000</td>\n",
       "    </tr>\n",
       "    <tr>\n",
       "      <th>labeling_function_negativa_p</th>\n",
       "      <td>15</td>\n",
       "      <td>[0]</td>\n",
       "      <td>0.015086</td>\n",
       "      <td>0.015086</td>\n",
       "      <td>0.000000</td>\n",
       "      <td>7</td>\n",
       "      <td>0</td>\n",
       "      <td>1.000000</td>\n",
       "    </tr>\n",
       "    <tr>\n",
       "      <th>labeling_function_positiva_a</th>\n",
       "      <td>16</td>\n",
       "      <td>[1]</td>\n",
       "      <td>0.025862</td>\n",
       "      <td>0.025862</td>\n",
       "      <td>0.008621</td>\n",
       "      <td>10</td>\n",
       "      <td>2</td>\n",
       "      <td>0.833333</td>\n",
       "    </tr>\n",
       "    <tr>\n",
       "      <th>labeling_function_positiva_b</th>\n",
       "      <td>17</td>\n",
       "      <td>[1]</td>\n",
       "      <td>0.047414</td>\n",
       "      <td>0.047414</td>\n",
       "      <td>0.025862</td>\n",
       "      <td>8</td>\n",
       "      <td>14</td>\n",
       "      <td>0.363636</td>\n",
       "    </tr>\n",
       "    <tr>\n",
       "      <th>labeling_function_positiva_c</th>\n",
       "      <td>18</td>\n",
       "      <td>[]</td>\n",
       "      <td>0.000000</td>\n",
       "      <td>0.000000</td>\n",
       "      <td>0.000000</td>\n",
       "      <td>0</td>\n",
       "      <td>0</td>\n",
       "      <td>0.000000</td>\n",
       "    </tr>\n",
       "    <tr>\n",
       "      <th>labeling_function_positiva_d</th>\n",
       "      <td>19</td>\n",
       "      <td>[1]</td>\n",
       "      <td>0.008621</td>\n",
       "      <td>0.008621</td>\n",
       "      <td>0.008621</td>\n",
       "      <td>0</td>\n",
       "      <td>4</td>\n",
       "      <td>0.000000</td>\n",
       "    </tr>\n",
       "    <tr>\n",
       "      <th>labeling_function_positiva_e</th>\n",
       "      <td>20</td>\n",
       "      <td>[1]</td>\n",
       "      <td>0.008621</td>\n",
       "      <td>0.008621</td>\n",
       "      <td>0.006466</td>\n",
       "      <td>1</td>\n",
       "      <td>3</td>\n",
       "      <td>0.250000</td>\n",
       "    </tr>\n",
       "    <tr>\n",
       "      <th>labeling_function_positiva_f</th>\n",
       "      <td>21</td>\n",
       "      <td>[1]</td>\n",
       "      <td>0.023707</td>\n",
       "      <td>0.023707</td>\n",
       "      <td>0.006466</td>\n",
       "      <td>8</td>\n",
       "      <td>3</td>\n",
       "      <td>0.727273</td>\n",
       "    </tr>\n",
       "    <tr>\n",
       "      <th>labeling_function_positiva_g</th>\n",
       "      <td>22</td>\n",
       "      <td>[1]</td>\n",
       "      <td>0.002155</td>\n",
       "      <td>0.002155</td>\n",
       "      <td>0.000000</td>\n",
       "      <td>1</td>\n",
       "      <td>0</td>\n",
       "      <td>1.000000</td>\n",
       "    </tr>\n",
       "    <tr>\n",
       "      <th>labeling_function_positiva_h</th>\n",
       "      <td>23</td>\n",
       "      <td>[1]</td>\n",
       "      <td>0.008621</td>\n",
       "      <td>0.008621</td>\n",
       "      <td>0.002155</td>\n",
       "      <td>4</td>\n",
       "      <td>0</td>\n",
       "      <td>1.000000</td>\n",
       "    </tr>\n",
       "    <tr>\n",
       "      <th>labeling_function_positiva_i</th>\n",
       "      <td>24</td>\n",
       "      <td>[1]</td>\n",
       "      <td>0.019397</td>\n",
       "      <td>0.019397</td>\n",
       "      <td>0.004310</td>\n",
       "      <td>5</td>\n",
       "      <td>4</td>\n",
       "      <td>0.555556</td>\n",
       "    </tr>\n",
       "    <tr>\n",
       "      <th>lf_ssl</th>\n",
       "      <td>25</td>\n",
       "      <td>[0, 1]</td>\n",
       "      <td>0.987069</td>\n",
       "      <td>0.592672</td>\n",
       "      <td>0.062500</td>\n",
       "      <td>417</td>\n",
       "      <td>41</td>\n",
       "      <td>0.910480</td>\n",
       "    </tr>\n",
       "  </tbody>\n",
       "</table>\n",
       "</div>"
      ],
      "text/plain": [
       "                               j Polarity  Coverage  Overlaps  Conflicts  \\\n",
       "labeling_function_negativa_a   0      [0]  0.125000  0.122845   0.019397   \n",
       "labeling_function_negativa_b   1      [0]  0.062500  0.062500   0.012931   \n",
       "labeling_function_negativa_c   2      [0]  0.040948  0.040948   0.002155   \n",
       "labeling_function_negativa_d   3      [0]  0.066810  0.066810   0.004310   \n",
       "labeling_function_negativa_e   4      [0]  0.053879  0.053879   0.002155   \n",
       "labeling_function_negativa_f   5      [0]  0.036638  0.036638   0.002155   \n",
       "labeling_function_negativa_g   6      [0]  0.034483  0.034483   0.000000   \n",
       "labeling_function_negativa_h   7      [0]  0.170259  0.170259   0.006466   \n",
       "labeling_function_negativa_i   8      [0]  0.021552  0.021552   0.002155   \n",
       "labeling_function_negativa_j   9      [0]  0.036638  0.036638   0.000000   \n",
       "labeling_function_negativa_k  10      [0]  0.040948  0.040948   0.008621   \n",
       "labeling_function_negativa_l  11      [0]  0.008621  0.008621   0.000000   \n",
       "labeling_function_negativa_m  12      [0]  0.066810  0.066810   0.004310   \n",
       "labeling_function_negativa_n  13      [0]  0.008621  0.008621   0.006466   \n",
       "labeling_function_negativa_o  14      [0]  0.008621  0.008621   0.000000   \n",
       "labeling_function_negativa_p  15      [0]  0.015086  0.015086   0.000000   \n",
       "labeling_function_positiva_a  16      [1]  0.025862  0.025862   0.008621   \n",
       "labeling_function_positiva_b  17      [1]  0.047414  0.047414   0.025862   \n",
       "labeling_function_positiva_c  18       []  0.000000  0.000000   0.000000   \n",
       "labeling_function_positiva_d  19      [1]  0.008621  0.008621   0.008621   \n",
       "labeling_function_positiva_e  20      [1]  0.008621  0.008621   0.006466   \n",
       "labeling_function_positiva_f  21      [1]  0.023707  0.023707   0.006466   \n",
       "labeling_function_positiva_g  22      [1]  0.002155  0.002155   0.000000   \n",
       "labeling_function_positiva_h  23      [1]  0.008621  0.008621   0.002155   \n",
       "labeling_function_positiva_i  24      [1]  0.019397  0.019397   0.004310   \n",
       "lf_ssl                        25   [0, 1]  0.987069  0.592672   0.062500   \n",
       "\n",
       "                              Correct  Incorrect  Emp. Acc.  \n",
       "labeling_function_negativa_a       57          1   0.982759  \n",
       "labeling_function_negativa_b       29          0   1.000000  \n",
       "labeling_function_negativa_c       17          2   0.894737  \n",
       "labeling_function_negativa_d       28          3   0.903226  \n",
       "labeling_function_negativa_e       25          0   1.000000  \n",
       "labeling_function_negativa_f       16          1   0.941176  \n",
       "labeling_function_negativa_g       16          0   1.000000  \n",
       "labeling_function_negativa_h       73          6   0.924051  \n",
       "labeling_function_negativa_i       10          0   1.000000  \n",
       "labeling_function_negativa_j       17          0   1.000000  \n",
       "labeling_function_negativa_k       19          0   1.000000  \n",
       "labeling_function_negativa_l        4          0   1.000000  \n",
       "labeling_function_negativa_m       31          0   1.000000  \n",
       "labeling_function_negativa_n        4          0   1.000000  \n",
       "labeling_function_negativa_o        4          0   1.000000  \n",
       "labeling_function_negativa_p        7          0   1.000000  \n",
       "labeling_function_positiva_a       10          2   0.833333  \n",
       "labeling_function_positiva_b        8         14   0.363636  \n",
       "labeling_function_positiva_c        0          0   0.000000  \n",
       "labeling_function_positiva_d        0          4   0.000000  \n",
       "labeling_function_positiva_e        1          3   0.250000  \n",
       "labeling_function_positiva_f        8          3   0.727273  \n",
       "labeling_function_positiva_g        1          0   1.000000  \n",
       "labeling_function_positiva_h        4          0   1.000000  \n",
       "labeling_function_positiva_i        5          4   0.555556  \n",
       "lf_ssl                            417         41   0.910480  "
      ]
     },
     "metadata": {},
     "output_type": "display_data"
    }
   ],
   "source": [
    "applier = PandasLFApplier(lfs=lfs_mlp)\n",
    "L_train = applier.apply(df=X_train)\n",
    "display(LFAnalysis(L=L_train, lfs=lfs_mlp).lf_summary(Y = np.array(y_train)))\n",
    "\n",
    "\n",
    "L_dev = applier.apply(df=X_dev)\n",
    "display(LFAnalysis(L=L_dev, lfs=lfs_mlp).lf_summary(Y = np.array(y_dev)))\n"
   ]
  },
  {
   "cell_type": "code",
   "execution_count": null,
   "metadata": {},
   "outputs": [
    {
     "name": "stderr",
     "output_type": "stream",
     "text": [
      "INFO:root:Computing O...\n",
      "INFO:root:Estimating \\mu...\n",
      "  0%|          | 0/500 [00:00<?, ?epoch/s]INFO:root:[0 epochs]: TRAIN:[loss=0.273]\n",
      "  5%|▌         | 27/500 [00:00<00:01, 268.58epoch/s]INFO:root:[100 epochs]: TRAIN:[loss=0.012]\n",
      " 35%|███▌      | 176/500 [00:00<00:00, 611.35epoch/s]INFO:root:[200 epochs]: TRAIN:[loss=0.011]\n",
      " 51%|█████     | 256/500 [00:00<00:00, 681.31epoch/s]INFO:root:[300 epochs]: TRAIN:[loss=0.011]\n",
      " 79%|███████▊  | 393/500 [00:00<00:00, 606.85epoch/s]INFO:root:[400 epochs]: TRAIN:[loss=0.011]\n",
      "100%|██████████| 500/500 [00:00<00:00, 557.71epoch/s]\n",
      "INFO:root:Finished Training\n",
      "100%|██████████| 464/464 [00:04<00:00, 99.07it/s] "
     ]
    },
    {
     "name": "stdout",
     "output_type": "stream",
     "text": [
      "\n",
      "\n",
      "Classification report for label model: \n",
      "              precision    recall  f1-score   support\n",
      "\n",
      "           0       0.94      0.97      0.95       407\n",
      "           1       0.70      0.56      0.62        57\n",
      "\n",
      "    accuracy                           0.92       464\n",
      "   macro avg       0.82      0.76      0.79       464\n",
      "weighted avg       0.91      0.92      0.91       464\n",
      "\n",
      "Number of abstains: 0\n"
     ]
    },
    {
     "name": "stderr",
     "output_type": "stream",
     "text": [
      "\n"
     ]
    }
   ],
   "source": [
    "from snorkel.labeling.model import LabelModel\n",
    "\n",
    "label_model = LabelModel(cardinality=2, verbose=True)\n",
    "label_model.fit(L_train=L_train,Y_dev =y_train, n_epochs=500, log_freq=100, seed=10,class_balance=[0.881,0.119])\n",
    "\n",
    "L_dev = applier.apply(df=X_dev)\n",
    "label_model_pred = label_model.predict(L=L_dev)\n",
    "\n",
    "print(f'\\n\\nClassification report for label model: \\n{classification_report(y_dev.values, label_model_pred)}')\n",
    "print(f'Number of abstains: {np.count_nonzero(label_model_pred == -1)}')\n"
   ]
  },
  {
   "cell_type": "code",
   "execution_count": null,
   "metadata": {},
   "outputs": [
    {
     "data": {
      "text/plain": [
       "0.9310344827586207"
      ]
     },
     "execution_count": 26,
     "metadata": {},
     "output_type": "execute_result"
    }
   ],
   "source": [
    "predict_prob_label_model = label_model.predict_proba(L=L_dev)\n",
    "\n",
    "predict_prob_label_model_filter = [ np.amax(x) for x in predict_prob_label_model if np.max(x)>0.9]\n",
    "\n",
    "len(predict_prob_label_model_filter)/len(predict_prob_label_model)\n",
    "\n"
   ]
  },
  {
   "cell_type": "code",
   "execution_count": null,
   "metadata": {},
   "outputs": [
    {
     "data": {
      "image/png": "[encoded data removed]",
      "text/plain": [
       "<Figure size 1400x600 with 2 Axes>"
      ]
     },
     "metadata": {},
     "output_type": "display_data"
    }
   ],
   "source": [
    "import numpy as np\n",
    "import matplotlib.pyplot as plt\n",
    "\n",
    "# Supondo que:\n",
    "# - predict_prob_label_model = label_model.predict_proba(L=L_dev)\n",
    "# - y_dev contém os rótulos reais\n",
    "# Se predict_prob_label_model for uma matriz com duas colunas, usamos a probabilidade da classe 1:\n",
    "\n",
    "\n",
    "# Caso y_dev não seja um array numpy:\n",
    "y_dev = np.array(y_dev)\n",
    "\n",
    "# Definindo o threshold (limiar) e os intervalos (bins)\n",
    "threshold = 0.5\n",
    "bins = np.linspace(0, 1, 11)  # 10 intervalos: [0,0.1), [0.1,0.2), ..., [0.9,1]\n",
    "\n",
    "def contar_por_bin(pred_probs, is_positive, threshold, bins):\n",
    "    \"\"\"\n",
    "    Conta, para cada intervalo (bin), quantos casos foram classificados corretamente (acertos)\n",
    "    e quantos foram classificados incorretamente (erros).\n",
    "    \n",
    "    Para casos positivos (is_positive=True): acerto se a probabilidade >= threshold.\n",
    "    Para casos negativos (is_positive=False): acerto se a probabilidade < threshold.\n",
    "    \"\"\"\n",
    "    acertos = np.zeros(len(bins) - 1)\n",
    "    erros = np.zeros(len(bins) - 1)\n",
    "    \n",
    "    # Determina o índice do bin para cada probabilidade\n",
    "    indices = np.digitize(pred_probs, bins) - 1  # ajuste para que os índices iniciem em 0\n",
    "    \n",
    "    for i, idx in enumerate(indices):\n",
    "        # Ignora índices fora do intervalo\n",
    "        if idx < 0 or idx >= len(acertos):\n",
    "            continue\n",
    "        if is_positive:\n",
    "            if pred_probs[i] >= threshold:\n",
    "                acertos[idx] += 1\n",
    "            else:\n",
    "                erros[idx] += 1\n",
    "        else:\n",
    "            if pred_probs[i] < threshold:\n",
    "                acertos[idx] += 1\n",
    "            else:\n",
    "                erros[idx] += 1\n",
    "    return acertos, erros\n",
    "\n",
    "# Separa os casos positivos e negativos\n",
    "mask_pos = (y_dev == 1)\n",
    "mask_neg = (y_dev == 0)\n",
    "\n",
    "pred_prob_pos = predict_prob_label_model[mask_pos,1]\n",
    "pred_prob_neg = predict_prob_label_model[mask_neg,0]\n",
    "\n",
    "# Conta acertos e erros por bin para cada grupo\n",
    "acertos_pos, erros_pos = contar_por_bin(pred_prob_pos, is_positive=True, threshold=threshold, bins=bins)\n",
    "acertos_neg, erros_neg = contar_por_bin(pred_prob_neg, is_positive=True, threshold=threshold, bins=bins)\n",
    "\n",
    "# Calcula os centros dos bins para o eixo x\n",
    "centros_bins = (bins[:-1] + bins[1:]) / 2\n",
    "\n",
    "# Cria os gráficos\n",
    "fig, axs = plt.subplots(1, 2, figsize=(14, 6))\n",
    "\n",
    "# Gráfico para casos positivos (rótulo = 1)\n",
    "axs[0].bar(centros_bins, acertos_pos, width=0.08, label='Acertos', color='green')\n",
    "axs[0].bar(centros_bins, erros_pos, width=0.08, bottom=acertos_pos, label='Erros', color='red')\n",
    "axs[0].set_title('Casos Positivos (rótulo = 1)')\n",
    "axs[0].set_xlabel('Intervalo de Probabilidade')\n",
    "axs[0].set_ylabel('Número de Casos')\n",
    "axs[0].legend()\n",
    "axs[0].grid(axis='y', alpha=0.75)\n",
    "\n",
    "# Gráfico para casos negativos (rótulo = 0)\n",
    "axs[1].bar(centros_bins, acertos_neg, width=0.08, label='Acertos', color='green')\n",
    "axs[1].bar(centros_bins, erros_neg, width=0.08, bottom=acertos_neg, label='Erros', color='red')\n",
    "axs[1].set_title('Casos Negativos (rótulo = 0)')\n",
    "axs[1].set_xlabel('Intervalo de Probabilidade')\n",
    "axs[1].set_ylabel('Número de Casos')\n",
    "axs[1].legend()\n",
    "axs[1].grid(axis='y', alpha=0.75)\n",
    "\n",
    "plt.tight_layout()\n",
    "plt.show()\n"
   ]
  },
  {
   "cell_type": "code",
   "execution_count": null,
   "metadata": {},
   "outputs": [
    {
     "name": "stderr",
     "output_type": "stream",
     "text": [
      "100%|██████████| 5022/5022 [00:06<00:00, 791.38it/s]\n"
     ]
    },
    {
     "name": "stdout",
     "output_type": "stream",
     "text": [
      "Parte 1 salva em: dados/df_com_pred_prob_final_1.parquet\n"
     ]
    },
    {
     "name": "stderr",
     "output_type": "stream",
     "text": [
      "100%|██████████| 5022/5022 [00:10<00:00, 492.41it/s]\n"
     ]
    },
    {
     "name": "stdout",
     "output_type": "stream",
     "text": [
      "Parte 2 salva em: dados/df_com_pred_prob_final_2.parquet\n"
     ]
    },
    {
     "name": "stderr",
     "output_type": "stream",
     "text": [
      "100%|██████████| 5022/5022 [00:12<00:00, 403.00it/s]\n"
     ]
    },
    {
     "name": "stdout",
     "output_type": "stream",
     "text": [
      "Parte 3 salva em: dados/df_com_pred_prob_final_3.parquet\n"
     ]
    },
    {
     "name": "stderr",
     "output_type": "stream",
     "text": [
      "100%|██████████| 5022/5022 [00:18<00:00, 264.70it/s]\n"
     ]
    },
    {
     "name": "stdout",
     "output_type": "stream",
     "text": [
      "Parte 4 salva em: dados/df_com_pred_prob_final_4.parquet\n"
     ]
    },
    {
     "name": "stderr",
     "output_type": "stream",
     "text": [
      "100%|██████████| 5022/5022 [00:16<00:00, 300.79it/s]\n"
     ]
    },
    {
     "name": "stdout",
     "output_type": "stream",
     "text": [
      "Parte 5 salva em: dados/df_com_pred_prob_final_5.parquet\n"
     ]
    },
    {
     "name": "stderr",
     "output_type": "stream",
     "text": [
      "100%|██████████| 5022/5022 [00:17<00:00, 280.51it/s]\n"
     ]
    },
    {
     "name": "stdout",
     "output_type": "stream",
     "text": [
      "Parte 6 salva em: dados/df_com_pred_prob_final_6.parquet\n"
     ]
    },
    {
     "name": "stderr",
     "output_type": "stream",
     "text": [
      "100%|██████████| 5022/5022 [00:15<00:00, 327.68it/s]\n"
     ]
    },
    {
     "name": "stdout",
     "output_type": "stream",
     "text": [
      "Parte 7 salva em: dados/df_com_pred_prob_final_7.parquet\n"
     ]
    },
    {
     "name": "stderr",
     "output_type": "stream",
     "text": [
      "100%|██████████| 5022/5022 [00:15<00:00, 314.67it/s]\n"
     ]
    },
    {
     "name": "stdout",
     "output_type": "stream",
     "text": [
      "Parte 8 salva em: dados/df_com_pred_prob_final_8.parquet\n"
     ]
    },
    {
     "name": "stderr",
     "output_type": "stream",
     "text": [
      "100%|██████████| 5022/5022 [00:17<00:00, 294.69it/s]\n"
     ]
    },
    {
     "name": "stdout",
     "output_type": "stream",
     "text": [
      "Parte 9 salva em: dados/df_com_pred_prob_final_9.parquet\n"
     ]
    },
    {
     "name": "stderr",
     "output_type": "stream",
     "text": [
      "100%|██████████| 5022/5022 [00:21<00:00, 228.48it/s]\n"
     ]
    },
    {
     "name": "stdout",
     "output_type": "stream",
     "text": [
      "Parte 10 salva em: dados/df_com_pred_prob_final_10.parquet\n"
     ]
    },
    {
     "name": "stderr",
     "output_type": "stream",
     "text": [
      "100%|██████████| 5022/5022 [00:25<00:00, 199.61it/s]\n"
     ]
    },
    {
     "name": "stdout",
     "output_type": "stream",
     "text": [
      "Parte 11 salva em: dados/df_com_pred_prob_final_11.parquet\n"
     ]
    },
    {
     "name": "stderr",
     "output_type": "stream",
     "text": [
      "100%|██████████| 5022/5022 [00:18<00:00, 275.08it/s]\n"
     ]
    },
    {
     "name": "stdout",
     "output_type": "stream",
     "text": [
      "Parte 12 salva em: dados/df_com_pred_prob_final_12.parquet\n"
     ]
    },
    {
     "name": "stderr",
     "output_type": "stream",
     "text": [
      "100%|██████████| 5022/5022 [00:11<00:00, 451.10it/s]\n"
     ]
    },
    {
     "name": "stdout",
     "output_type": "stream",
     "text": [
      "Parte 13 salva em: dados/df_com_pred_prob_final_13.parquet\n"
     ]
    },
    {
     "name": "stderr",
     "output_type": "stream",
     "text": [
      "100%|██████████| 5022/5022 [00:13<00:00, 371.73it/s]\n"
     ]
    },
    {
     "name": "stdout",
     "output_type": "stream",
     "text": [
      "Parte 14 salva em: dados/df_com_pred_prob_final_14.parquet\n"
     ]
    },
    {
     "name": "stderr",
     "output_type": "stream",
     "text": [
      "100%|██████████| 5022/5022 [00:16<00:00, 300.74it/s]\n"
     ]
    },
    {
     "name": "stdout",
     "output_type": "stream",
     "text": [
      "Parte 15 salva em: dados/df_com_pred_prob_final_15.parquet\n"
     ]
    },
    {
     "name": "stderr",
     "output_type": "stream",
     "text": [
      "100%|██████████| 5022/5022 [00:16<00:00, 301.99it/s]\n"
     ]
    },
    {
     "name": "stdout",
     "output_type": "stream",
     "text": [
      "Parte 16 salva em: dados/df_com_pred_prob_final_16.parquet\n"
     ]
    },
    {
     "name": "stderr",
     "output_type": "stream",
     "text": [
      "100%|██████████| 5022/5022 [00:19<00:00, 258.98it/s]\n"
     ]
    },
    {
     "name": "stdout",
     "output_type": "stream",
     "text": [
      "Parte 17 salva em: dados/df_com_pred_prob_final_17.parquet\n"
     ]
    },
    {
     "name": "stderr",
     "output_type": "stream",
     "text": [
      "100%|██████████| 5022/5022 [00:19<00:00, 257.97it/s]\n"
     ]
    },
    {
     "name": "stdout",
     "output_type": "stream",
     "text": [
      "Parte 18 salva em: dados/df_com_pred_prob_final_18.parquet\n"
     ]
    },
    {
     "name": "stderr",
     "output_type": "stream",
     "text": [
      "100%|██████████| 5022/5022 [00:22<00:00, 224.95it/s]\n"
     ]
    },
    {
     "name": "stdout",
     "output_type": "stream",
     "text": [
      "Parte 19 salva em: dados/df_com_pred_prob_final_19.parquet\n"
     ]
    },
    {
     "name": "stderr",
     "output_type": "stream",
     "text": [
      "100%|██████████| 5022/5022 [00:27<00:00, 185.03it/s]\n"
     ]
    },
    {
     "name": "stdout",
     "output_type": "stream",
     "text": [
      "Parte 20 salva em: dados/df_com_pred_prob_final_20.parquet\n"
     ]
    },
    {
     "name": "stderr",
     "output_type": "stream",
     "text": [
      "100%|██████████| 5022/5022 [00:14<00:00, 342.44it/s]\n"
     ]
    },
    {
     "name": "stdout",
     "output_type": "stream",
     "text": [
      "Parte 21 salva em: dados/df_com_pred_prob_final_21.parquet\n"
     ]
    },
    {
     "name": "stderr",
     "output_type": "stream",
     "text": [
      "100%|██████████| 5022/5022 [00:13<00:00, 368.54it/s]\n"
     ]
    },
    {
     "name": "stdout",
     "output_type": "stream",
     "text": [
      "Parte 22 salva em: dados/df_com_pred_prob_final_22.parquet\n"
     ]
    },
    {
     "name": "stderr",
     "output_type": "stream",
     "text": [
      "100%|██████████| 5022/5022 [00:16<00:00, 296.99it/s]\n"
     ]
    },
    {
     "name": "stdout",
     "output_type": "stream",
     "text": [
      "Parte 23 salva em: dados/df_com_pred_prob_final_23.parquet\n"
     ]
    },
    {
     "name": "stderr",
     "output_type": "stream",
     "text": [
      "100%|██████████| 5022/5022 [00:20<00:00, 250.37it/s]\n"
     ]
    },
    {
     "name": "stdout",
     "output_type": "stream",
     "text": [
      "Parte 24 salva em: dados/df_com_pred_prob_final_24.parquet\n"
     ]
    },
    {
     "name": "stderr",
     "output_type": "stream",
     "text": [
      "100%|██████████| 5022/5022 [00:36<00:00, 137.83it/s]\n"
     ]
    },
    {
     "name": "stdout",
     "output_type": "stream",
     "text": [
      "Parte 25 salva em: dados/df_com_pred_prob_final_25.parquet\n"
     ]
    },
    {
     "name": "stderr",
     "output_type": "stream",
     "text": [
      "100%|██████████| 5022/5022 [00:24<00:00, 207.09it/s]\n"
     ]
    },
    {
     "name": "stdout",
     "output_type": "stream",
     "text": [
      "Parte 26 salva em: dados/df_com_pred_prob_final_26.parquet\n"
     ]
    },
    {
     "name": "stderr",
     "output_type": "stream",
     "text": [
      "100%|██████████| 5022/5022 [00:21<00:00, 228.87it/s]\n"
     ]
    },
    {
     "name": "stdout",
     "output_type": "stream",
     "text": [
      "Parte 27 salva em: dados/df_com_pred_prob_final_27.parquet\n"
     ]
    },
    {
     "name": "stderr",
     "output_type": "stream",
     "text": [
      "100%|██████████| 5022/5022 [00:20<00:00, 245.30it/s]\n"
     ]
    },
    {
     "name": "stdout",
     "output_type": "stream",
     "text": [
      "Parte 28 salva em: dados/df_com_pred_prob_final_28.parquet\n"
     ]
    },
    {
     "name": "stderr",
     "output_type": "stream",
     "text": [
      "100%|██████████| 5022/5022 [00:13<00:00, 379.60it/s]\n"
     ]
    },
    {
     "name": "stdout",
     "output_type": "stream",
     "text": [
      "Parte 29 salva em: dados/df_com_pred_prob_final_29.parquet\n"
     ]
    },
    {
     "name": "stderr",
     "output_type": "stream",
     "text": [
      "100%|██████████| 5022/5022 [00:15<00:00, 328.28it/s]\n"
     ]
    },
    {
     "name": "stdout",
     "output_type": "stream",
     "text": [
      "Parte 30 salva em: dados/df_com_pred_prob_final_30.parquet\n"
     ]
    },
    {
     "name": "stderr",
     "output_type": "stream",
     "text": [
      "100%|██████████| 5022/5022 [00:15<00:00, 320.86it/s]\n"
     ]
    },
    {
     "name": "stdout",
     "output_type": "stream",
     "text": [
      "Parte 31 salva em: dados/df_com_pred_prob_final_31.parquet\n"
     ]
    },
    {
     "name": "stderr",
     "output_type": "stream",
     "text": [
      "100%|██████████| 5022/5022 [00:16<00:00, 304.11it/s]\n"
     ]
    },
    {
     "name": "stdout",
     "output_type": "stream",
     "text": [
      "Parte 32 salva em: dados/df_com_pred_prob_final_32.parquet\n"
     ]
    },
    {
     "name": "stderr",
     "output_type": "stream",
     "text": [
      "100%|██████████| 5022/5022 [00:17<00:00, 287.09it/s]\n"
     ]
    },
    {
     "name": "stdout",
     "output_type": "stream",
     "text": [
      "Parte 33 salva em: dados/df_com_pred_prob_final_33.parquet\n"
     ]
    },
    {
     "name": "stderr",
     "output_type": "stream",
     "text": [
      "100%|██████████| 5022/5022 [00:20<00:00, 245.84it/s]\n"
     ]
    },
    {
     "name": "stdout",
     "output_type": "stream",
     "text": [
      "Parte 34 salva em: dados/df_com_pred_prob_final_34.parquet\n"
     ]
    },
    {
     "name": "stderr",
     "output_type": "stream",
     "text": [
      "100%|██████████| 5022/5022 [00:22<00:00, 220.34it/s]\n"
     ]
    },
    {
     "name": "stdout",
     "output_type": "stream",
     "text": [
      "Parte 35 salva em: dados/df_com_pred_prob_final_35.parquet\n"
     ]
    },
    {
     "name": "stderr",
     "output_type": "stream",
     "text": [
      "100%|██████████| 5022/5022 [00:24<00:00, 204.10it/s]\n"
     ]
    },
    {
     "name": "stdout",
     "output_type": "stream",
     "text": [
      "Parte 36 salva em: dados/df_com_pred_prob_final_36.parquet\n"
     ]
    },
    {
     "name": "stderr",
     "output_type": "stream",
     "text": [
      "100%|██████████| 5022/5022 [00:20<00:00, 241.87it/s]\n"
     ]
    },
    {
     "name": "stdout",
     "output_type": "stream",
     "text": [
      "Parte 37 salva em: dados/df_com_pred_prob_final_37.parquet\n"
     ]
    },
    {
     "name": "stderr",
     "output_type": "stream",
     "text": [
      "100%|██████████| 5022/5022 [00:11<00:00, 421.12it/s]\n"
     ]
    },
    {
     "name": "stdout",
     "output_type": "stream",
     "text": [
      "Parte 38 salva em: dados/df_com_pred_prob_final_38.parquet\n"
     ]
    },
    {
     "name": "stderr",
     "output_type": "stream",
     "text": [
      "100%|██████████| 5022/5022 [00:13<00:00, 372.00it/s]\n"
     ]
    },
    {
     "name": "stdout",
     "output_type": "stream",
     "text": [
      "Parte 39 salva em: dados/df_com_pred_prob_final_39.parquet\n"
     ]
    },
    {
     "name": "stderr",
     "output_type": "stream",
     "text": [
      "100%|██████████| 5022/5022 [00:15<00:00, 317.52it/s]\n"
     ]
    },
    {
     "name": "stdout",
     "output_type": "stream",
     "text": [
      "Parte 40 salva em: dados/df_com_pred_prob_final_40.parquet\n"
     ]
    },
    {
     "name": "stderr",
     "output_type": "stream",
     "text": [
      "100%|██████████| 5022/5022 [00:15<00:00, 314.45it/s]\n"
     ]
    },
    {
     "name": "stdout",
     "output_type": "stream",
     "text": [
      "Parte 41 salva em: dados/df_com_pred_prob_final_41.parquet\n"
     ]
    },
    {
     "name": "stderr",
     "output_type": "stream",
     "text": [
      "100%|██████████| 5022/5022 [00:19<00:00, 252.73it/s]\n"
     ]
    },
    {
     "name": "stdout",
     "output_type": "stream",
     "text": [
      "Parte 42 salva em: dados/df_com_pred_prob_final_42.parquet\n"
     ]
    },
    {
     "name": "stderr",
     "output_type": "stream",
     "text": [
      "100%|██████████| 5022/5022 [00:17<00:00, 283.50it/s]\n"
     ]
    },
    {
     "name": "stdout",
     "output_type": "stream",
     "text": [
      "Parte 43 salva em: dados/df_com_pred_prob_final_43.parquet\n"
     ]
    },
    {
     "name": "stderr",
     "output_type": "stream",
     "text": [
      "100%|██████████| 5022/5022 [00:20<00:00, 249.11it/s]\n"
     ]
    },
    {
     "name": "stdout",
     "output_type": "stream",
     "text": [
      "Parte 44 salva em: dados/df_com_pred_prob_final_44.parquet\n"
     ]
    },
    {
     "name": "stderr",
     "output_type": "stream",
     "text": [
      "100%|██████████| 5022/5022 [00:23<00:00, 216.43it/s]\n"
     ]
    },
    {
     "name": "stdout",
     "output_type": "stream",
     "text": [
      "Parte 45 salva em: dados/df_com_pred_prob_final_45.parquet\n"
     ]
    },
    {
     "name": "stderr",
     "output_type": "stream",
     "text": [
      "100%|██████████| 5022/5022 [00:24<00:00, 204.00it/s]\n"
     ]
    },
    {
     "name": "stdout",
     "output_type": "stream",
     "text": [
      "Parte 46 salva em: dados/df_com_pred_prob_final_46.parquet\n"
     ]
    },
    {
     "name": "stderr",
     "output_type": "stream",
     "text": [
      "100%|██████████| 5022/5022 [00:10<00:00, 466.18it/s]\n"
     ]
    },
    {
     "name": "stdout",
     "output_type": "stream",
     "text": [
      "Parte 47 salva em: dados/df_com_pred_prob_final_47.parquet\n"
     ]
    },
    {
     "name": "stderr",
     "output_type": "stream",
     "text": [
      "100%|██████████| 5022/5022 [00:12<00:00, 391.24it/s]\n"
     ]
    },
    {
     "name": "stdout",
     "output_type": "stream",
     "text": [
      "Parte 48 salva em: dados/df_com_pred_prob_final_48.parquet\n"
     ]
    },
    {
     "name": "stderr",
     "output_type": "stream",
     "text": [
      "100%|██████████| 5022/5022 [00:15<00:00, 316.81it/s]\n"
     ]
    },
    {
     "name": "stdout",
     "output_type": "stream",
     "text": [
      "Parte 49 salva em: dados/df_com_pred_prob_final_49.parquet\n"
     ]
    },
    {
     "name": "stderr",
     "output_type": "stream",
     "text": [
      "100%|██████████| 5022/5022 [00:18<00:00, 278.40it/s]\n"
     ]
    },
    {
     "name": "stdout",
     "output_type": "stream",
     "text": [
      "Parte 50 salva em: dados/df_com_pred_prob_final_50.parquet\n"
     ]
    },
    {
     "name": "stderr",
     "output_type": "stream",
     "text": [
      "100%|██████████| 5022/5022 [00:17<00:00, 285.95it/s]\n"
     ]
    },
    {
     "name": "stdout",
     "output_type": "stream",
     "text": [
      "Parte 51 salva em: dados/df_com_pred_prob_final_51.parquet\n"
     ]
    },
    {
     "name": "stderr",
     "output_type": "stream",
     "text": [
      "100%|██████████| 5022/5022 [00:22<00:00, 227.49it/s]\n"
     ]
    },
    {
     "name": "stdout",
     "output_type": "stream",
     "text": [
      "Parte 52 salva em: dados/df_com_pred_prob_final_52.parquet\n"
     ]
    },
    {
     "name": "stderr",
     "output_type": "stream",
     "text": [
      "100%|██████████| 5022/5022 [00:20<00:00, 244.66it/s]\n"
     ]
    },
    {
     "name": "stdout",
     "output_type": "stream",
     "text": [
      "Parte 53 salva em: dados/df_com_pred_prob_final_53.parquet\n"
     ]
    },
    {
     "name": "stderr",
     "output_type": "stream",
     "text": [
      "100%|██████████| 5022/5022 [00:27<00:00, 184.58it/s]\n"
     ]
    },
    {
     "name": "stdout",
     "output_type": "stream",
     "text": [
      "Parte 54 salva em: dados/df_com_pred_prob_final_54.parquet\n"
     ]
    },
    {
     "name": "stderr",
     "output_type": "stream",
     "text": [
      "100%|██████████| 5022/5022 [00:39<00:00, 127.72it/s]\n"
     ]
    },
    {
     "name": "stdout",
     "output_type": "stream",
     "text": [
      "Parte 55 salva em: dados/df_com_pred_prob_final_55.parquet\n"
     ]
    },
    {
     "name": "stderr",
     "output_type": "stream",
     "text": [
      "100%|██████████| 5022/5022 [00:17<00:00, 292.96it/s]\n"
     ]
    },
    {
     "name": "stdout",
     "output_type": "stream",
     "text": [
      "Parte 56 salva em: dados/df_com_pred_prob_final_56.parquet\n"
     ]
    },
    {
     "name": "stderr",
     "output_type": "stream",
     "text": [
      "100%|██████████| 5022/5022 [00:24<00:00, 204.33it/s]\n"
     ]
    },
    {
     "name": "stdout",
     "output_type": "stream",
     "text": [
      "Parte 57 salva em: dados/df_com_pred_prob_final_57.parquet\n"
     ]
    },
    {
     "name": "stderr",
     "output_type": "stream",
     "text": [
      "100%|██████████| 5022/5022 [00:17<00:00, 281.04it/s]\n"
     ]
    },
    {
     "name": "stdout",
     "output_type": "stream",
     "text": [
      "Parte 58 salva em: dados/df_com_pred_prob_final_58.parquet\n"
     ]
    },
    {
     "name": "stderr",
     "output_type": "stream",
     "text": [
      "100%|██████████| 5022/5022 [00:14<00:00, 338.94it/s]\n"
     ]
    },
    {
     "name": "stdout",
     "output_type": "stream",
     "text": [
      "Parte 59 salva em: dados/df_com_pred_prob_final_59.parquet\n"
     ]
    },
    {
     "name": "stderr",
     "output_type": "stream",
     "text": [
      "100%|██████████| 5022/5022 [00:16<00:00, 303.33it/s]\n"
     ]
    },
    {
     "name": "stdout",
     "output_type": "stream",
     "text": [
      "Parte 60 salva em: dados/df_com_pred_prob_final_60.parquet\n"
     ]
    },
    {
     "name": "stderr",
     "output_type": "stream",
     "text": [
      "100%|██████████| 5022/5022 [00:19<00:00, 258.03it/s]\n"
     ]
    },
    {
     "name": "stdout",
     "output_type": "stream",
     "text": [
      "Parte 61 salva em: dados/df_com_pred_prob_final_61.parquet\n"
     ]
    },
    {
     "name": "stderr",
     "output_type": "stream",
     "text": [
      "100%|██████████| 5022/5022 [00:21<00:00, 231.76it/s]\n"
     ]
    },
    {
     "name": "stdout",
     "output_type": "stream",
     "text": [
      "Parte 62 salva em: dados/df_com_pred_prob_final_62.parquet\n"
     ]
    },
    {
     "name": "stderr",
     "output_type": "stream",
     "text": [
      "100%|██████████| 5022/5022 [00:23<00:00, 216.58it/s]\n"
     ]
    },
    {
     "name": "stdout",
     "output_type": "stream",
     "text": [
      "Parte 63 salva em: dados/df_com_pred_prob_final_63.parquet\n"
     ]
    },
    {
     "name": "stderr",
     "output_type": "stream",
     "text": [
      "100%|██████████| 5022/5022 [00:21<00:00, 233.08it/s]\n"
     ]
    },
    {
     "name": "stdout",
     "output_type": "stream",
     "text": [
      "Parte 64 salva em: dados/df_com_pred_prob_final_64.parquet\n"
     ]
    },
    {
     "name": "stderr",
     "output_type": "stream",
     "text": [
      "100%|██████████| 5022/5022 [00:18<00:00, 268.13it/s]\n"
     ]
    },
    {
     "name": "stdout",
     "output_type": "stream",
     "text": [
      "Parte 65 salva em: dados/df_com_pred_prob_final_65.parquet\n"
     ]
    },
    {
     "name": "stderr",
     "output_type": "stream",
     "text": [
      "100%|██████████| 5022/5022 [00:11<00:00, 420.99it/s]\n"
     ]
    },
    {
     "name": "stdout",
     "output_type": "stream",
     "text": [
      "Parte 66 salva em: dados/df_com_pred_prob_final_66.parquet\n"
     ]
    },
    {
     "name": "stderr",
     "output_type": "stream",
     "text": [
      "100%|██████████| 5022/5022 [00:14<00:00, 353.85it/s]\n"
     ]
    },
    {
     "name": "stdout",
     "output_type": "stream",
     "text": [
      "Parte 67 salva em: dados/df_com_pred_prob_final_67.parquet\n"
     ]
    },
    {
     "name": "stderr",
     "output_type": "stream",
     "text": [
      "100%|██████████| 5022/5022 [00:15<00:00, 316.83it/s]\n"
     ]
    },
    {
     "name": "stdout",
     "output_type": "stream",
     "text": [
      "Parte 68 salva em: dados/df_com_pred_prob_final_68.parquet\n"
     ]
    },
    {
     "name": "stderr",
     "output_type": "stream",
     "text": [
      "100%|██████████| 5022/5022 [00:18<00:00, 278.64it/s]\n"
     ]
    },
    {
     "name": "stdout",
     "output_type": "stream",
     "text": [
      "Parte 69 salva em: dados/df_com_pred_prob_final_69.parquet\n"
     ]
    },
    {
     "name": "stderr",
     "output_type": "stream",
     "text": [
      "100%|██████████| 5022/5022 [00:16<00:00, 303.64it/s]\n"
     ]
    },
    {
     "name": "stdout",
     "output_type": "stream",
     "text": [
      "Parte 70 salva em: dados/df_com_pred_prob_final_70.parquet\n"
     ]
    },
    {
     "name": "stderr",
     "output_type": "stream",
     "text": [
      "100%|██████████| 5022/5022 [00:18<00:00, 278.61it/s]\n"
     ]
    },
    {
     "name": "stdout",
     "output_type": "stream",
     "text": [
      "Parte 71 salva em: dados/df_com_pred_prob_final_71.parquet\n"
     ]
    },
    {
     "name": "stderr",
     "output_type": "stream",
     "text": [
      "100%|██████████| 5022/5022 [00:28<00:00, 176.66it/s]\n"
     ]
    },
    {
     "name": "stdout",
     "output_type": "stream",
     "text": [
      "Parte 72 salva em: dados/df_com_pred_prob_final_72.parquet\n"
     ]
    },
    {
     "name": "stderr",
     "output_type": "stream",
     "text": [
      "100%|██████████| 5022/5022 [00:22<00:00, 224.68it/s]\n"
     ]
    },
    {
     "name": "stdout",
     "output_type": "stream",
     "text": [
      "Parte 73 salva em: dados/df_com_pred_prob_final_73.parquet\n"
     ]
    },
    {
     "name": "stderr",
     "output_type": "stream",
     "text": [
      "100%|██████████| 5022/5022 [00:25<00:00, 200.36it/s]\n"
     ]
    },
    {
     "name": "stdout",
     "output_type": "stream",
     "text": [
      "Parte 74 salva em: dados/df_com_pred_prob_final_74.parquet\n"
     ]
    },
    {
     "name": "stderr",
     "output_type": "stream",
     "text": [
      "100%|██████████| 5022/5022 [00:13<00:00, 382.14it/s]\n"
     ]
    },
    {
     "name": "stdout",
     "output_type": "stream",
     "text": [
      "Parte 75 salva em: dados/df_com_pred_prob_final_75.parquet\n"
     ]
    },
    {
     "name": "stderr",
     "output_type": "stream",
     "text": [
      "100%|██████████| 5022/5022 [00:14<00:00, 340.76it/s]\n"
     ]
    },
    {
     "name": "stdout",
     "output_type": "stream",
     "text": [
      "Parte 76 salva em: dados/df_com_pred_prob_final_76.parquet\n"
     ]
    },
    {
     "name": "stderr",
     "output_type": "stream",
     "text": [
      "100%|██████████| 5022/5022 [00:17<00:00, 285.65it/s]\n"
     ]
    },
    {
     "name": "stdout",
     "output_type": "stream",
     "text": [
      "Parte 77 salva em: dados/df_com_pred_prob_final_77.parquet\n"
     ]
    },
    {
     "name": "stderr",
     "output_type": "stream",
     "text": [
      "100%|██████████| 5022/5022 [00:21<00:00, 234.75it/s]\n"
     ]
    },
    {
     "name": "stdout",
     "output_type": "stream",
     "text": [
      "Parte 78 salva em: dados/df_com_pred_prob_final_78.parquet\n"
     ]
    },
    {
     "name": "stderr",
     "output_type": "stream",
     "text": [
      "100%|██████████| 5022/5022 [00:20<00:00, 249.63it/s]\n"
     ]
    },
    {
     "name": "stdout",
     "output_type": "stream",
     "text": [
      "Parte 79 salva em: dados/df_com_pred_prob_final_79.parquet\n"
     ]
    },
    {
     "name": "stderr",
     "output_type": "stream",
     "text": [
      "100%|██████████| 5022/5022 [00:20<00:00, 245.14it/s]\n"
     ]
    },
    {
     "name": "stdout",
     "output_type": "stream",
     "text": [
      "Parte 80 salva em: dados/df_com_pred_prob_final_80.parquet\n"
     ]
    },
    {
     "name": "stderr",
     "output_type": "stream",
     "text": [
      "100%|██████████| 5022/5022 [00:23<00:00, 212.75it/s]\n"
     ]
    },
    {
     "name": "stdout",
     "output_type": "stream",
     "text": [
      "Parte 81 salva em: dados/df_com_pred_prob_final_81.parquet\n"
     ]
    },
    {
     "name": "stderr",
     "output_type": "stream",
     "text": [
      "100%|██████████| 5022/5022 [00:23<00:00, 213.78it/s]\n"
     ]
    },
    {
     "name": "stdout",
     "output_type": "stream",
     "text": [
      "Parte 82 salva em: dados/df_com_pred_prob_final_82.parquet\n"
     ]
    },
    {
     "name": "stderr",
     "output_type": "stream",
     "text": [
      "100%|██████████| 5022/5022 [00:27<00:00, 183.76it/s]\n"
     ]
    },
    {
     "name": "stdout",
     "output_type": "stream",
     "text": [
      "Parte 83 salva em: dados/df_com_pred_prob_final_83.parquet\n"
     ]
    },
    {
     "name": "stderr",
     "output_type": "stream",
     "text": [
      "100%|██████████| 5022/5022 [00:23<00:00, 213.51it/s]\n"
     ]
    },
    {
     "name": "stdout",
     "output_type": "stream",
     "text": [
      "Parte 84 salva em: dados/df_com_pred_prob_final_84.parquet\n"
     ]
    },
    {
     "name": "stderr",
     "output_type": "stream",
     "text": [
      "100%|██████████| 5022/5022 [00:17<00:00, 290.40it/s]\n"
     ]
    },
    {
     "name": "stdout",
     "output_type": "stream",
     "text": [
      "Parte 85 salva em: dados/df_com_pred_prob_final_85.parquet\n"
     ]
    },
    {
     "name": "stderr",
     "output_type": "stream",
     "text": [
      "100%|██████████| 5022/5022 [00:16<00:00, 307.39it/s]\n"
     ]
    },
    {
     "name": "stdout",
     "output_type": "stream",
     "text": [
      "Parte 86 salva em: dados/df_com_pred_prob_final_86.parquet\n"
     ]
    },
    {
     "name": "stderr",
     "output_type": "stream",
     "text": [
      "100%|██████████| 5022/5022 [00:18<00:00, 276.95it/s]\n"
     ]
    },
    {
     "name": "stdout",
     "output_type": "stream",
     "text": [
      "Parte 87 salva em: dados/df_com_pred_prob_final_87.parquet\n"
     ]
    },
    {
     "name": "stderr",
     "output_type": "stream",
     "text": [
      "100%|██████████| 5022/5022 [00:16<00:00, 298.70it/s]\n"
     ]
    },
    {
     "name": "stdout",
     "output_type": "stream",
     "text": [
      "Parte 88 salva em: dados/df_com_pred_prob_final_88.parquet\n"
     ]
    },
    {
     "name": "stderr",
     "output_type": "stream",
     "text": [
      "100%|██████████| 5022/5022 [00:18<00:00, 270.78it/s]\n"
     ]
    },
    {
     "name": "stdout",
     "output_type": "stream",
     "text": [
      "Parte 89 salva em: dados/df_com_pred_prob_final_89.parquet\n"
     ]
    },
    {
     "name": "stderr",
     "output_type": "stream",
     "text": [
      "100%|██████████| 5022/5022 [00:19<00:00, 252.11it/s]\n"
     ]
    },
    {
     "name": "stdout",
     "output_type": "stream",
     "text": [
      "Parte 90 salva em: dados/df_com_pred_prob_final_90.parquet\n"
     ]
    },
    {
     "name": "stderr",
     "output_type": "stream",
     "text": [
      "100%|██████████| 5022/5022 [00:37<00:00, 132.42it/s]\n"
     ]
    },
    {
     "name": "stdout",
     "output_type": "stream",
     "text": [
      "Parte 91 salva em: dados/df_com_pred_prob_final_91.parquet\n"
     ]
    },
    {
     "name": "stderr",
     "output_type": "stream",
     "text": [
      "100%|██████████| 5022/5022 [00:42<00:00, 117.21it/s]\n"
     ]
    },
    {
     "name": "stdout",
     "output_type": "stream",
     "text": [
      "Parte 92 salva em: dados/df_com_pred_prob_final_92.parquet\n"
     ]
    },
    {
     "name": "stderr",
     "output_type": "stream",
     "text": [
      "100%|██████████| 5022/5022 [00:38<00:00, 129.71it/s]\n"
     ]
    },
    {
     "name": "stdout",
     "output_type": "stream",
     "text": [
      "Parte 93 salva em: dados/df_com_pred_prob_final_93.parquet\n"
     ]
    },
    {
     "name": "stderr",
     "output_type": "stream",
     "text": [
      "100%|██████████| 5022/5022 [00:25<00:00, 195.51it/s]\n"
     ]
    },
    {
     "name": "stdout",
     "output_type": "stream",
     "text": [
      "Parte 94 salva em: dados/df_com_pred_prob_final_94.parquet\n"
     ]
    },
    {
     "name": "stderr",
     "output_type": "stream",
     "text": [
      "100%|██████████| 5022/5022 [00:30<00:00, 166.13it/s]\n"
     ]
    },
    {
     "name": "stdout",
     "output_type": "stream",
     "text": [
      "Parte 95 salva em: dados/df_com_pred_prob_final_95.parquet\n"
     ]
    },
    {
     "name": "stderr",
     "output_type": "stream",
     "text": [
      "100%|██████████| 5022/5022 [00:36<00:00, 136.82it/s]\n"
     ]
    },
    {
     "name": "stdout",
     "output_type": "stream",
     "text": [
      "Parte 96 salva em: dados/df_com_pred_prob_final_96.parquet\n"
     ]
    },
    {
     "name": "stderr",
     "output_type": "stream",
     "text": [
      "100%|██████████| 5022/5022 [00:36<00:00, 139.36it/s]\n"
     ]
    },
    {
     "name": "stdout",
     "output_type": "stream",
     "text": [
      "Parte 97 salva em: dados/df_com_pred_prob_final_97.parquet\n"
     ]
    },
    {
     "name": "stderr",
     "output_type": "stream",
     "text": [
      "100%|██████████| 5022/5022 [00:42<00:00, 118.60it/s]\n"
     ]
    },
    {
     "name": "stdout",
     "output_type": "stream",
     "text": [
      "Parte 98 salva em: dados/df_com_pred_prob_final_98.parquet\n"
     ]
    },
    {
     "name": "stderr",
     "output_type": "stream",
     "text": [
      "100%|██████████| 5022/5022 [07:53<00:00, 10.60it/s]  \n"
     ]
    },
    {
     "name": "stdout",
     "output_type": "stream",
     "text": [
      "Parte 99 salva em: dados/df_com_pred_prob_final_99.parquet\n"
     ]
    },
    {
     "name": "stderr",
     "output_type": "stream",
     "text": [
      "100%|██████████| 5045/5045 [00:54<00:00, 92.19it/s] \n"
     ]
    },
    {
     "name": "stdout",
     "output_type": "stream",
     "text": [
      "Parte 100 salva em: dados/df_com_pred_prob_final_100.parquet\n"
     ]
    }
   ],
   "source": [
    "# Suponha que n seja o número de partes desejadas\n",
    "n = 100  # ajuste conforme necessário\n",
    "\n",
    "# Calcula o tamanho de cada parte\n",
    "chunk_size = len(df) // n\n",
    "\n",
    "for i in range(n):\n",
    "    inicio = i * chunk_size\n",
    "    # Na última iteração, pega o restante do DataFrame\n",
    "    fim = len(df) if i == n - 1 else (i + 1) * chunk_size\n",
    "    \n",
    "    # Cria uma cópia da parte do DataFrame para evitar warnings de atribuição\n",
    "    df_parcial = df.iloc[inicio:fim].copy()\n",
    "    \n",
    "    # Aplica o pipeline de processamento\n",
    "    L_parcial = applier.apply(df=df_parcial)\n",
    "    pred_parcial = label_model.predict_proba(L=L_parcial)\n",
    "    \n",
    "    # Atribui as probabilidades preditas à coluna 'pred_prob'\n",
    "    df_parcial['pred_prob'] = pred_parcial.tolist()\n",
    "    \n",
    "    # Define o caminho de salvamento com o sufixo incremental\n",
    "    caminho = f'{path_dados}/df_com_pred_prob_final_{i+1}.parquet'\n",
    "    df_parcial.to_parquet(caminho)\n",
    "    \n",
    "    print(f'Parte {i+1} salva em: {caminho}')"
   ]
  },
  {
   "cell_type": "code",
   "execution_count": null,
   "metadata": {},
   "outputs": [
    {
     "ename": "NameError",
     "evalue": "name 'pred_todos_os_casos' is not defined",
     "output_type": "error",
     "traceback": [
      "\u001b[1;31m---------------------------------------------------------------------------\u001b[0m",
      "\u001b[1;31mNameError\u001b[0m                                 Traceback (most recent call last)",
      "Cell \u001b[1;32mIn[34], line 1\u001b[0m\n\u001b[1;32m----> 1\u001b[0m df[\u001b[38;5;124m'\u001b[39m\u001b[38;5;124mpred_prob\u001b[39m\u001b[38;5;124m'\u001b[39m] \u001b[38;5;241m=\u001b[39m pred_todos_os_casos\n\u001b[0;32m      2\u001b[0m df\u001b[38;5;241m.\u001b[39mto_parquet(\u001b[38;5;124mf\u001b[39m\u001b[38;5;124m'\u001b[39m\u001b[38;5;132;01m{\u001b[39;00mpath\u001b[38;5;132;01m}\u001b[39;00m\u001b[38;5;124m/df_com_pred_prob.parquet\u001b[39m\u001b[38;5;124m'\u001b[39m)\n",
      "\u001b[1;31mNameError\u001b[0m: name 'pred_todos_os_casos' is not defined"
     ]
    }
   ],
   "source": [
    "df['pred_prob'] = pred_todos_os_casos\n",
    "df.to_parquet(f'{path}/df_com_pred_prob.parquet')"
   ]
  },
  {
   "cell_type": "code",
   "execution_count": null,
   "metadata": {},
   "outputs": [],
   "source": []
  },
  {
   "cell_type": "code",
   "execution_count": null,
   "metadata": {},
   "outputs": [],
   "source": [
    "# Iterate over the labeling functions and their corresponding weights in the label model\n",
    "# This code is useful for understanding the contribution of each labeling function to the label model, and can be used to identify labeling functions that are particularly informative or noisy.\n",
    "for name, value in zip([lf.name for lf in lfs], label_model.get_weights()):\n",
    "    # Print the name of the labeling function and its weight as a percentage\n",
    "    print(f'{name}: {value*100:.2f}%')"
   ]
  },
  {
   "cell_type": "code",
   "execution_count": null,
   "metadata": {},
   "outputs": [],
   "source": []
  }
 ],
 "metadata": {
  "kernelspec": {
   "display_name": "base",
   "language": "python",
   "name": "python3"
  },
  "language_info": {
   "codemirror_mode": {
    "name": "ipython",
    "version": 3
   },
   "file_extension": ".py",
   "mimetype": "text/x-python",
   "name": "python",
   "nbconvert_exporter": "python",
   "pygments_lexer": "ipython3",
   "version": "3.12.7"
  }
 },
 "nbformat": 4,
 "nbformat_minor": 2
}
