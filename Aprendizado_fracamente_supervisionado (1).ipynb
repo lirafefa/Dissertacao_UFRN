{
  "cells": [
    {
      "cell_type": "code",
      "execution_count": null,
      "metadata": {
        "id": "H8OYc2GTwrTv"
      },
      "outputs": [],
      "source": [
        "import pandas as pd\n",
        "import matplotlib.pyplot as plt\n",
        "import numpy as np\n",
        "\n",
        "import re\n",
        "from snorkel.labeling import labeling_function\n",
        "from funcoes_graficas import conflict_matrix_show"
      ]
    },
    {
      "cell_type": "markdown",
      "metadata": {
        "id": "P4GqZb91wrTy"
      },
      "source": [
        "# Premissas do Trabalho\n",
        "\n",
        "\n",
        "Esse trabalho tem como objetivo o uso de aprendizado de máquina fracamente supervisionado, para a classificação de petições iniciais sendo na qual tẽm como assunto processual o tema da aposentadoria ou não.\n",
        "\n",
        "- Nesse trabalho será usado um dataframe a partir das petições inicias extraidas do banco de dados do sistema processual CRETA, na qual foi realizado anteriormente a etapa de OCR para transformar as petições de formato \"pdf\" e de imagem em textosos_limposos_limposos_limposo na qual é possivel realizar as etapas de PLN e aprendizado de máquina.\n",
        "- As etapas de preparação dos textosos e retiradas de duplicatas foi realizada anteriormente, e se encontra no arquivo clean.py\n",
        "\n",
        "\n",
        "- Devido ao grande custo computacional inerente as atividades de vetorização textosos_limposos_limposos_limposos_limposos_limposos_limposos_limposos_limposos_limposual, carregamento em memoria e treinamento dos modelos de aprendizado de máquina, foi utilizado um sample do dataframe completo com apenas 10000 petições de diversos temas.\n",
        "\n",
        "- A pipeline de supervisão fraca irá consistir nas seguintes etapas:\n",
        "    1. Escrever as funções de rotulagem (labeling functions)\n",
        "    2. Treinar um LabelModel\n",
        "    3. Usar as saidas do LabelModel para treinar um modelo de descriminativo a vim de imputar uma classificação as\n",
        "     observação"
      ]
    },
    {
      "cell_type": "code",
      "execution_count": null,
      "metadata": {
        "id": "yxVrLUfJwrTz",
        "outputId": "35a34071-6de4-45b1-d4c4-0e010b986d80"
      },
      "outputs": [
        {
          "data": {
            "text/html": [
              "<div>\n",
              "<style scoped>\n",
              "    .dataframe tbody tr th:only-of-type {\n",
              "        vertical-align: middle;\n",
              "    }\n",
              "\n",
              "    .dataframe tbody tr th {\n",
              "        vertical-align: top;\n",
              "    }\n",
              "\n",
              "    .dataframe thead th {\n",
              "        text-align: right;\n",
              "    }\n",
              "</style>\n",
              "<table border=\"1\" class=\"dataframe\">\n",
              "  <thead>\n",
              "    <tr style=\"text-align: right;\">\n",
              "      <th></th>\n",
              "      <th>id</th>\n",
              "      <th>assunto</th>\n",
              "      <th>texto</th>\n",
              "      <th>textos_limpos</th>\n",
              "    </tr>\n",
              "    <tr>\n",
              "      <th>index</th>\n",
              "      <th></th>\n",
              "      <th></th>\n",
              "      <th></th>\n",
              "      <th></th>\n",
              "    </tr>\n",
              "  </thead>\n",
              "  <tbody>\n",
              "    <tr>\n",
              "      <th>184520</th>\n",
              "      <td>569162</td>\n",
              "      <td>Auxílio-Doença Previdenciário</td>\n",
              "      <td>\\n\\n\\n\\n\\n\\n\\n\\n\\n\\n\\n\\n\\n\\n\\n\\n\\n\\n\\n\\n\\n\\n\\n...</td>\n",
              "      <td>secção assu roque roberio ferreira brasileiro ...</td>\n",
              "    </tr>\n",
              "    <tr>\n",
              "      <th>141137</th>\n",
              "      <td>343275</td>\n",
              "      <td>Auxílio-Doença Previdenciário</td>\n",
              "      <td>\\n\\n\\n\\n\\n\\n\\n\\n\\n\\n\\n\\n\\n\\n\\n\\n\\n\\n\\n\\n\\n\\n\\n...</td>\n",
              "      <td>petição inicial auxilio juíz vara orlando pedr...</td>\n",
              "    </tr>\n",
              "    <tr>\n",
              "      <th>104403</th>\n",
              "      <td>302450</td>\n",
              "      <td>Auxílio-Doença Previdenciário</td>\n",
              "      <td>\\n\\n\\n\\n\\n\\n\\n\\n\\n\\n\\n\\n\\n\\n\\n\\n\\n\\n\\n\\n\\n\\n\\n...</td>\n",
              "      <td>petição usucapião correspondência eletrônica e...</td>\n",
              "    </tr>\n",
              "    <tr>\n",
              "      <th>220395</th>\n",
              "      <td>595364</td>\n",
              "      <td>Benefício Assistencial (Art. 203,V CF/88)</td>\n",
              "      <td>\\n\\n\\n\\n\\n\\n\\n\\n\\n\\n\\n\\n\\n\\n\\n\\n\\n\\n\\n\\n\\n\\n\\n...</td>\n",
              "      <td>vara federais couber apolonia nogueira lima so...</td>\n",
              "    </tr>\n",
              "    <tr>\n",
              "      <th>224237</th>\n",
              "      <td>598455</td>\n",
              "      <td>Aposentadoria por Idade (Art. 48/51)</td>\n",
              "      <td>\\n\\n\\n\\n\\n\\n\\n\\n\\n\\n\\n\\n\\n\\n\\n\\n\\n\\n\\n\\n\\n\\n\\n...</td>\n",
              "      <td>0511220 8400 gilberto alves oliveira devidamen...</td>\n",
              "    </tr>\n",
              "    <tr>\n",
              "      <th>...</th>\n",
              "      <td>...</td>\n",
              "      <td>...</td>\n",
              "      <td>...</td>\n",
              "      <td>...</td>\n",
              "    </tr>\n",
              "    <tr>\n",
              "      <th>217409</th>\n",
              "      <td>593354</td>\n",
              "      <td>Auxílio-Doença Previdenciário</td>\n",
              "      <td>\\n\\n\\n\\n\\n\\n\\n\\n\\n\\n\\n\\n\\n\\n\\n\\n\\n\\n\\n\\n\\n\\n\\n...</td>\n",
              "      <td>patição inicial karla vara federais natal karl...</td>\n",
              "    </tr>\n",
              "    <tr>\n",
              "      <th>46820</th>\n",
              "      <td>258146</td>\n",
              "      <td>Sistema Remuneratório e Benefícios</td>\n",
              "      <td>\\n\\n\\n\\n\\n\\n\\n\\n\\n\\n\\n\\n\\n\\n\\n\\n\\n\\n\\n\\n\\n    ...</td>\n",
              "      <td>albano barbalho advogados associados maria lou...</td>\n",
              "    </tr>\n",
              "    <tr>\n",
              "      <th>50464</th>\n",
              "      <td>261798</td>\n",
              "      <td>Auxílio-Doença Previdenciário</td>\n",
              "      <td>\\n\\n\\n\\n\\n\\n\\n\\n\\n\\n\\n\\n\\n\\n\\n\\n\\n\\n\\n\\n\\n\\n\\n...</td>\n",
              "      <td>poder judiciário juizados especiais lauro pint...</td>\n",
              "    </tr>\n",
              "    <tr>\n",
              "      <th>141823</th>\n",
              "      <td>344759</td>\n",
              "      <td>Restabelecimento</td>\n",
              "      <td>\\n\\n\\n\\n\\n\\n\\n\\n\\n\\n\\n\\n\\n\\n\\n\\n\\n\\n\\n\\n\\n\\n\\n...</td>\n",
              "      <td>jurandy pereira santos rest auxilio doenca rur...</td>\n",
              "    </tr>\n",
              "    <tr>\n",
              "      <th>3760</th>\n",
              "      <td>126720</td>\n",
              "      <td>Sistema Remuneratório e Benefícios</td>\n",
              "      <td>\\n\\n\\n\\n\\n\\n\\n\\n\\n\\n\\n\\n\\n\\n\\n\\n\\n\\n\\n\\nEXMO\\n...</td>\n",
              "      <td>exmo exmo vara coube legal maria lourdes marti...</td>\n",
              "    </tr>\n",
              "  </tbody>\n",
              "</table>\n",
              "<p>10000 rows × 4 columns</p>\n",
              "</div>"
            ],
            "text/plain": [
              "            id                                    assunto  \\\n",
              "index                                                       \n",
              "184520  569162              Auxílio-Doença Previdenciário   \n",
              "141137  343275              Auxílio-Doença Previdenciário   \n",
              "104403  302450              Auxílio-Doença Previdenciário   \n",
              "220395  595364  Benefício Assistencial (Art. 203,V CF/88)   \n",
              "224237  598455       Aposentadoria por Idade (Art. 48/51)   \n",
              "...        ...                                        ...   \n",
              "217409  593354              Auxílio-Doença Previdenciário   \n",
              "46820   258146         Sistema Remuneratório e Benefícios   \n",
              "50464   261798              Auxílio-Doença Previdenciário   \n",
              "141823  344759                           Restabelecimento   \n",
              "3760    126720         Sistema Remuneratório e Benefícios   \n",
              "\n",
              "                                                    texto  \\\n",
              "index                                                       \n",
              "184520  \\n\\n\\n\\n\\n\\n\\n\\n\\n\\n\\n\\n\\n\\n\\n\\n\\n\\n\\n\\n\\n\\n\\n...   \n",
              "141137  \\n\\n\\n\\n\\n\\n\\n\\n\\n\\n\\n\\n\\n\\n\\n\\n\\n\\n\\n\\n\\n\\n\\n...   \n",
              "104403  \\n\\n\\n\\n\\n\\n\\n\\n\\n\\n\\n\\n\\n\\n\\n\\n\\n\\n\\n\\n\\n\\n\\n...   \n",
              "220395  \\n\\n\\n\\n\\n\\n\\n\\n\\n\\n\\n\\n\\n\\n\\n\\n\\n\\n\\n\\n\\n\\n\\n...   \n",
              "224237  \\n\\n\\n\\n\\n\\n\\n\\n\\n\\n\\n\\n\\n\\n\\n\\n\\n\\n\\n\\n\\n\\n\\n...   \n",
              "...                                                   ...   \n",
              "217409  \\n\\n\\n\\n\\n\\n\\n\\n\\n\\n\\n\\n\\n\\n\\n\\n\\n\\n\\n\\n\\n\\n\\n...   \n",
              "46820   \\n\\n\\n\\n\\n\\n\\n\\n\\n\\n\\n\\n\\n\\n\\n\\n\\n\\n\\n\\n\\n    ...   \n",
              "50464   \\n\\n\\n\\n\\n\\n\\n\\n\\n\\n\\n\\n\\n\\n\\n\\n\\n\\n\\n\\n\\n\\n\\n...   \n",
              "141823  \\n\\n\\n\\n\\n\\n\\n\\n\\n\\n\\n\\n\\n\\n\\n\\n\\n\\n\\n\\n\\n\\n\\n...   \n",
              "3760    \\n\\n\\n\\n\\n\\n\\n\\n\\n\\n\\n\\n\\n\\n\\n\\n\\n\\n\\n\\nEXMO\\n...   \n",
              "\n",
              "                                            textos_limpos  \n",
              "index                                                      \n",
              "184520  secção assu roque roberio ferreira brasileiro ...  \n",
              "141137  petição inicial auxilio juíz vara orlando pedr...  \n",
              "104403  petição usucapião correspondência eletrônica e...  \n",
              "220395  vara federais couber apolonia nogueira lima so...  \n",
              "224237  0511220 8400 gilberto alves oliveira devidamen...  \n",
              "...                                                   ...  \n",
              "217409  patição inicial karla vara federais natal karl...  \n",
              "46820   albano barbalho advogados associados maria lou...  \n",
              "50464   poder judiciário juizados especiais lauro pint...  \n",
              "141823  jurandy pereira santos rest auxilio doenca rur...  \n",
              "3760    exmo exmo vara coube legal maria lourdes marti...  \n",
              "\n",
              "[10000 rows x 4 columns]"
            ]
          },
          "execution_count": 56,
          "metadata": {},
          "output_type": "execute_result"
        }
      ],
      "source": [
        "df=pd.read_parquet('df_textos_limpos_sem_duplicacao.parquet').sample(10000,random_state=10)\n",
        "df"
      ]
    },
    {
      "cell_type": "markdown",
      "metadata": {
        "id": "siDTgfZgwrT0"
      },
      "source": [
        "## Principais Assuntos\n",
        "\n",
        "Como é possivel observar abaixo um dos prinicipais assuntos presentes nas petições inicias é referente a Aposentadoria e suas variações, o uso de um classificador para indicar se a petição pertence ou não ao tema da Aposentadoria, pode ser beneficial em uma pipeline onde teriamos outro classificador onde diferenciariamos o tipo de processo de aposentadoria, de modo a diminuir o conjunto de possibilidades do classificador. Dessa forma nesse trabalho será utilizado um classificador binário, diminuindo de um problema multiclasse com dezenas de classes para um problema binário.\n",
        "\n",
        "\n",
        "- Dessa maneiras os assuntos abaixo foram rotulados como aposentadoria.\n",
        "1. Aposentadoria por Idade (Art. 48/51);\n",
        "2. Aposentadoria por Invalidez;\n",
        "3. Aposentadoria Especial (Art. 57/8);\n",
        "4. Aposentadoria por Tempo de Contribuição (Art. 55/6);\n",
        "5. Aposentadoria por Tempo de Serviço (Art. 52/4);\n",
        "6. Aposentadoria por Invalidez Acidentária."
      ]
    },
    {
      "cell_type": "code",
      "execution_count": null,
      "metadata": {
        "id": "yMi8DO8lwrT1",
        "outputId": "524e29a7-0dd1-4d8f-808b-bea768cabcbf"
      },
      "outputs": [
        {
          "data": {
            "text/html": [
              "<div>\n",
              "<style scoped>\n",
              "    .dataframe tbody tr th:only-of-type {\n",
              "        vertical-align: middle;\n",
              "    }\n",
              "\n",
              "    .dataframe tbody tr th {\n",
              "        vertical-align: top;\n",
              "    }\n",
              "\n",
              "    .dataframe thead th {\n",
              "        text-align: right;\n",
              "    }\n",
              "</style>\n",
              "<table border=\"1\" class=\"dataframe\">\n",
              "  <thead>\n",
              "    <tr style=\"text-align: right;\">\n",
              "      <th></th>\n",
              "      <th>count</th>\n",
              "    </tr>\n",
              "    <tr>\n",
              "      <th>assunto</th>\n",
              "      <th></th>\n",
              "    </tr>\n",
              "  </thead>\n",
              "  <tbody>\n",
              "    <tr>\n",
              "      <th>Auxílio-Doença Previdenciário</th>\n",
              "      <td>2613</td>\n",
              "    </tr>\n",
              "    <tr>\n",
              "      <th>Benefício Assistencial (Art. 203,V CF/88)</th>\n",
              "      <td>1208</td>\n",
              "    </tr>\n",
              "    <tr>\n",
              "      <th>Aposentadoria por Idade (Art. 48/51)</th>\n",
              "      <td>1053</td>\n",
              "    </tr>\n",
              "    <tr>\n",
              "      <th>Aposentadoria por Invalidez</th>\n",
              "      <td>797</td>\n",
              "    </tr>\n",
              "    <tr>\n",
              "      <th>Sistema Remuneratório e Benefícios</th>\n",
              "      <td>618</td>\n",
              "    </tr>\n",
              "    <tr>\n",
              "      <th>Pensão por Morte (Art. 74/9)</th>\n",
              "      <td>541</td>\n",
              "    </tr>\n",
              "    <tr>\n",
              "      <th>Salário-Maternidade (Art. 71/73)</th>\n",
              "      <td>464</td>\n",
              "    </tr>\n",
              "    <tr>\n",
              "      <th>Parcelas de benefício não pagas</th>\n",
              "      <td>362</td>\n",
              "    </tr>\n",
              "    <tr>\n",
              "      <th>Indenização por Dano Moral</th>\n",
              "      <td>300</td>\n",
              "    </tr>\n",
              "    <tr>\n",
              "      <th>Indenização por Dano Material</th>\n",
              "      <td>201</td>\n",
              "    </tr>\n",
              "    <tr>\n",
              "      <th>Aposentadoria Especial (Art. 57/8)</th>\n",
              "      <td>177</td>\n",
              "    </tr>\n",
              "    <tr>\n",
              "      <th>Aposentadoria por Tempo de Contribuição (Art. 55/6)</th>\n",
              "      <td>162</td>\n",
              "    </tr>\n",
              "    <tr>\n",
              "      <th>Saúde</th>\n",
              "      <td>126</td>\n",
              "    </tr>\n",
              "    <tr>\n",
              "      <th>FGTS/Fundo de Garantia por Tempo de Serviço</th>\n",
              "      <td>105</td>\n",
              "    </tr>\n",
              "    <tr>\n",
              "      <th>RMI - Renda Mensal Inicial</th>\n",
              "      <td>91</td>\n",
              "    </tr>\n",
              "    <tr>\n",
              "      <th>Bancários</th>\n",
              "      <td>78</td>\n",
              "    </tr>\n",
              "    <tr>\n",
              "      <th>Contribuições Previdenciárias</th>\n",
              "      <td>75</td>\n",
              "    </tr>\n",
              "    <tr>\n",
              "      <th>Concessão</th>\n",
              "      <td>71</td>\n",
              "    </tr>\n",
              "    <tr>\n",
              "      <th>Restabelecimento</th>\n",
              "      <td>64</td>\n",
              "    </tr>\n",
              "    <tr>\n",
              "      <th>Ensino Superior</th>\n",
              "      <td>54</td>\n",
              "    </tr>\n",
              "    <tr>\n",
              "      <th>Aposentadoria por Tempo de Serviço (Art. 52/4)</th>\n",
              "      <td>52</td>\n",
              "    </tr>\n",
              "    <tr>\n",
              "      <th>Espécies de Contratos</th>\n",
              "      <td>51</td>\n",
              "    </tr>\n",
              "    <tr>\n",
              "      <th>IRPF/Imposto de Renda de Pessoa Física</th>\n",
              "      <td>44</td>\n",
              "    </tr>\n",
              "    <tr>\n",
              "      <th>Regime Estatutário</th>\n",
              "      <td>41</td>\n",
              "    </tr>\n",
              "    <tr>\n",
              "      <th>Reajustes e Revisões Específicos</th>\n",
              "      <td>33</td>\n",
              "    </tr>\n",
              "    <tr>\n",
              "      <th>Reajustes de Remuneração, Proventos ou Pensão</th>\n",
              "      <td>31</td>\n",
              "    </tr>\n",
              "    <tr>\n",
              "      <th>Averbação/Cômputo/Conversão de tempo de serviço especial</th>\n",
              "      <td>27</td>\n",
              "    </tr>\n",
              "    <tr>\n",
              "      <th>Isenção</th>\n",
              "      <td>26</td>\n",
              "    </tr>\n",
              "    <tr>\n",
              "      <th>Auxílio-Reclusão (Art. 80)</th>\n",
              "      <td>25</td>\n",
              "    </tr>\n",
              "    <tr>\n",
              "      <th>Adimplemento e Extinção</th>\n",
              "      <td>25</td>\n",
              "    </tr>\n",
              "    <tr>\n",
              "      <th>Auxílio-Acidente (Art. 86)</th>\n",
              "      <td>23</td>\n",
              "    </tr>\n",
              "    <tr>\n",
              "      <th>Inadimplemento</th>\n",
              "      <td>22</td>\n",
              "    </tr>\n",
              "    <tr>\n",
              "      <th>Repetição de indébito</th>\n",
              "      <td>22</td>\n",
              "    </tr>\n",
              "    <tr>\n",
              "      <th>Seguro</th>\n",
              "      <td>19</td>\n",
              "    </tr>\n",
              "    <tr>\n",
              "      <th>Financiamento de Produto</th>\n",
              "      <td>17</td>\n",
              "    </tr>\n",
              "    <tr>\n",
              "      <th>Contribuições Especiais</th>\n",
              "      <td>17</td>\n",
              "    </tr>\n",
              "    <tr>\n",
              "      <th>Seguro-desemprego</th>\n",
              "      <td>16</td>\n",
              "    </tr>\n",
              "    <tr>\n",
              "      <th>Interpretação / Revisão de Contrato</th>\n",
              "      <td>15</td>\n",
              "    </tr>\n",
              "    <tr>\n",
              "      <th>Conversão</th>\n",
              "      <td>15</td>\n",
              "    </tr>\n",
              "    <tr>\n",
              "      <th>Rescisão do contrato e devolução do dinheiro</th>\n",
              "      <td>14</td>\n",
              "    </tr>\n",
              "    <tr>\n",
              "      <th>Aposentadoria por Invalidez Acidentária</th>\n",
              "      <td>13</td>\n",
              "    </tr>\n",
              "    <tr>\n",
              "      <th>Substituição do Produto</th>\n",
              "      <td>12</td>\n",
              "    </tr>\n",
              "    <tr>\n",
              "      <th>Auxílio-Doença Acidentário</th>\n",
              "      <td>11</td>\n",
              "    </tr>\n",
              "    <tr>\n",
              "      <th>Atos Unilaterais</th>\n",
              "      <td>11</td>\n",
              "    </tr>\n",
              "    <tr>\n",
              "      <th>Pensão</th>\n",
              "      <td>10</td>\n",
              "    </tr>\n",
              "    <tr>\n",
              "      <th>Títulos de Crédito</th>\n",
              "      <td>10</td>\n",
              "    </tr>\n",
              "    <tr>\n",
              "      <th>Averbação/Cômputo de tempo de serviço urbano</th>\n",
              "      <td>9</td>\n",
              "    </tr>\n",
              "    <tr>\n",
              "      <th>Cartão de Crédito</th>\n",
              "      <td>9</td>\n",
              "    </tr>\n",
              "    <tr>\n",
              "      <th>Cumulação</th>\n",
              "      <td>8</td>\n",
              "    </tr>\n",
              "    <tr>\n",
              "      <th>Tempo de Serviço</th>\n",
              "      <td>8</td>\n",
              "    </tr>\n",
              "  </tbody>\n",
              "</table>\n",
              "</div>"
            ],
            "text/plain": [
              "                                                    count\n",
              "assunto                                                  \n",
              "Auxílio-Doença Previdenciário                        2613\n",
              "Benefício Assistencial (Art. 203,V CF/88)            1208\n",
              "Aposentadoria por Idade (Art. 48/51)                 1053\n",
              "Aposentadoria por Invalidez                           797\n",
              "Sistema Remuneratório e Benefícios                    618\n",
              "Pensão por Morte (Art. 74/9)                          541\n",
              "Salário-Maternidade (Art. 71/73)                      464\n",
              "Parcelas de benefício não pagas                       362\n",
              "Indenização por Dano Moral                            300\n",
              "Indenização por Dano Material                         201\n",
              "Aposentadoria Especial (Art. 57/8)                    177\n",
              "Aposentadoria por Tempo de Contribuição (Art. 5...    162\n",
              "Saúde                                                 126\n",
              "FGTS/Fundo de Garantia por Tempo de Serviço           105\n",
              "RMI - Renda Mensal Inicial                             91\n",
              "Bancários                                              78\n",
              "Contribuições Previdenciárias                          75\n",
              "Concessão                                              71\n",
              "Restabelecimento                                       64\n",
              "Ensino Superior                                        54\n",
              "Aposentadoria por Tempo de Serviço (Art. 52/4)         52\n",
              "Espécies de Contratos                                  51\n",
              "IRPF/Imposto de Renda de Pessoa Física                 44\n",
              "Regime Estatutário                                     41\n",
              "Reajustes e Revisões Específicos                       33\n",
              "Reajustes de Remuneração, Proventos ou Pensão          31\n",
              "Averbação/Cômputo/Conversão de tempo de serviço...     27\n",
              "Isenção                                                26\n",
              "Auxílio-Reclusão (Art. 80)                             25\n",
              "Adimplemento e Extinção                                25\n",
              "Auxílio-Acidente (Art. 86)                             23\n",
              "Inadimplemento                                         22\n",
              "Repetição de indébito                                  22\n",
              "Seguro                                                 19\n",
              "Financiamento de Produto                               17\n",
              "Contribuições Especiais                                17\n",
              "Seguro-desemprego                                      16\n",
              "Interpretação / Revisão de Contrato                    15\n",
              "Conversão                                              15\n",
              "Rescisão do contrato e devolução do dinheiro           14\n",
              "Aposentadoria por Invalidez Acidentária                13\n",
              "Substituição do Produto                                12\n",
              "Auxílio-Doença Acidentário                             11\n",
              "Atos Unilaterais                                       11\n",
              "Pensão                                                 10\n",
              "Títulos de Crédito                                     10\n",
              "Averbação/Cômputo de tempo de serviço urbano            9\n",
              "Cartão de Crédito                                       9\n",
              "Cumulação                                               8\n",
              "Tempo de Serviço                                        8"
            ]
          },
          "execution_count": 57,
          "metadata": {},
          "output_type": "execute_result"
        }
      ],
      "source": [
        "raking_assuntos=df.assunto.value_counts()\n",
        "raking_assuntos=pd.DataFrame(raking_assuntos)\n",
        "raking_assuntos.head(50)"
      ]
    },
    {
      "cell_type": "markdown",
      "metadata": {
        "id": "1q95zo0lwrT1"
      },
      "source": [
        "# Separação dos dados para a supervisão fraca\n",
        "\n",
        "1. Conjunto de Treinamento\n",
        "\n",
        "    O conjunto de treinamento terá as 10000 petições retiradas do banco de dados do Creta-JFRN\n",
        "\n",
        "2. Conjunto de Desenvolvimento\n",
        "\n",
        "    Conterá 310 petições rotuladas manualmente disponibilizadas pelo LABFERVO\n",
        "\n",
        "3. Conjunto de validação/teste\n",
        "\n",
        "    Conterá 310 petições rotuladas manualmente disponibilizadas pelo LABFERVO\n"
      ]
    },
    {
      "cell_type": "code",
      "execution_count": null,
      "metadata": {
        "id": "KV6GdYJbwrT1",
        "outputId": "ea6968ca-4f27-433f-b9a9-6eaf03be4ba5"
      },
      "outputs": [
        {
          "data": {
            "text/plain": [
              "classificacao\n",
              "48 - APOSENTADORIA ESPECIAL                            151\n",
              "65 - BENEFICIO ASSISTENCIAL - LOAS                      65\n",
              "57 - SALARIO MATERNIDADE RURAL                          55\n",
              "45 - APOSENTADORIA IDADE RURAL                          46\n",
              "35 - PENSAO POR MORTE                                   35\n",
              "33 - AUXÍLIO-DOENÇA E APOSENTADORIA POR INVALIDEZ       31\n",
              "29 - REVISIONAL FGTS                                    29\n",
              "26 - ACAO COBRANCA DPVAT                                26\n",
              "23 - APOSENTADORIA POR IDADE URBANA                     26\n",
              "25 - AUXILIO RECLUSAO                                   25\n",
              "25 - SALARIO MATERNIDADE - URBANA                       25\n",
              "23 - TRIB - CONTR. PREV. PAGAS ALÉM DO TETO             23\n",
              "25 - APOSENTADORIA POR TEMPO DE CONTRIBUICAO            21\n",
              "21 - AUXÍLIO-DOENÇA                                     21\n",
              "20 - APOSENTADORIA POR IDADE HÍBRIDA (URBANA-RURAL)     20\n",
              "20 - SAÚDE - FORNECIMENTO DE MEDICAMENTOS               20\n",
              "20 - AUXÍLIO-EMERGENCIAL                                20\n",
              "15 - APOSENTADORIA POR IDADE URBANA - ANALISAR          15\n",
              "07 - SAÚDE - FORNECIMENTO DE INSUMOS                     7\n",
              "06 - APOSENTADORIA POR INVALIDEZ                         6\n",
              "Name: count, dtype: int64"
            ]
          },
          "execution_count": 58,
          "metadata": {},
          "output_type": "execute_result"
        }
      ],
      "source": [
        "df_dev_teste=pd.read_csv('df_raw.csv')\n",
        "\n",
        "df_train=df\n",
        "df_dev_teste.classificacao.value_counts()\n",
        "\n",
        "\n"
      ]
    },
    {
      "cell_type": "code",
      "execution_count": null,
      "metadata": {
        "id": "dRXBAbbQwrT2",
        "outputId": "6b813d70-def0-47e0-d0f9-bffdef594541"
      },
      "outputs": [
        {
          "data": {
            "text/html": [
              "<div>\n",
              "<style scoped>\n",
              "    .dataframe tbody tr th:only-of-type {\n",
              "        vertical-align: middle;\n",
              "    }\n",
              "\n",
              "    .dataframe tbody tr th {\n",
              "        vertical-align: top;\n",
              "    }\n",
              "\n",
              "    .dataframe thead th {\n",
              "        text-align: right;\n",
              "    }\n",
              "</style>\n",
              "<table border=\"1\" class=\"dataframe\">\n",
              "  <thead>\n",
              "    <tr style=\"text-align: right;\">\n",
              "      <th></th>\n",
              "      <th>Unnamed: 0</th>\n",
              "      <th>nome_documento</th>\n",
              "      <th>texto</th>\n",
              "      <th>conteudo_peticao_limpo</th>\n",
              "      <th>classificacao</th>\n",
              "      <th>Classificacao_Binaria</th>\n",
              "    </tr>\n",
              "  </thead>\n",
              "  <tbody>\n",
              "    <tr>\n",
              "      <th>145</th>\n",
              "      <td>145</td>\n",
              "      <td>testes_50.txt</td>\n",
              "      <td>b'CONDIC~ES AMBIENTAIS DO \\r\\nTRABALHO \\r\\nMat...</td>\n",
              "      <td>condic ambientais ntrabalho nmata fresca ltda ...</td>\n",
              "      <td>48 - APOSENTADORIA ESPECIAL</td>\n",
              "      <td>1</td>\n",
              "    </tr>\n",
              "    <tr>\n",
              "      <th>271</th>\n",
              "      <td>271</td>\n",
              "      <td>0005532-30.2022.4.05.8302.pdf</td>\n",
              "      <td>['AO JUÍZO FEDERAL DA ____ VARA DO JUIZADO ESP...</td>\n",
              "      <td>pernambuco restabelecimento auxílio doença mar...</td>\n",
              "      <td>33 - AUXÍLIO-DOENÇA E APOSENTADORIA POR INVALIDEZ</td>\n",
              "      <td>1</td>\n",
              "    </tr>\n",
              "    <tr>\n",
              "      <th>311</th>\n",
              "      <td>311</td>\n",
              "      <td>Petição inicial - 0028455-56.2022.4.05.8300.pdf</td>\n",
              "      <td>['EXCELENTÍSSIMO(A) SENHOR(A) DOUTOR(A) JUIZ(A...</td>\n",
              "      <td>pernambuco romildo araujo pereira filho brasil...</td>\n",
              "      <td>23 - TRIB - CONTR. PREV. PAGAS ALÉM DO TETO</td>\n",
              "      <td>0</td>\n",
              "    </tr>\n",
              "    <tr>\n",
              "      <th>107</th>\n",
              "      <td>107</td>\n",
              "      <td>testes_14.txt</td>\n",
              "      <td>b' \\r\\n \\r\\n1/13 \\r\\nEXCELENT\\xc3\\x8dSSIMO JUI...</td>\n",
              "      <td>nexcelent x8dssimo juizados especiais nmossor ...</td>\n",
              "      <td>48 - APOSENTADORIA ESPECIAL</td>\n",
              "      <td>1</td>\n",
              "    </tr>\n",
              "    <tr>\n",
              "      <th>307</th>\n",
              "      <td>307</td>\n",
              "      <td>Petição inicial - 0004446-48.2022.4.05.8100 - ...</td>\n",
              "      <td>['EXMO(A). SR(A). DR(A). JUIZ(A). DE DIREITO D...</td>\n",
              "      <td>exmo ceará secção urgente risco vida prioridad...</td>\n",
              "      <td>07 - SAÚDE - FORNECIMENTO DE INSUMOS</td>\n",
              "      <td>0</td>\n",
              "    </tr>\n",
              "    <tr>\n",
              "      <th>...</th>\n",
              "      <td>...</td>\n",
              "      <td>...</td>\n",
              "      <td>...</td>\n",
              "      <td>...</td>\n",
              "      <td>...</td>\n",
              "      <td>...</td>\n",
              "    </tr>\n",
              "    <tr>\n",
              "      <th>410</th>\n",
              "      <td>410</td>\n",
              "      <td>0001030-27.2022.4.05.8309.pdf</td>\n",
              "      <td>['EXCELENTÍSSIMO SENHOR DOUTOR JUIZ FEDERAL DA...</td>\n",
              "      <td>ouricuri pernambuco restabelecimento amparo so...</td>\n",
              "      <td>65 - BENEFICIO ASSISTENCIAL - LOAS</td>\n",
              "      <td>0</td>\n",
              "    </tr>\n",
              "    <tr>\n",
              "      <th>445</th>\n",
              "      <td>445</td>\n",
              "      <td>0019031-87.2022.4.05.8300.pdf</td>\n",
              "      <td>['Justiça Federal da 5ª Região\\nPJe - Processo...</td>\n",
              "      <td>eletrônico 2022 número 0019031 2022 8300 julga...</td>\n",
              "      <td>20 - APOSENTADORIA POR IDADE HÍBRIDA (URBANA-R...</td>\n",
              "      <td>1</td>\n",
              "    </tr>\n",
              "    <tr>\n",
              "      <th>460</th>\n",
              "      <td>460</td>\n",
              "      <td>0000279-27.2023.4.05.8108.pdf</td>\n",
              "      <td>['EXCELENTÍSSIMO(A) SENHOR(A) DOUTOR(A) JUIZ(A...</td>\n",
              "      <td>itapipoca ceará edson oliveira moreira civil v...</td>\n",
              "      <td>20 - APOSENTADORIA POR IDADE HÍBRIDA (URBANA-R...</td>\n",
              "      <td>1</td>\n",
              "    </tr>\n",
              "    <tr>\n",
              "      <th>655</th>\n",
              "      <td>655</td>\n",
              "      <td>0018966-92.2022.4.05.8300.pdf</td>\n",
              "      <td>['Justiça Federal da 5ª Região\\nPJe - Processo...</td>\n",
              "      <td>eletrônico 2022 número 0018966 2022 8300 julga...</td>\n",
              "      <td>25 - AUXILIO RECLUSAO</td>\n",
              "      <td>0</td>\n",
              "    </tr>\n",
              "    <tr>\n",
              "      <th>123</th>\n",
              "      <td>123</td>\n",
              "      <td>testes_83.txt</td>\n",
              "      <td>b' \\r\\n_______________________________________...</td>\n",
              "      <td>nrua lindolfo gomes vidal salas centro santo x...</td>\n",
              "      <td>48 - APOSENTADORIA ESPECIAL</td>\n",
              "      <td>1</td>\n",
              "    </tr>\n",
              "  </tbody>\n",
              "</table>\n",
              "<p>310 rows × 6 columns</p>\n",
              "</div>"
            ],
            "text/plain": [
              "     Unnamed: 0                                     nome_documento  \\\n",
              "145         145                                      testes_50.txt   \n",
              "271         271                      0005532-30.2022.4.05.8302.pdf   \n",
              "311         311    Petição inicial - 0028455-56.2022.4.05.8300.pdf   \n",
              "107         107                                      testes_14.txt   \n",
              "307         307  Petição inicial - 0004446-48.2022.4.05.8100 - ...   \n",
              "..          ...                                                ...   \n",
              "410         410                      0001030-27.2022.4.05.8309.pdf   \n",
              "445         445                      0019031-87.2022.4.05.8300.pdf   \n",
              "460         460                      0000279-27.2023.4.05.8108.pdf   \n",
              "655         655                      0018966-92.2022.4.05.8300.pdf   \n",
              "123         123                                      testes_83.txt   \n",
              "\n",
              "                                                 texto  \\\n",
              "145  b'CONDIC~ES AMBIENTAIS DO \\r\\nTRABALHO \\r\\nMat...   \n",
              "271  ['AO JUÍZO FEDERAL DA ____ VARA DO JUIZADO ESP...   \n",
              "311  ['EXCELENTÍSSIMO(A) SENHOR(A) DOUTOR(A) JUIZ(A...   \n",
              "107  b' \\r\\n \\r\\n1/13 \\r\\nEXCELENT\\xc3\\x8dSSIMO JUI...   \n",
              "307  ['EXMO(A). SR(A). DR(A). JUIZ(A). DE DIREITO D...   \n",
              "..                                                 ...   \n",
              "410  ['EXCELENTÍSSIMO SENHOR DOUTOR JUIZ FEDERAL DA...   \n",
              "445  ['Justiça Federal da 5ª Região\\nPJe - Processo...   \n",
              "460  ['EXCELENTÍSSIMO(A) SENHOR(A) DOUTOR(A) JUIZ(A...   \n",
              "655  ['Justiça Federal da 5ª Região\\nPJe - Processo...   \n",
              "123  b' \\r\\n_______________________________________...   \n",
              "\n",
              "                                conteudo_peticao_limpo  \\\n",
              "145  condic ambientais ntrabalho nmata fresca ltda ...   \n",
              "271  pernambuco restabelecimento auxílio doença mar...   \n",
              "311  pernambuco romildo araujo pereira filho brasil...   \n",
              "107  nexcelent x8dssimo juizados especiais nmossor ...   \n",
              "307  exmo ceará secção urgente risco vida prioridad...   \n",
              "..                                                 ...   \n",
              "410  ouricuri pernambuco restabelecimento amparo so...   \n",
              "445  eletrônico 2022 número 0019031 2022 8300 julga...   \n",
              "460  itapipoca ceará edson oliveira moreira civil v...   \n",
              "655  eletrônico 2022 número 0018966 2022 8300 julga...   \n",
              "123  nrua lindolfo gomes vidal salas centro santo x...   \n",
              "\n",
              "                                         classificacao  Classificacao_Binaria  \n",
              "145                        48 - APOSENTADORIA ESPECIAL                      1  \n",
              "271  33 - AUXÍLIO-DOENÇA E APOSENTADORIA POR INVALIDEZ                      1  \n",
              "311        23 - TRIB - CONTR. PREV. PAGAS ALÉM DO TETO                      0  \n",
              "107                        48 - APOSENTADORIA ESPECIAL                      1  \n",
              "307               07 - SAÚDE - FORNECIMENTO DE INSUMOS                      0  \n",
              "..                                                 ...                    ...  \n",
              "410                 65 - BENEFICIO ASSISTENCIAL - LOAS                      0  \n",
              "445  20 - APOSENTADORIA POR IDADE HÍBRIDA (URBANA-R...                      1  \n",
              "460  20 - APOSENTADORIA POR IDADE HÍBRIDA (URBANA-R...                      1  \n",
              "655                              25 - AUXILIO RECLUSAO                      0  \n",
              "123                        48 - APOSENTADORIA ESPECIAL                      1  \n",
              "\n",
              "[310 rows x 6 columns]"
            ]
          },
          "execution_count": 59,
          "metadata": {},
          "output_type": "execute_result"
        }
      ],
      "source": [
        "from sklearn.model_selection import train_test_split\n",
        "\n",
        "df_dev_teste['Classificacao_Binaria'] = df_dev_teste['classificacao'].str.contains('APOSENTADORIA', case=False).astype(int)\n",
        "df_dev_teste.rename(columns={'conteudo_peticao':'texto'},inplace=True)\n",
        "df_dev_teste.dropna(inplace=True)\n",
        "\n",
        "\n",
        "df_teste, df_dev = train_test_split(df_dev_teste, test_size=0.5, random_state=42, stratify=df_dev_teste.Classificacao_Binaria)\n",
        "df_teste"
      ]
    },
    {
      "cell_type": "markdown",
      "metadata": {
        "id": "cV8r-RqRwrT2"
      },
      "source": [
        "# Labeling functions usando REGEX\n",
        "\n",
        "\n",
        "As labeling functions utilizando regex tem como objetivo obter um conjunto de rotulos noisy para a nossa pipeline de supervisão fraca.\n",
        "\n",
        "Dessa maneira foi utilizada cerca de 17 funções que buscavam se um termo que poderia indicar se a petição é de concessão de aposentadoria ou não.\n",
        "\n",
        "\n",
        "Esses rotulos foram desenvolvidos em conjunto com a **Advogada Fernanda Lira** aka sua orientanda"
      ]
    },
    {
      "cell_type": "code",
      "execution_count": null,
      "metadata": {
        "id": "Qr0pA1XhwrT2"
      },
      "outputs": [],
      "source": [
        "import re\n",
        "\n",
        "# Expressões Regulares\n",
        "# Expressões Regulares\n",
        "regex_a = re.compile(r'Aposentadoria\\s+(especial|Rural)', re.IGNORECASE)\n",
        "regex_b = re.compile(r'(contribuição|serviço)', re.IGNORECASE)\n",
        "regex_c = re.compile(r'INSS', re.IGNORECASE)\n",
        "regex_d = re.compile(r'invalidez', re.IGNORECASE)\n",
        "regex_e = re.compile(r'auxílio', re.IGNORECASE)\n",
        "regex_f = re.compile(r'pensionist', re.IGNORECASE)\n",
        "regex_g = re.compile(r'imposto', re.IGNORECASE)\n",
        "regex_h = re.compile(r'prisão', re.IGNORECASE)\n",
        "regex_i = re.compile(r'seguro desemprego', re.IGNORECASE)\n",
        "regex_j = re.compile(r'dano moral', re.IGNORECASE)\n",
        "regex_k = re.compile(r'dano material', re.IGNORECASE)\n",
        "regex_l = re.compile(r'saúde', re.IGNORECASE)\n",
        "regex_m = re.compile(r'maternidade',re.IGNORECASE)\n",
        "regex_n = re.compile(r'servidor\\s* + público', re.IGNORECASE)\n",
        "regex_o = re.compile(r'hora\\s*extra',re.IGNORECASE)\n",
        "regex_s = re.compile(r'RGPS',re.IGNORECASE)\n",
        "\n"
      ]
    },
    {
      "cell_type": "code",
      "execution_count": null,
      "metadata": {
        "id": "cZd9cjZDwrT3"
      },
      "outputs": [],
      "source": [
        "YES = 1\n",
        "NO = 0\n",
        "ABSTAIN = -1\n",
        "\n",
        "\n",
        "@labeling_function()\n",
        "def lf_regex_a(x):\n",
        "    return YES if regex_a.search(x.texto) else ABSTAIN\n",
        "\n",
        "@labeling_function()\n",
        "def lf_regex_b(x):\n",
        "    return YES if regex_b.search(x.texto) else ABSTAIN\n",
        "\n",
        "@labeling_function()\n",
        "def lf_regex_c(x):\n",
        "    return YES if regex_c.search(x.texto) else ABSTAIN\n",
        "\n",
        "@labeling_function()\n",
        "def lf_regex_d(x):\n",
        "    return YES if regex_d.search(x.texto) else ABSTAIN\n",
        "\n",
        "@labeling_function()\n",
        "def lf_regex_e(x):\n",
        "    return YES if regex_e.search(x.texto) else ABSTAIN\n",
        "\n",
        "@labeling_function()\n",
        "def lf_regex_f(x):\n",
        "    return YES if regex_f.search(x.texto) else ABSTAIN\n",
        "@labeling_function()\n",
        "def lf_regex_g(x):\n",
        "    return NO if regex_g.search(x.texto) else ABSTAIN\n",
        "\n",
        "@labeling_function()\n",
        "def lf_regex_h(x):\n",
        "    return NO if regex_h.search(x.texto) else ABSTAIN\n",
        "\n",
        "@labeling_function()\n",
        "def lf_regex_i(x):\n",
        "    return YES if regex_i.search(x.texto) else ABSTAIN\n",
        "\n",
        "@labeling_function()\n",
        "def lf_regex_j(x):\n",
        "    return NO if regex_j.search(x.texto) else ABSTAIN\n",
        "\n",
        "@labeling_function()\n",
        "def lf_regex_k(x):\n",
        "    return YES if regex_k.search(x.texto) else ABSTAIN\n",
        "\n",
        "@labeling_function()\n",
        "def lf_regex_l(x):\n",
        "    return NO if regex_l.search(x.texto) else ABSTAIN\n",
        "\n",
        "@labeling_function()\n",
        "def lf_regex_m(x):\n",
        "    return NO if regex_m.search(x.texto) else ABSTAIN\n",
        "@labeling_function()\n",
        "def lf_regex_n(x):\n",
        "    return NO if regex_n.search(x.texto) else ABSTAIN\n",
        "@labeling_function()\n",
        "def lf_regex_o(x):\n",
        "    return NO if regex_o.search(x.texto) else ABSTAIN\n",
        "\n",
        "@labeling_function()\n",
        "def lf_regex_s(x):\n",
        "    return YES if regex_s.search(x.texto) else ABSTAIN\n"
      ]
    },
    {
      "cell_type": "code",
      "execution_count": null,
      "metadata": {
        "id": "uermQitUwrT3",
        "outputId": "eac6c267-fe91-4882-cdc0-15a2c1849c86",
        "colab": {
          "base_uri": "https://localhost:8080/",
          "height": 394
        }
      },
      "outputs": [
        {
          "output_type": "error",
          "ename": "ModuleNotFoundError",
          "evalue": "No module named 'snorkel'",
          "traceback": [
            "\u001b[0;31m---------------------------------------------------------------------------\u001b[0m",
            "\u001b[0;31mModuleNotFoundError\u001b[0m                       Traceback (most recent call last)",
            "\u001b[0;32m<ipython-input-1-3af1d7072c0c>\u001b[0m in \u001b[0;36m<cell line: 0>\u001b[0;34m()\u001b[0m\n\u001b[0;32m----> 1\u001b[0;31m \u001b[0;32mfrom\u001b[0m \u001b[0msnorkel\u001b[0m\u001b[0;34m.\u001b[0m\u001b[0mlabeling\u001b[0m \u001b[0;32mimport\u001b[0m \u001b[0mPandasLFApplier\u001b[0m\u001b[0;34m\u001b[0m\u001b[0;34m\u001b[0m\u001b[0m\n\u001b[0m\u001b[1;32m      2\u001b[0m \u001b[0;34m\u001b[0m\u001b[0m\n\u001b[1;32m      3\u001b[0m \u001b[0;34m\u001b[0m\u001b[0m\n\u001b[1;32m      4\u001b[0m lfs = [\n\u001b[1;32m      5\u001b[0m     \u001b[0mlf_regex_a\u001b[0m\u001b[0;34m,\u001b[0m \u001b[0mlf_regex_b\u001b[0m\u001b[0;34m,\u001b[0m \u001b[0mlf_regex_c\u001b[0m\u001b[0;34m,\u001b[0m \u001b[0mlf_regex_d\u001b[0m\u001b[0;34m,\u001b[0m \u001b[0mlf_regex_e\u001b[0m\u001b[0;34m,\u001b[0m \u001b[0mlf_regex_f\u001b[0m\u001b[0;34m,\u001b[0m\u001b[0;34m\u001b[0m\u001b[0;34m\u001b[0m\u001b[0m\n",
            "\u001b[0;31mModuleNotFoundError\u001b[0m: No module named 'snorkel'",
            "",
            "\u001b[0;31m---------------------------------------------------------------------------\u001b[0;32m\nNOTE: If your import is failing due to a missing package, you can\nmanually install dependencies using either !pip or !apt.\n\nTo view examples of installing some common dependencies, click the\n\"Open Examples\" button below.\n\u001b[0;31m---------------------------------------------------------------------------\u001b[0m\n"
          ],
          "errorDetails": {
            "actions": [
              {
                "action": "open_url",
                "actionText": "Open Examples",
                "url": "/notebooks/snippets/importing_libraries.ipynb"
              }
            ]
          }
        }
      ],
      "source": [
        "from snorkel.labeling import PandasLFApplier\n",
        "\n",
        "\n",
        "lfs = [\n",
        "    lf_regex_a, lf_regex_b, lf_regex_c, lf_regex_d, lf_regex_e, lf_regex_f,\n",
        "    lf_regex_g, lf_regex_h, lf_regex_i, lf_regex_j, lf_regex_k, lf_regex_l,\n",
        "    lf_regex_m, lf_regex_n,lf_regex_o,lf_regex_s\n",
        "]\n",
        "\n",
        "applier = PandasLFApplier(lfs=lfs)\n",
        "L_train = applier.apply(df=df)"
      ]
    },
    {
      "cell_type": "code",
      "execution_count": null,
      "metadata": {
        "id": "nMg8-EO4wrT3",
        "outputId": "bfc6240a-d2f3-4bdd-b236-7a53ba12ffcf"
      },
      "outputs": [
        {
          "data": {
            "text/html": [
              "<div>\n",
              "<style scoped>\n",
              "    .dataframe tbody tr th:only-of-type {\n",
              "        vertical-align: middle;\n",
              "    }\n",
              "\n",
              "    .dataframe tbody tr th {\n",
              "        vertical-align: top;\n",
              "    }\n",
              "\n",
              "    .dataframe thead th {\n",
              "        text-align: right;\n",
              "    }\n",
              "</style>\n",
              "<table border=\"1\" class=\"dataframe\">\n",
              "  <thead>\n",
              "    <tr style=\"text-align: right;\">\n",
              "      <th></th>\n",
              "      <th>j</th>\n",
              "      <th>Polarity</th>\n",
              "      <th>Coverage</th>\n",
              "      <th>Overlaps</th>\n",
              "      <th>Conflicts</th>\n",
              "    </tr>\n",
              "  </thead>\n",
              "  <tbody>\n",
              "    <tr>\n",
              "      <th>lf_regex_a</th>\n",
              "      <td>0</td>\n",
              "      <td>[1]</td>\n",
              "      <td>0.0686</td>\n",
              "      <td>0.0684</td>\n",
              "      <td>0.0438</td>\n",
              "    </tr>\n",
              "    <tr>\n",
              "      <th>lf_regex_b</th>\n",
              "      <td>1</td>\n",
              "      <td>[1]</td>\n",
              "      <td>0.4496</td>\n",
              "      <td>0.4169</td>\n",
              "      <td>0.2774</td>\n",
              "    </tr>\n",
              "    <tr>\n",
              "      <th>lf_regex_c</th>\n",
              "      <td>2</td>\n",
              "      <td>[1]</td>\n",
              "      <td>0.6258</td>\n",
              "      <td>0.5581</td>\n",
              "      <td>0.3044</td>\n",
              "    </tr>\n",
              "    <tr>\n",
              "      <th>lf_regex_d</th>\n",
              "      <td>3</td>\n",
              "      <td>[1]</td>\n",
              "      <td>0.2874</td>\n",
              "      <td>0.2868</td>\n",
              "      <td>0.1752</td>\n",
              "    </tr>\n",
              "    <tr>\n",
              "      <th>lf_regex_e</th>\n",
              "      <td>4</td>\n",
              "      <td>[1]</td>\n",
              "      <td>0.3695</td>\n",
              "      <td>0.3680</td>\n",
              "      <td>0.2090</td>\n",
              "    </tr>\n",
              "    <tr>\n",
              "      <th>lf_regex_f</th>\n",
              "      <td>5</td>\n",
              "      <td>[1]</td>\n",
              "      <td>0.0603</td>\n",
              "      <td>0.0446</td>\n",
              "      <td>0.0247</td>\n",
              "    </tr>\n",
              "    <tr>\n",
              "      <th>lf_regex_g</th>\n",
              "      <td>6</td>\n",
              "      <td>[0]</td>\n",
              "      <td>0.0955</td>\n",
              "      <td>0.0886</td>\n",
              "      <td>0.0881</td>\n",
              "    </tr>\n",
              "    <tr>\n",
              "      <th>lf_regex_h</th>\n",
              "      <td>7</td>\n",
              "      <td>[0]</td>\n",
              "      <td>0.0075</td>\n",
              "      <td>0.0074</td>\n",
              "      <td>0.0070</td>\n",
              "    </tr>\n",
              "    <tr>\n",
              "      <th>lf_regex_i</th>\n",
              "      <td>8</td>\n",
              "      <td>[1]</td>\n",
              "      <td>0.0300</td>\n",
              "      <td>0.0297</td>\n",
              "      <td>0.0089</td>\n",
              "    </tr>\n",
              "    <tr>\n",
              "      <th>lf_regex_j</th>\n",
              "      <td>9</td>\n",
              "      <td>[0]</td>\n",
              "      <td>0.0602</td>\n",
              "      <td>0.0579</td>\n",
              "      <td>0.0572</td>\n",
              "    </tr>\n",
              "    <tr>\n",
              "      <th>lf_regex_k</th>\n",
              "      <td>10</td>\n",
              "      <td>[1]</td>\n",
              "      <td>0.0284</td>\n",
              "      <td>0.0284</td>\n",
              "      <td>0.0275</td>\n",
              "    </tr>\n",
              "    <tr>\n",
              "      <th>lf_regex_l</th>\n",
              "      <td>11</td>\n",
              "      <td>[0]</td>\n",
              "      <td>0.3052</td>\n",
              "      <td>0.2842</td>\n",
              "      <td>0.2822</td>\n",
              "    </tr>\n",
              "    <tr>\n",
              "      <th>lf_regex_m</th>\n",
              "      <td>12</td>\n",
              "      <td>[0]</td>\n",
              "      <td>0.0626</td>\n",
              "      <td>0.0612</td>\n",
              "      <td>0.0602</td>\n",
              "    </tr>\n",
              "    <tr>\n",
              "      <th>lf_regex_n</th>\n",
              "      <td>13</td>\n",
              "      <td>[0]</td>\n",
              "      <td>0.0036</td>\n",
              "      <td>0.0036</td>\n",
              "      <td>0.0033</td>\n",
              "    </tr>\n",
              "    <tr>\n",
              "      <th>lf_regex_o</th>\n",
              "      <td>14</td>\n",
              "      <td>[0]</td>\n",
              "      <td>0.0024</td>\n",
              "      <td>0.0023</td>\n",
              "      <td>0.0023</td>\n",
              "    </tr>\n",
              "    <tr>\n",
              "      <th>lf_regex_s</th>\n",
              "      <td>15</td>\n",
              "      <td>[1]</td>\n",
              "      <td>0.0491</td>\n",
              "      <td>0.0489</td>\n",
              "      <td>0.0306</td>\n",
              "    </tr>\n",
              "  </tbody>\n",
              "</table>\n",
              "</div>"
            ],
            "text/plain": [
              "             j Polarity  Coverage  Overlaps  Conflicts\n",
              "lf_regex_a   0      [1]    0.0686    0.0684     0.0438\n",
              "lf_regex_b   1      [1]    0.4496    0.4169     0.2774\n",
              "lf_regex_c   2      [1]    0.6258    0.5581     0.3044\n",
              "lf_regex_d   3      [1]    0.2874    0.2868     0.1752\n",
              "lf_regex_e   4      [1]    0.3695    0.3680     0.2090\n",
              "lf_regex_f   5      [1]    0.0603    0.0446     0.0247\n",
              "lf_regex_g   6      [0]    0.0955    0.0886     0.0881\n",
              "lf_regex_h   7      [0]    0.0075    0.0074     0.0070\n",
              "lf_regex_i   8      [1]    0.0300    0.0297     0.0089\n",
              "lf_regex_j   9      [0]    0.0602    0.0579     0.0572\n",
              "lf_regex_k  10      [1]    0.0284    0.0284     0.0275\n",
              "lf_regex_l  11      [0]    0.3052    0.2842     0.2822\n",
              "lf_regex_m  12      [0]    0.0626    0.0612     0.0602\n",
              "lf_regex_n  13      [0]    0.0036    0.0036     0.0033\n",
              "lf_regex_o  14      [0]    0.0024    0.0023     0.0023\n",
              "lf_regex_s  15      [1]    0.0491    0.0489     0.0306"
            ]
          },
          "metadata": {},
          "output_type": "display_data"
        },
        {
          "name": "stdout",
          "output_type": "stream",
          "text": [
            "Convergencias das Label functions no Dataset de desenvolvimento 83.47%\n"
          ]
        }
      ],
      "source": [
        "from snorkel.labeling import LFAnalysis\n",
        "\n",
        "display(LFAnalysis(L=L_train, lfs=lfs).lf_summary())\n",
        "print(f'Convergencias das Label functions no Dataset de desenvolvimento {LFAnalysis(L=L_train, lfs=lfs).label_coverage()*100}%')\n"
      ]
    },
    {
      "cell_type": "code",
      "execution_count": null,
      "metadata": {
        "id": "S82t8QCIwrT3",
        "outputId": "9ddc36bf-c9bd-4bc1-ca90-ef871a33c6d3"
      },
      "outputs": [
        {
          "name": "stderr",
          "output_type": "stream",
          "text": [
            "100%|██████████| 311/311 [00:00<00:00, 378.34it/s]\n"
          ]
        },
        {
          "data": {
            "text/html": [
              "<div>\n",
              "<style scoped>\n",
              "    .dataframe tbody tr th:only-of-type {\n",
              "        vertical-align: middle;\n",
              "    }\n",
              "\n",
              "    .dataframe tbody tr th {\n",
              "        vertical-align: top;\n",
              "    }\n",
              "\n",
              "    .dataframe thead th {\n",
              "        text-align: right;\n",
              "    }\n",
              "</style>\n",
              "<table border=\"1\" class=\"dataframe\">\n",
              "  <thead>\n",
              "    <tr style=\"text-align: right;\">\n",
              "      <th></th>\n",
              "      <th>j</th>\n",
              "      <th>Polarity</th>\n",
              "      <th>Coverage</th>\n",
              "      <th>Overlaps</th>\n",
              "      <th>Conflicts</th>\n",
              "      <th>Correct</th>\n",
              "      <th>Incorrect</th>\n",
              "      <th>Emp. Acc.</th>\n",
              "    </tr>\n",
              "  </thead>\n",
              "  <tbody>\n",
              "    <tr>\n",
              "      <th>lf_regex_a</th>\n",
              "      <td>0</td>\n",
              "      <td>[1]</td>\n",
              "      <td>0.247588</td>\n",
              "      <td>0.247588</td>\n",
              "      <td>0.096463</td>\n",
              "      <td>74</td>\n",
              "      <td>3</td>\n",
              "      <td>0.961039</td>\n",
              "    </tr>\n",
              "    <tr>\n",
              "      <th>lf_regex_b</th>\n",
              "      <td>1</td>\n",
              "      <td>[1]</td>\n",
              "      <td>0.630225</td>\n",
              "      <td>0.601286</td>\n",
              "      <td>0.408360</td>\n",
              "      <td>80</td>\n",
              "      <td>116</td>\n",
              "      <td>0.408163</td>\n",
              "    </tr>\n",
              "    <tr>\n",
              "      <th>lf_regex_c</th>\n",
              "      <td>2</td>\n",
              "      <td>[1]</td>\n",
              "      <td>0.810289</td>\n",
              "      <td>0.781350</td>\n",
              "      <td>0.450161</td>\n",
              "      <td>140</td>\n",
              "      <td>112</td>\n",
              "      <td>0.555556</td>\n",
              "    </tr>\n",
              "    <tr>\n",
              "      <th>lf_regex_d</th>\n",
              "      <td>3</td>\n",
              "      <td>[1]</td>\n",
              "      <td>0.173633</td>\n",
              "      <td>0.157556</td>\n",
              "      <td>0.083601</td>\n",
              "      <td>22</td>\n",
              "      <td>32</td>\n",
              "      <td>0.407407</td>\n",
              "    </tr>\n",
              "    <tr>\n",
              "      <th>lf_regex_e</th>\n",
              "      <td>4</td>\n",
              "      <td>[1]</td>\n",
              "      <td>0.318328</td>\n",
              "      <td>0.315113</td>\n",
              "      <td>0.225080</td>\n",
              "      <td>34</td>\n",
              "      <td>65</td>\n",
              "      <td>0.343434</td>\n",
              "    </tr>\n",
              "    <tr>\n",
              "      <th>lf_regex_f</th>\n",
              "      <td>5</td>\n",
              "      <td>[1]</td>\n",
              "      <td>0.009646</td>\n",
              "      <td>0.009646</td>\n",
              "      <td>0.006431</td>\n",
              "      <td>1</td>\n",
              "      <td>2</td>\n",
              "      <td>0.333333</td>\n",
              "    </tr>\n",
              "    <tr>\n",
              "      <th>lf_regex_g</th>\n",
              "      <td>6</td>\n",
              "      <td>[0]</td>\n",
              "      <td>0.096463</td>\n",
              "      <td>0.096463</td>\n",
              "      <td>0.096463</td>\n",
              "      <td>24</td>\n",
              "      <td>6</td>\n",
              "      <td>0.800000</td>\n",
              "    </tr>\n",
              "    <tr>\n",
              "      <th>lf_regex_h</th>\n",
              "      <td>7</td>\n",
              "      <td>[0]</td>\n",
              "      <td>0.073955</td>\n",
              "      <td>0.073955</td>\n",
              "      <td>0.073955</td>\n",
              "      <td>20</td>\n",
              "      <td>3</td>\n",
              "      <td>0.869565</td>\n",
              "    </tr>\n",
              "    <tr>\n",
              "      <th>lf_regex_i</th>\n",
              "      <td>8</td>\n",
              "      <td>[1]</td>\n",
              "      <td>0.006431</td>\n",
              "      <td>0.006431</td>\n",
              "      <td>0.006431</td>\n",
              "      <td>0</td>\n",
              "      <td>2</td>\n",
              "      <td>0.000000</td>\n",
              "    </tr>\n",
              "    <tr>\n",
              "      <th>lf_regex_j</th>\n",
              "      <td>9</td>\n",
              "      <td>[0]</td>\n",
              "      <td>0.009646</td>\n",
              "      <td>0.009646</td>\n",
              "      <td>0.009646</td>\n",
              "      <td>2</td>\n",
              "      <td>1</td>\n",
              "      <td>0.666667</td>\n",
              "    </tr>\n",
              "    <tr>\n",
              "      <th>lf_regex_k</th>\n",
              "      <td>10</td>\n",
              "      <td>[1]</td>\n",
              "      <td>0.006431</td>\n",
              "      <td>0.006431</td>\n",
              "      <td>0.006431</td>\n",
              "      <td>1</td>\n",
              "      <td>1</td>\n",
              "      <td>0.500000</td>\n",
              "    </tr>\n",
              "    <tr>\n",
              "      <th>lf_regex_l</th>\n",
              "      <td>11</td>\n",
              "      <td>[0]</td>\n",
              "      <td>0.347267</td>\n",
              "      <td>0.340836</td>\n",
              "      <td>0.340836</td>\n",
              "      <td>68</td>\n",
              "      <td>40</td>\n",
              "      <td>0.629630</td>\n",
              "    </tr>\n",
              "    <tr>\n",
              "      <th>lf_regex_m</th>\n",
              "      <td>12</td>\n",
              "      <td>[0]</td>\n",
              "      <td>0.234727</td>\n",
              "      <td>0.234727</td>\n",
              "      <td>0.234727</td>\n",
              "      <td>67</td>\n",
              "      <td>6</td>\n",
              "      <td>0.917808</td>\n",
              "    </tr>\n",
              "    <tr>\n",
              "      <th>lf_regex_n</th>\n",
              "      <td>13</td>\n",
              "      <td>[]</td>\n",
              "      <td>0.000000</td>\n",
              "      <td>0.000000</td>\n",
              "      <td>0.000000</td>\n",
              "      <td>0</td>\n",
              "      <td>0</td>\n",
              "      <td>0.000000</td>\n",
              "    </tr>\n",
              "    <tr>\n",
              "      <th>lf_regex_o</th>\n",
              "      <td>14</td>\n",
              "      <td>[]</td>\n",
              "      <td>0.000000</td>\n",
              "      <td>0.000000</td>\n",
              "      <td>0.000000</td>\n",
              "      <td>0</td>\n",
              "      <td>0</td>\n",
              "      <td>0.000000</td>\n",
              "    </tr>\n",
              "    <tr>\n",
              "      <th>lf_regex_s</th>\n",
              "      <td>15</td>\n",
              "      <td>[1]</td>\n",
              "      <td>0.144695</td>\n",
              "      <td>0.144695</td>\n",
              "      <td>0.080386</td>\n",
              "      <td>23</td>\n",
              "      <td>22</td>\n",
              "      <td>0.511111</td>\n",
              "    </tr>\n",
              "  </tbody>\n",
              "</table>\n",
              "</div>"
            ],
            "text/plain": [
              "             j Polarity  Coverage  Overlaps  Conflicts  Correct  Incorrect  \\\n",
              "lf_regex_a   0      [1]  0.247588  0.247588   0.096463       74          3   \n",
              "lf_regex_b   1      [1]  0.630225  0.601286   0.408360       80        116   \n",
              "lf_regex_c   2      [1]  0.810289  0.781350   0.450161      140        112   \n",
              "lf_regex_d   3      [1]  0.173633  0.157556   0.083601       22         32   \n",
              "lf_regex_e   4      [1]  0.318328  0.315113   0.225080       34         65   \n",
              "lf_regex_f   5      [1]  0.009646  0.009646   0.006431        1          2   \n",
              "lf_regex_g   6      [0]  0.096463  0.096463   0.096463       24          6   \n",
              "lf_regex_h   7      [0]  0.073955  0.073955   0.073955       20          3   \n",
              "lf_regex_i   8      [1]  0.006431  0.006431   0.006431        0          2   \n",
              "lf_regex_j   9      [0]  0.009646  0.009646   0.009646        2          1   \n",
              "lf_regex_k  10      [1]  0.006431  0.006431   0.006431        1          1   \n",
              "lf_regex_l  11      [0]  0.347267  0.340836   0.340836       68         40   \n",
              "lf_regex_m  12      [0]  0.234727  0.234727   0.234727       67          6   \n",
              "lf_regex_n  13       []  0.000000  0.000000   0.000000        0          0   \n",
              "lf_regex_o  14       []  0.000000  0.000000   0.000000        0          0   \n",
              "lf_regex_s  15      [1]  0.144695  0.144695   0.080386       23         22   \n",
              "\n",
              "            Emp. Acc.  \n",
              "lf_regex_a   0.961039  \n",
              "lf_regex_b   0.408163  \n",
              "lf_regex_c   0.555556  \n",
              "lf_regex_d   0.407407  \n",
              "lf_regex_e   0.343434  \n",
              "lf_regex_f   0.333333  \n",
              "lf_regex_g   0.800000  \n",
              "lf_regex_h   0.869565  \n",
              "lf_regex_i   0.000000  \n",
              "lf_regex_j   0.666667  \n",
              "lf_regex_k   0.500000  \n",
              "lf_regex_l   0.629630  \n",
              "lf_regex_m   0.917808  \n",
              "lf_regex_n   0.000000  \n",
              "lf_regex_o   0.000000  \n",
              "lf_regex_s   0.511111  "
            ]
          },
          "metadata": {},
          "output_type": "display_data"
        },
        {
          "name": "stdout",
          "output_type": "stream",
          "text": [
            "Convergencias das Label functions no Dataset de desenvolvimento 97.42765273311898%\n"
          ]
        }
      ],
      "source": [
        "L_dev = applier.apply(df=df_dev)\n",
        "display(LFAnalysis(L=L_dev, lfs=lfs).lf_summary(Y=df_dev.Classificacao_Binaria.values))\n",
        "print(f'Convergencias das Label functions no Dataset de desenvolvimento {LFAnalysis(L=L_dev, lfs=lfs).label_coverage()*100}%')"
      ]
    },
    {
      "cell_type": "code",
      "execution_count": null,
      "metadata": {
        "id": "e0jFgIYYwrT4",
        "outputId": "a7434810-a021-4bcf-d5b6-179438f25e2f",
        "colab": {
          "base_uri": "https://localhost:8080/",
          "height": 216
        }
      },
      "outputs": [
        {
          "output_type": "error",
          "ename": "NameError",
          "evalue": "name 'LFAnalysis' is not defined",
          "traceback": [
            "\u001b[0;31m---------------------------------------------------------------------------\u001b[0m",
            "\u001b[0;31mNameError\u001b[0m                                 Traceback (most recent call last)",
            "\u001b[0;32m<ipython-input-2-6a8f998341b4>\u001b[0m in \u001b[0;36m<cell line: 0>\u001b[0;34m()\u001b[0m\n\u001b[0;32m----> 1\u001b[0;31m \u001b[0mnormalized_conflict_matrix\u001b[0m \u001b[0;34m=\u001b[0m \u001b[0mLFAnalysis\u001b[0m\u001b[0;34m(\u001b[0m\u001b[0mL\u001b[0m\u001b[0;34m=\u001b[0m\u001b[0mL_train\u001b[0m\u001b[0;34m,\u001b[0m \u001b[0mlfs\u001b[0m\u001b[0;34m=\u001b[0m\u001b[0mlfs\u001b[0m\u001b[0;34m)\u001b[0m\u001b[0;34m.\u001b[0m\u001b[0mlf_conflicts\u001b[0m\u001b[0;34m(\u001b[0m\u001b[0mnormalize_by_overlaps\u001b[0m\u001b[0;34m=\u001b[0m\u001b[0;32mTrue\u001b[0m\u001b[0;34m)\u001b[0m\u001b[0;34m\u001b[0m\u001b[0;34m\u001b[0m\u001b[0m\n\u001b[0m\u001b[1;32m      2\u001b[0m \u001b[0mnormalized_conflict_matrix\u001b[0m \u001b[0;34m=\u001b[0m \u001b[0mpd\u001b[0m\u001b[0;34m.\u001b[0m\u001b[0mDataFrame\u001b[0m\u001b[0;34m(\u001b[0m\u001b[0;34m[\u001b[0m\u001b[0mnormalized_conflict_matrix\u001b[0m\u001b[0;34m]\u001b[0m\u001b[0;34m,\u001b[0m \u001b[0mcolumns\u001b[0m\u001b[0;34m=\u001b[0m\u001b[0;34m[\u001b[0m\u001b[0mlf\u001b[0m\u001b[0;34m.\u001b[0m\u001b[0mname\u001b[0m \u001b[0;32mfor\u001b[0m \u001b[0mlf\u001b[0m \u001b[0;32min\u001b[0m \u001b[0mlfs\u001b[0m\u001b[0;34m]\u001b[0m\u001b[0;34m)\u001b[0m\u001b[0;34m.\u001b[0m\u001b[0mT\u001b[0m\u001b[0;34m\u001b[0m\u001b[0;34m\u001b[0m\u001b[0m\n\u001b[1;32m      3\u001b[0m \u001b[0mnormalized_conflict_matrix\u001b[0m\u001b[0;34m.\u001b[0m\u001b[0mcolumns\u001b[0m \u001b[0;34m=\u001b[0m \u001b[0;34m[\u001b[0m\u001b[0;34m'normalized_conflict'\u001b[0m\u001b[0;34m]\u001b[0m\u001b[0;34m\u001b[0m\u001b[0;34m\u001b[0m\u001b[0m\n\u001b[1;32m      4\u001b[0m \u001b[0mnormalized_conflict_matrix\u001b[0m\u001b[0;34m.\u001b[0m\u001b[0msort_values\u001b[0m\u001b[0;34m(\u001b[0m\u001b[0mby\u001b[0m\u001b[0;34m=\u001b[0m\u001b[0;34m'normalized_conflict'\u001b[0m\u001b[0;34m,\u001b[0m \u001b[0mascending\u001b[0m\u001b[0;34m=\u001b[0m\u001b[0;32mFalse\u001b[0m\u001b[0;34m)\u001b[0m\u001b[0;34m\u001b[0m\u001b[0;34m\u001b[0m\u001b[0m\n\u001b[1;32m      5\u001b[0m \u001b[0;34m\u001b[0m\u001b[0m\n",
            "\u001b[0;31mNameError\u001b[0m: name 'LFAnalysis' is not defined"
          ]
        }
      ],
      "source": [
        "normalized_conflict_matrix = LFAnalysis(L=L_train, lfs=lfs).lf_conflicts(normalize_by_overlaps=True)\n",
        "normalized_conflict_matrix = pd.DataFrame([normalized_conflict_matrix], columns=[lf.name for lf in lfs]).T\n",
        "normalized_conflict_matrix.columns = ['normalized_conflict']\n",
        "normalized_conflict_matrix.sort_values(by='normalized_conflict', ascending=False)\n",
        "\n",
        "conflict_matrix = LFAnalysis(L=L_train, lfs=lfs).lf_conflicts()\n",
        "conflict_matrix = pd.DataFrame([conflict_matrix], columns=[lf.name for lf in lfs]).T\n",
        "conflict_matrix.columns = ['conflict']\n",
        "conflict_matrix.sort_values(by='conflict', ascending=False)\n",
        "\n",
        "final_cm = pd.concat([conflict_matrix, normalized_conflict_matrix], axis=1)\n",
        "final_cm"
      ]
    },
    {
      "cell_type": "code",
      "execution_count": null,
      "metadata": {
        "id": "EUoxfK61wrT4",
        "outputId": "eee04e3d-4750-4b2b-86ba-2d553362aba5"
      },
      "outputs": [
        {
          "data": {
            "application/vnd.plotly.v1+json": {
              "config": {
                "plotlyServerURL": "https://plot.ly"
              },
              "data": [
                {
                  "colorbar": {
                    "title": {
                      "text": "Conflict"
                    }
                  },
                  "colorscale": [
                    [
                      0,
                      "rgb(247,251,255)"
                    ],
                    [
                      0.125,
                      "rgb(222,235,247)"
                    ],
                    [
                      0.25,
                      "rgb(198,219,239)"
                    ],
                    [
                      0.375,
                      "rgb(158,202,225)"
                    ],
                    [
                      0.5,
                      "rgb(107,174,214)"
                    ],
                    [
                      0.625,
                      "rgb(66,146,198)"
                    ],
                    [
                      0.75,
                      "rgb(33,113,181)"
                    ],
                    [
                      0.875,
                      "rgb(8,81,156)"
                    ],
                    [
                      1,
                      "rgb(8,48,107)"
                    ]
                  ],
                  "type": "heatmap",
                  "x": [
                    "lf_regex_a",
                    "lf_regex_b",
                    "lf_regex_c",
                    "lf_regex_d",
                    "lf_regex_e",
                    "lf_regex_f",
                    "lf_regex_g",
                    "lf_regex_h",
                    "lf_regex_i",
                    "lf_regex_j",
                    "lf_regex_k",
                    "lf_regex_l",
                    "lf_regex_m",
                    "lf_regex_n",
                    "lf_regex_o",
                    "lf_regex_s"
                  ],
                  "y": [
                    "lf_regex_a",
                    "lf_regex_b",
                    "lf_regex_c",
                    "lf_regex_d",
                    "lf_regex_e",
                    "lf_regex_f",
                    "lf_regex_g",
                    "lf_regex_h",
                    "lf_regex_i",
                    "lf_regex_j",
                    "lf_regex_k",
                    "lf_regex_l",
                    "lf_regex_m",
                    "lf_regex_n",
                    "lf_regex_o",
                    "lf_regex_s"
                  ],
                  "z": [
                    [
                      0,
                      0,
                      0,
                      0,
                      0,
                      0,
                      0.0047,
                      0.0004,
                      0,
                      0.0007,
                      0,
                      0.0382,
                      0.0069,
                      0.0002,
                      0,
                      0
                    ],
                    [
                      0,
                      0,
                      0,
                      0,
                      0,
                      0,
                      0.0737,
                      0.0063,
                      0,
                      0.0494,
                      0,
                      0.1757,
                      0.043,
                      0.0023,
                      0.0021,
                      0
                    ],
                    [
                      0,
                      0,
                      0,
                      0,
                      0,
                      0,
                      0.042,
                      0.0058,
                      0,
                      0.0169,
                      0,
                      0.2319,
                      0.0563,
                      0.0006,
                      0.0004,
                      0
                    ],
                    [
                      0,
                      0,
                      0,
                      0,
                      0,
                      0,
                      0.0175,
                      0.0027,
                      0,
                      0.0053,
                      0,
                      0.1559,
                      0.018,
                      0.0002,
                      0,
                      0
                    ],
                    [
                      0,
                      0,
                      0,
                      0,
                      0,
                      0,
                      0.0313,
                      0.0053,
                      0,
                      0.0087,
                      0,
                      0.1725,
                      0.0252,
                      0.0004,
                      0.0001,
                      0
                    ],
                    [
                      0,
                      0,
                      0,
                      0,
                      0,
                      0,
                      0.0105,
                      0,
                      0,
                      0.0032,
                      0,
                      0.0118,
                      0.0009,
                      0.0015,
                      0,
                      0
                    ],
                    [
                      0.0047,
                      0.0737,
                      0.042,
                      0.0175,
                      0.0313,
                      0.0105,
                      0,
                      0,
                      0.0038,
                      0,
                      0.0065,
                      0,
                      0,
                      0,
                      0,
                      0.0045
                    ],
                    [
                      0.0004,
                      0.0063,
                      0.0058,
                      0.0027,
                      0.0053,
                      0,
                      0,
                      0,
                      0.0001,
                      0,
                      0.0002,
                      0,
                      0,
                      0,
                      0,
                      0.0007
                    ],
                    [
                      0,
                      0,
                      0,
                      0,
                      0,
                      0,
                      0.0038,
                      0.0001,
                      0,
                      0.0071,
                      0,
                      0.0017,
                      0.0004,
                      0,
                      0,
                      0
                    ],
                    [
                      0.0007,
                      0.0494,
                      0.0169,
                      0.0053,
                      0.0087,
                      0.0032,
                      0,
                      0,
                      0.0071,
                      0,
                      0.0267,
                      0,
                      0,
                      0,
                      0,
                      0.0015
                    ],
                    [
                      0,
                      0,
                      0,
                      0,
                      0,
                      0,
                      0.0065,
                      0.0002,
                      0,
                      0.0267,
                      0,
                      0.0069,
                      0.0009,
                      0,
                      0,
                      0
                    ],
                    [
                      0.0382,
                      0.1757,
                      0.2319,
                      0.1559,
                      0.1725,
                      0.0118,
                      0,
                      0,
                      0.0017,
                      0,
                      0.0069,
                      0,
                      0,
                      0,
                      0,
                      0.0237
                    ],
                    [
                      0.0069,
                      0.043,
                      0.0563,
                      0.018,
                      0.0252,
                      0.0009,
                      0,
                      0,
                      0.0004,
                      0,
                      0.0009,
                      0,
                      0,
                      0,
                      0,
                      0.0064
                    ],
                    [
                      0.0002,
                      0.0023,
                      0.0006,
                      0.0002,
                      0.0004,
                      0.0015,
                      0,
                      0,
                      0,
                      0,
                      0,
                      0,
                      0,
                      0,
                      0,
                      0.0002
                    ],
                    [
                      0,
                      0.0021,
                      0.0004,
                      0,
                      0.0001,
                      0,
                      0,
                      0,
                      0,
                      0,
                      0,
                      0,
                      0,
                      0,
                      0,
                      0
                    ],
                    [
                      0,
                      0,
                      0,
                      0,
                      0,
                      0,
                      0.0045,
                      0.0007,
                      0,
                      0.0015,
                      0,
                      0.0237,
                      0.0064,
                      0.0002,
                      0,
                      0
                    ]
                  ]
                }
              ],
              "layout": {
                "template": {
                  "data": {
                    "bar": [
                      {
                        "error_x": {
                          "color": "#2a3f5f"
                        },
                        "error_y": {
                          "color": "#2a3f5f"
                        },
                        "marker": {
                          "line": {
                            "color": "#E5ECF6",
                            "width": 0.5
                          },
                          "pattern": {
                            "fillmode": "overlay",
                            "size": 10,
                            "solidity": 0.2
                          }
                        },
                        "type": "bar"
                      }
                    ],
                    "barpolar": [
                      {
                        "marker": {
                          "line": {
                            "color": "#E5ECF6",
                            "width": 0.5
                          },
                          "pattern": {
                            "fillmode": "overlay",
                            "size": 10,
                            "solidity": 0.2
                          }
                        },
                        "type": "barpolar"
                      }
                    ],
                    "carpet": [
                      {
                        "aaxis": {
                          "endlinecolor": "#2a3f5f",
                          "gridcolor": "white",
                          "linecolor": "white",
                          "minorgridcolor": "white",
                          "startlinecolor": "#2a3f5f"
                        },
                        "baxis": {
                          "endlinecolor": "#2a3f5f",
                          "gridcolor": "white",
                          "linecolor": "white",
                          "minorgridcolor": "white",
                          "startlinecolor": "#2a3f5f"
                        },
                        "type": "carpet"
                      }
                    ],
                    "choropleth": [
                      {
                        "colorbar": {
                          "outlinewidth": 0,
                          "ticks": ""
                        },
                        "type": "choropleth"
                      }
                    ],
                    "contour": [
                      {
                        "colorbar": {
                          "outlinewidth": 0,
                          "ticks": ""
                        },
                        "colorscale": [
                          [
                            0,
                            "#0d0887"
                          ],
                          [
                            0.1111111111111111,
                            "#46039f"
                          ],
                          [
                            0.2222222222222222,
                            "#7201a8"
                          ],
                          [
                            0.3333333333333333,
                            "#9c179e"
                          ],
                          [
                            0.4444444444444444,
                            "#bd3786"
                          ],
                          [
                            0.5555555555555556,
                            "#d8576b"
                          ],
                          [
                            0.6666666666666666,
                            "#ed7953"
                          ],
                          [
                            0.7777777777777778,
                            "#fb9f3a"
                          ],
                          [
                            0.8888888888888888,
                            "#fdca26"
                          ],
                          [
                            1,
                            "#f0f921"
                          ]
                        ],
                        "type": "contour"
                      }
                    ],
                    "contourcarpet": [
                      {
                        "colorbar": {
                          "outlinewidth": 0,
                          "ticks": ""
                        },
                        "type": "contourcarpet"
                      }
                    ],
                    "heatmap": [
                      {
                        "colorbar": {
                          "outlinewidth": 0,
                          "ticks": ""
                        },
                        "colorscale": [
                          [
                            0,
                            "#0d0887"
                          ],
                          [
                            0.1111111111111111,
                            "#46039f"
                          ],
                          [
                            0.2222222222222222,
                            "#7201a8"
                          ],
                          [
                            0.3333333333333333,
                            "#9c179e"
                          ],
                          [
                            0.4444444444444444,
                            "#bd3786"
                          ],
                          [
                            0.5555555555555556,
                            "#d8576b"
                          ],
                          [
                            0.6666666666666666,
                            "#ed7953"
                          ],
                          [
                            0.7777777777777778,
                            "#fb9f3a"
                          ],
                          [
                            0.8888888888888888,
                            "#fdca26"
                          ],
                          [
                            1,
                            "#f0f921"
                          ]
                        ],
                        "type": "heatmap"
                      }
                    ],
                    "heatmapgl": [
                      {
                        "colorbar": {
                          "outlinewidth": 0,
                          "ticks": ""
                        },
                        "colorscale": [
                          [
                            0,
                            "#0d0887"
                          ],
                          [
                            0.1111111111111111,
                            "#46039f"
                          ],
                          [
                            0.2222222222222222,
                            "#7201a8"
                          ],
                          [
                            0.3333333333333333,
                            "#9c179e"
                          ],
                          [
                            0.4444444444444444,
                            "#bd3786"
                          ],
                          [
                            0.5555555555555556,
                            "#d8576b"
                          ],
                          [
                            0.6666666666666666,
                            "#ed7953"
                          ],
                          [
                            0.7777777777777778,
                            "#fb9f3a"
                          ],
                          [
                            0.8888888888888888,
                            "#fdca26"
                          ],
                          [
                            1,
                            "#f0f921"
                          ]
                        ],
                        "type": "heatmapgl"
                      }
                    ],
                    "histogram": [
                      {
                        "marker": {
                          "pattern": {
                            "fillmode": "overlay",
                            "size": 10,
                            "solidity": 0.2
                          }
                        },
                        "type": "histogram"
                      }
                    ],
                    "histogram2d": [
                      {
                        "colorbar": {
                          "outlinewidth": 0,
                          "ticks": ""
                        },
                        "colorscale": [
                          [
                            0,
                            "#0d0887"
                          ],
                          [
                            0.1111111111111111,
                            "#46039f"
                          ],
                          [
                            0.2222222222222222,
                            "#7201a8"
                          ],
                          [
                            0.3333333333333333,
                            "#9c179e"
                          ],
                          [
                            0.4444444444444444,
                            "#bd3786"
                          ],
                          [
                            0.5555555555555556,
                            "#d8576b"
                          ],
                          [
                            0.6666666666666666,
                            "#ed7953"
                          ],
                          [
                            0.7777777777777778,
                            "#fb9f3a"
                          ],
                          [
                            0.8888888888888888,
                            "#fdca26"
                          ],
                          [
                            1,
                            "#f0f921"
                          ]
                        ],
                        "type": "histogram2d"
                      }
                    ],
                    "histogram2dcontour": [
                      {
                        "colorbar": {
                          "outlinewidth": 0,
                          "ticks": ""
                        },
                        "colorscale": [
                          [
                            0,
                            "#0d0887"
                          ],
                          [
                            0.1111111111111111,
                            "#46039f"
                          ],
                          [
                            0.2222222222222222,
                            "#7201a8"
                          ],
                          [
                            0.3333333333333333,
                            "#9c179e"
                          ],
                          [
                            0.4444444444444444,
                            "#bd3786"
                          ],
                          [
                            0.5555555555555556,
                            "#d8576b"
                          ],
                          [
                            0.6666666666666666,
                            "#ed7953"
                          ],
                          [
                            0.7777777777777778,
                            "#fb9f3a"
                          ],
                          [
                            0.8888888888888888,
                            "#fdca26"
                          ],
                          [
                            1,
                            "#f0f921"
                          ]
                        ],
                        "type": "histogram2dcontour"
                      }
                    ],
                    "mesh3d": [
                      {
                        "colorbar": {
                          "outlinewidth": 0,
                          "ticks": ""
                        },
                        "type": "mesh3d"
                      }
                    ],
                    "parcoords": [
                      {
                        "line": {
                          "colorbar": {
                            "outlinewidth": 0,
                            "ticks": ""
                          }
                        },
                        "type": "parcoords"
                      }
                    ],
                    "pie": [
                      {
                        "automargin": true,
                        "type": "pie"
                      }
                    ],
                    "scatter": [
                      {
                        "fillpattern": {
                          "fillmode": "overlay",
                          "size": 10,
                          "solidity": 0.2
                        },
                        "type": "scatter"
                      }
                    ],
                    "scatter3d": [
                      {
                        "line": {
                          "colorbar": {
                            "outlinewidth": 0,
                            "ticks": ""
                          }
                        },
                        "marker": {
                          "colorbar": {
                            "outlinewidth": 0,
                            "ticks": ""
                          }
                        },
                        "type": "scatter3d"
                      }
                    ],
                    "scattercarpet": [
                      {
                        "marker": {
                          "colorbar": {
                            "outlinewidth": 0,
                            "ticks": ""
                          }
                        },
                        "type": "scattercarpet"
                      }
                    ],
                    "scattergeo": [
                      {
                        "marker": {
                          "colorbar": {
                            "outlinewidth": 0,
                            "ticks": ""
                          }
                        },
                        "type": "scattergeo"
                      }
                    ],
                    "scattergl": [
                      {
                        "marker": {
                          "colorbar": {
                            "outlinewidth": 0,
                            "ticks": ""
                          }
                        },
                        "type": "scattergl"
                      }
                    ],
                    "scattermapbox": [
                      {
                        "marker": {
                          "colorbar": {
                            "outlinewidth": 0,
                            "ticks": ""
                          }
                        },
                        "type": "scattermapbox"
                      }
                    ],
                    "scatterpolar": [
                      {
                        "marker": {
                          "colorbar": {
                            "outlinewidth": 0,
                            "ticks": ""
                          }
                        },
                        "type": "scatterpolar"
                      }
                    ],
                    "scatterpolargl": [
                      {
                        "marker": {
                          "colorbar": {
                            "outlinewidth": 0,
                            "ticks": ""
                          }
                        },
                        "type": "scatterpolargl"
                      }
                    ],
                    "scatterternary": [
                      {
                        "marker": {
                          "colorbar": {
                            "outlinewidth": 0,
                            "ticks": ""
                          }
                        },
                        "type": "scatterternary"
                      }
                    ],
                    "surface": [
                      {
                        "colorbar": {
                          "outlinewidth": 0,
                          "ticks": ""
                        },
                        "colorscale": [
                          [
                            0,
                            "#0d0887"
                          ],
                          [
                            0.1111111111111111,
                            "#46039f"
                          ],
                          [
                            0.2222222222222222,
                            "#7201a8"
                          ],
                          [
                            0.3333333333333333,
                            "#9c179e"
                          ],
                          [
                            0.4444444444444444,
                            "#bd3786"
                          ],
                          [
                            0.5555555555555556,
                            "#d8576b"
                          ],
                          [
                            0.6666666666666666,
                            "#ed7953"
                          ],
                          [
                            0.7777777777777778,
                            "#fb9f3a"
                          ],
                          [
                            0.8888888888888888,
                            "#fdca26"
                          ],
                          [
                            1,
                            "#f0f921"
                          ]
                        ],
                        "type": "surface"
                      }
                    ],
                    "table": [
                      {
                        "cells": {
                          "fill": {
                            "color": "#EBF0F8"
                          },
                          "line": {
                            "color": "white"
                          }
                        },
                        "header": {
                          "fill": {
                            "color": "#C8D4E3"
                          },
                          "line": {
                            "color": "white"
                          }
                        },
                        "type": "table"
                      }
                    ]
                  },
                  "layout": {
                    "annotationdefaults": {
                      "arrowcolor": "#2a3f5f",
                      "arrowhead": 0,
                      "arrowwidth": 1
                    },
                    "autotypenumbers": "strict",
                    "coloraxis": {
                      "colorbar": {
                        "outlinewidth": 0,
                        "ticks": ""
                      }
                    },
                    "colorscale": {
                      "diverging": [
                        [
                          0,
                          "#8e0152"
                        ],
                        [
                          0.1,
                          "#c51b7d"
                        ],
                        [
                          0.2,
                          "#de77ae"
                        ],
                        [
                          0.3,
                          "#f1b6da"
                        ],
                        [
                          0.4,
                          "#fde0ef"
                        ],
                        [
                          0.5,
                          "#f7f7f7"
                        ],
                        [
                          0.6,
                          "#e6f5d0"
                        ],
                        [
                          0.7,
                          "#b8e186"
                        ],
                        [
                          0.8,
                          "#7fbc41"
                        ],
                        [
                          0.9,
                          "#4d9221"
                        ],
                        [
                          1,
                          "#276419"
                        ]
                      ],
                      "sequential": [
                        [
                          0,
                          "#0d0887"
                        ],
                        [
                          0.1111111111111111,
                          "#46039f"
                        ],
                        [
                          0.2222222222222222,
                          "#7201a8"
                        ],
                        [
                          0.3333333333333333,
                          "#9c179e"
                        ],
                        [
                          0.4444444444444444,
                          "#bd3786"
                        ],
                        [
                          0.5555555555555556,
                          "#d8576b"
                        ],
                        [
                          0.6666666666666666,
                          "#ed7953"
                        ],
                        [
                          0.7777777777777778,
                          "#fb9f3a"
                        ],
                        [
                          0.8888888888888888,
                          "#fdca26"
                        ],
                        [
                          1,
                          "#f0f921"
                        ]
                      ],
                      "sequentialminus": [
                        [
                          0,
                          "#0d0887"
                        ],
                        [
                          0.1111111111111111,
                          "#46039f"
                        ],
                        [
                          0.2222222222222222,
                          "#7201a8"
                        ],
                        [
                          0.3333333333333333,
                          "#9c179e"
                        ],
                        [
                          0.4444444444444444,
                          "#bd3786"
                        ],
                        [
                          0.5555555555555556,
                          "#d8576b"
                        ],
                        [
                          0.6666666666666666,
                          "#ed7953"
                        ],
                        [
                          0.7777777777777778,
                          "#fb9f3a"
                        ],
                        [
                          0.8888888888888888,
                          "#fdca26"
                        ],
                        [
                          1,
                          "#f0f921"
                        ]
                      ]
                    },
                    "colorway": [
                      "#636efa",
                      "#EF553B",
                      "#00cc96",
                      "#ab63fa",
                      "#FFA15A",
                      "#19d3f3",
                      "#FF6692",
                      "#B6E880",
                      "#FF97FF",
                      "#FECB52"
                    ],
                    "font": {
                      "color": "#2a3f5f"
                    },
                    "geo": {
                      "bgcolor": "white",
                      "lakecolor": "white",
                      "landcolor": "#E5ECF6",
                      "showlakes": true,
                      "showland": true,
                      "subunitcolor": "white"
                    },
                    "hoverlabel": {
                      "align": "left"
                    },
                    "hovermode": "closest",
                    "mapbox": {
                      "style": "light"
                    },
                    "paper_bgcolor": "white",
                    "plot_bgcolor": "#E5ECF6",
                    "polar": {
                      "angularaxis": {
                        "gridcolor": "white",
                        "linecolor": "white",
                        "ticks": ""
                      },
                      "bgcolor": "#E5ECF6",
                      "radialaxis": {
                        "gridcolor": "white",
                        "linecolor": "white",
                        "ticks": ""
                      }
                    },
                    "scene": {
                      "xaxis": {
                        "backgroundcolor": "#E5ECF6",
                        "gridcolor": "white",
                        "gridwidth": 2,
                        "linecolor": "white",
                        "showbackground": true,
                        "ticks": "",
                        "zerolinecolor": "white"
                      },
                      "yaxis": {
                        "backgroundcolor": "#E5ECF6",
                        "gridcolor": "white",
                        "gridwidth": 2,
                        "linecolor": "white",
                        "showbackground": true,
                        "ticks": "",
                        "zerolinecolor": "white"
                      },
                      "zaxis": {
                        "backgroundcolor": "#E5ECF6",
                        "gridcolor": "white",
                        "gridwidth": 2,
                        "linecolor": "white",
                        "showbackground": true,
                        "ticks": "",
                        "zerolinecolor": "white"
                      }
                    },
                    "shapedefaults": {
                      "line": {
                        "color": "#2a3f5f"
                      }
                    },
                    "ternary": {
                      "aaxis": {
                        "gridcolor": "white",
                        "linecolor": "white",
                        "ticks": ""
                      },
                      "baxis": {
                        "gridcolor": "white",
                        "linecolor": "white",
                        "ticks": ""
                      },
                      "bgcolor": "#E5ECF6",
                      "caxis": {
                        "gridcolor": "white",
                        "linecolor": "white",
                        "ticks": ""
                      }
                    },
                    "title": {
                      "x": 0.05
                    },
                    "xaxis": {
                      "automargin": true,
                      "gridcolor": "white",
                      "linecolor": "white",
                      "ticks": "",
                      "title": {
                        "standoff": 15
                      },
                      "zerolinecolor": "white",
                      "zerolinewidth": 2
                    },
                    "yaxis": {
                      "automargin": true,
                      "gridcolor": "white",
                      "linecolor": "white",
                      "ticks": "",
                      "title": {
                        "standoff": 15
                      },
                      "zerolinecolor": "white",
                      "zerolinewidth": 2
                    }
                  }
                },
                "title": {
                  "text": "Conflict Matrix"
                },
                "xaxis": {
                  "title": {
                    "text": "Labeling Function"
                  }
                },
                "yaxis": {
                  "title": {
                    "text": "Labeling Function"
                  }
                }
              }
            }
          },
          "metadata": {},
          "output_type": "display_data"
        }
      ],
      "source": [
        "from funcoes_graficas import conflict_matrix_show\n",
        "\n",
        "conflict_matrix_show(L_train,lfs)"
      ]
    },
    {
      "cell_type": "markdown",
      "metadata": {
        "id": "3ml1xrQgwrT4"
      },
      "source": [
        "## Cobertura  e Conflitos das label functions nos dois datasets\n",
        "\n",
        "Devido a natureza dos dois Dataset temos que como o Dataset de teste é composto pelas petições do Creta RN, o mesmo contem uma variedade de assuntos maior.\n",
        "\n",
        "Com isso não foi possivel serem rotulados por nenhuma das funções de rotulagem, dessa maneira foi nescessário utilizar dois outros modelos para temos uma cobertura melhor do DataFrame.\n",
        "\n",
        "Em relações aos conflitos foi se testado algumas combinações de labeling functions até que se chegasse nas atuais, de modo que o conflito fosse minimizado e a cobertura maximizada, de modo que as labeling functions cobrissem um número maior de textos poem sem serem labeling functions genéricas demais"
      ]
    },
    {
      "cell_type": "markdown",
      "metadata": {
        "id": "jfwdSZPvwrT4"
      },
      "source": [
        "## Uso de modelos de aprendizado de maquina supervisionado\n",
        "\n",
        "\n",
        "Foi utilizado um modelo de aprendizado de maquina supervisionado com apenas os dados rotulados com intuido de obter um outra labeling function com capacidade de generalização"
      ]
    },
    {
      "cell_type": "code",
      "execution_count": null,
      "metadata": {
        "id": "uhbykHqwwrT5",
        "outputId": "ada57169-0e03-4cd6-964b-ffbb91c47e58"
      },
      "outputs": [
        {
          "name": "stdout",
          "output_type": "stream",
          "text": [
            "Name: Calibrated-LSVC - F1: 0.9518 - BACC: 0.9522 - ACC: 0.9518 - MCC: 0.9035 - Elapsed: 2.38s\n",
            "              precision    recall  f1-score   support\n",
            "\n",
            "           0       0.96      0.95      0.95       165\n",
            "           1       0.94      0.96      0.95       146\n",
            "\n",
            "    accuracy                           0.95       311\n",
            "   macro avg       0.95      0.95      0.95       311\n",
            "weighted avg       0.95      0.95      0.95       311\n",
            "\n",
            "[[156   9]\n",
            " [  6 140]]\n",
            "******************** \n",
            "\n",
            "Name: LR - F1: 0.9196 - BACC: 0.9171 - ACC: 0.9196 - MCC: 0.8401 - Elapsed: 0.32s\n",
            "              precision    recall  f1-score   support\n",
            "\n",
            "           0       0.90      0.96      0.93       165\n",
            "           1       0.95      0.88      0.91       146\n",
            "\n",
            "    accuracy                           0.92       311\n",
            "   macro avg       0.92      0.92      0.92       311\n",
            "weighted avg       0.92      0.92      0.92       311\n",
            "\n",
            "[[158   7]\n",
            " [ 18 128]]\n",
            "******************** \n",
            "\n",
            "Name: RF - F1: 0.9550 - BACC: 0.9548 - ACC: 0.9550 - MCC: 0.9096 - Elapsed: 1.23s\n",
            "              precision    recall  f1-score   support\n",
            "\n",
            "           0       0.96      0.96      0.96       165\n",
            "           1       0.95      0.95      0.95       146\n",
            "\n",
            "    accuracy                           0.95       311\n",
            "   macro avg       0.95      0.95      0.95       311\n",
            "weighted avg       0.95      0.95      0.95       311\n",
            "\n",
            "[[158   7]\n",
            " [  7 139]]\n",
            "******************** \n",
            "\n",
            "Name: XGB - F1: 0.9582 - BACC: 0.9590 - ACC: 0.9582 - MCC: 0.9167 - Elapsed: 5.03s\n",
            "              precision    recall  f1-score   support\n",
            "\n",
            "           0       0.97      0.95      0.96       165\n",
            "           1       0.94      0.97      0.96       146\n",
            "\n",
            "    accuracy                           0.96       311\n",
            "   macro avg       0.96      0.96      0.96       311\n",
            "weighted avg       0.96      0.96      0.96       311\n",
            "\n",
            "[[156   9]\n",
            " [  4 142]]\n",
            "******************** \n",
            "\n"
          ]
        },
        {
          "name": "stderr",
          "output_type": "stream",
          "text": [
            "/home/juliano/TRF5/Aprendizado-semi-supervisionado/.venv/lib/python3.10/site-packages/sklearn/neural_network/_multilayer_perceptron.py:691: ConvergenceWarning: Stochastic Optimizer: Maximum iterations (200) reached and the optimization hasn't converged yet.\n",
            "  warnings.warn(\n",
            "/home/juliano/TRF5/Aprendizado-semi-supervisionado/.venv/lib/python3.10/site-packages/sklearn/neural_network/_multilayer_perceptron.py:691: ConvergenceWarning: Stochastic Optimizer: Maximum iterations (200) reached and the optimization hasn't converged yet.\n",
            "  warnings.warn(\n",
            "/home/juliano/TRF5/Aprendizado-semi-supervisionado/.venv/lib/python3.10/site-packages/sklearn/neural_network/_multilayer_perceptron.py:691: ConvergenceWarning: Stochastic Optimizer: Maximum iterations (200) reached and the optimization hasn't converged yet.\n",
            "  warnings.warn(\n",
            "/home/juliano/TRF5/Aprendizado-semi-supervisionado/.venv/lib/python3.10/site-packages/sklearn/neural_network/_multilayer_perceptron.py:691: ConvergenceWarning: Stochastic Optimizer: Maximum iterations (200) reached and the optimization hasn't converged yet.\n",
            "  warnings.warn(\n",
            "/home/juliano/TRF5/Aprendizado-semi-supervisionado/.venv/lib/python3.10/site-packages/sklearn/neural_network/_multilayer_perceptron.py:691: ConvergenceWarning: Stochastic Optimizer: Maximum iterations (200) reached and the optimization hasn't converged yet.\n",
            "  warnings.warn(\n",
            "/home/juliano/TRF5/Aprendizado-semi-supervisionado/.venv/lib/python3.10/site-packages/sklearn/neural_network/_multilayer_perceptron.py:691: ConvergenceWarning: Stochastic Optimizer: Maximum iterations (200) reached and the optimization hasn't converged yet.\n",
            "  warnings.warn(\n",
            "/home/juliano/TRF5/Aprendizado-semi-supervisionado/.venv/lib/python3.10/site-packages/sklearn/neural_network/_multilayer_perceptron.py:691: ConvergenceWarning: Stochastic Optimizer: Maximum iterations (200) reached and the optimization hasn't converged yet.\n",
            "  warnings.warn(\n",
            "/home/juliano/TRF5/Aprendizado-semi-supervisionado/.venv/lib/python3.10/site-packages/sklearn/neural_network/_multilayer_perceptron.py:691: ConvergenceWarning: Stochastic Optimizer: Maximum iterations (200) reached and the optimization hasn't converged yet.\n",
            "  warnings.warn(\n",
            "/home/juliano/TRF5/Aprendizado-semi-supervisionado/.venv/lib/python3.10/site-packages/sklearn/neural_network/_multilayer_perceptron.py:691: ConvergenceWarning: Stochastic Optimizer: Maximum iterations (200) reached and the optimization hasn't converged yet.\n",
            "  warnings.warn(\n"
          ]
        },
        {
          "name": "stdout",
          "output_type": "stream",
          "text": [
            "Name: MLP - F1: 0.9357 - BACC: 0.9347 - ACC: 0.9357 - MCC: 0.8710 - Elapsed: 16.87s\n",
            "              precision    recall  f1-score   support\n",
            "\n",
            "           0       0.93      0.95      0.94       165\n",
            "           1       0.94      0.92      0.93       146\n",
            "\n",
            "    accuracy                           0.94       311\n",
            "   macro avg       0.94      0.93      0.94       311\n",
            "weighted avg       0.94      0.94      0.94       311\n",
            "\n",
            "[[157   8]\n",
            " [ 12 134]]\n",
            "******************** \n",
            "\n",
            "Name: SGD - F1: 0.9293 - BACC: 0.9278 - ACC: 0.9293 - MCC: 0.8583 - Elapsed: 0.21s\n",
            "              precision    recall  f1-score   support\n",
            "\n",
            "           0       0.92      0.95      0.93       165\n",
            "           1       0.94      0.90      0.92       146\n",
            "\n",
            "    accuracy                           0.93       311\n",
            "   macro avg       0.93      0.93      0.93       311\n",
            "weighted avg       0.93      0.93      0.93       311\n",
            "\n",
            "[[157   8]\n",
            " [ 14 132]]\n",
            "******************** \n",
            "\n",
            "Name: NB - F1: 0.8585 - BACC: 0.8493 - ACC: 0.8585 - MCC: 0.7427 - Elapsed: 0.15s\n",
            "              precision    recall  f1-score   support\n",
            "\n",
            "           0       0.79      1.00      0.88       165\n",
            "           1       1.00      0.70      0.82       146\n",
            "\n",
            "    accuracy                           0.86       311\n",
            "   macro avg       0.89      0.85      0.85       311\n",
            "weighted avg       0.89      0.86      0.85       311\n",
            "\n",
            "[[165   0]\n",
            " [ 44 102]]\n",
            "******************** \n",
            "\n"
          ]
        },
        {
          "name": "stderr",
          "output_type": "stream",
          "text": [
            "/home/juliano/TRF5/Aprendizado-semi-supervisionado/.venv/lib/python3.10/site-packages/sklearn/svm/_classes.py:32: FutureWarning: The default value of `dual` will change from `True` to `'auto'` in 1.5. Set the value of `dual` explicitly to suppress the warning.\n",
            "  warnings.warn(\n",
            "/home/juliano/TRF5/Aprendizado-semi-supervisionado/.venv/lib/python3.10/site-packages/sklearn/svm/_classes.py:32: FutureWarning: The default value of `dual` will change from `True` to `'auto'` in 1.5. Set the value of `dual` explicitly to suppress the warning.\n",
            "  warnings.warn(\n",
            "/home/juliano/TRF5/Aprendizado-semi-supervisionado/.venv/lib/python3.10/site-packages/sklearn/svm/_classes.py:32: FutureWarning: The default value of `dual` will change from `True` to `'auto'` in 1.5. Set the value of `dual` explicitly to suppress the warning.\n",
            "  warnings.warn(\n",
            "/home/juliano/TRF5/Aprendizado-semi-supervisionado/.venv/lib/python3.10/site-packages/sklearn/svm/_classes.py:32: FutureWarning: The default value of `dual` will change from `True` to `'auto'` in 1.5. Set the value of `dual` explicitly to suppress the warning.\n",
            "  warnings.warn(\n",
            "/home/juliano/TRF5/Aprendizado-semi-supervisionado/.venv/lib/python3.10/site-packages/sklearn/svm/_classes.py:32: FutureWarning: The default value of `dual` will change from `True` to `'auto'` in 1.5. Set the value of `dual` explicitly to suppress the warning.\n",
            "  warnings.warn(\n",
            "/home/juliano/TRF5/Aprendizado-semi-supervisionado/.venv/lib/python3.10/site-packages/sklearn/svm/_classes.py:32: FutureWarning: The default value of `dual` will change from `True` to `'auto'` in 1.5. Set the value of `dual` explicitly to suppress the warning.\n",
            "  warnings.warn(\n",
            "/home/juliano/TRF5/Aprendizado-semi-supervisionado/.venv/lib/python3.10/site-packages/sklearn/svm/_classes.py:32: FutureWarning: The default value of `dual` will change from `True` to `'auto'` in 1.5. Set the value of `dual` explicitly to suppress the warning.\n",
            "  warnings.warn(\n",
            "/home/juliano/TRF5/Aprendizado-semi-supervisionado/.venv/lib/python3.10/site-packages/sklearn/svm/_classes.py:32: FutureWarning: The default value of `dual` will change from `True` to `'auto'` in 1.5. Set the value of `dual` explicitly to suppress the warning.\n",
            "  warnings.warn(\n",
            "/home/juliano/TRF5/Aprendizado-semi-supervisionado/.venv/lib/python3.10/site-packages/sklearn/svm/_classes.py:32: FutureWarning: The default value of `dual` will change from `True` to `'auto'` in 1.5. Set the value of `dual` explicitly to suppress the warning.\n",
            "  warnings.warn(\n",
            "/home/juliano/TRF5/Aprendizado-semi-supervisionado/.venv/lib/python3.10/site-packages/sklearn/svm/_classes.py:32: FutureWarning: The default value of `dual` will change from `True` to `'auto'` in 1.5. Set the value of `dual` explicitly to suppress the warning.\n",
            "  warnings.warn(\n"
          ]
        },
        {
          "name": "stdout",
          "output_type": "stream",
          "text": [
            "Name: LSVC - F1: 0.9486 - BACC: 0.9488 - ACC: 0.9486 - MCC: 0.8969 - Elapsed: 0.23s\n",
            "              precision    recall  f1-score   support\n",
            "\n",
            "           0       0.96      0.95      0.95       165\n",
            "           1       0.94      0.95      0.95       146\n",
            "\n",
            "    accuracy                           0.95       311\n",
            "   macro avg       0.95      0.95      0.95       311\n",
            "weighted avg       0.95      0.95      0.95       311\n",
            "\n",
            "[[156   9]\n",
            " [  7 139]]\n",
            "******************** \n",
            "\n",
            "Name: KNN - F1: 0.9518 - BACC: 0.9514 - ACC: 0.9518 - MCC: 0.9032 - Elapsed: 0.18s\n",
            "              precision    recall  f1-score   support\n",
            "\n",
            "           0       0.95      0.96      0.95       165\n",
            "           1       0.95      0.95      0.95       146\n",
            "\n",
            "    accuracy                           0.95       311\n",
            "   macro avg       0.95      0.95      0.95       311\n",
            "weighted avg       0.95      0.95      0.95       311\n",
            "\n",
            "[[158   7]\n",
            " [  8 138]]\n",
            "******************** \n",
            "\n",
            "Name: DT - F1: 0.9550 - BACC: 0.9552 - ACC: 0.9550 - MCC: 0.9098 - Elapsed: 0.41s\n",
            "              precision    recall  f1-score   support\n",
            "\n",
            "           0       0.96      0.95      0.96       165\n",
            "           1       0.95      0.96      0.95       146\n",
            "\n",
            "    accuracy                           0.95       311\n",
            "   macro avg       0.95      0.96      0.95       311\n",
            "weighted avg       0.96      0.95      0.95       311\n",
            "\n",
            "[[157   8]\n",
            " [  6 140]]\n",
            "******************** \n",
            "\n",
            "Name: ExtraTrees - F1: 0.9582 - BACC: 0.9571 - ACC: 0.9582 - MCC: 0.9164 - Elapsed: 1.02s\n",
            "              precision    recall  f1-score   support\n",
            "\n",
            "           0       0.95      0.98      0.96       165\n",
            "           1       0.97      0.94      0.95       146\n",
            "\n",
            "    accuracy                           0.96       311\n",
            "   macro avg       0.96      0.96      0.96       311\n",
            "weighted avg       0.96      0.96      0.96       311\n",
            "\n",
            "[[161   4]\n",
            " [  9 137]]\n",
            "******************** \n",
            "\n"
          ]
        },
        {
          "data": {
            "text/html": [
              "<div>\n",
              "<style scoped>\n",
              "    .dataframe tbody tr th:only-of-type {\n",
              "        vertical-align: middle;\n",
              "    }\n",
              "\n",
              "    .dataframe tbody tr th {\n",
              "        vertical-align: top;\n",
              "    }\n",
              "\n",
              "    .dataframe thead th {\n",
              "        text-align: right;\n",
              "    }\n",
              "</style>\n",
              "<table border=\"1\" class=\"dataframe\">\n",
              "  <thead>\n",
              "    <tr style=\"text-align: right;\">\n",
              "      <th></th>\n",
              "      <th>Model</th>\n",
              "      <th>F1</th>\n",
              "      <th>BACC</th>\n",
              "      <th>ACC</th>\n",
              "      <th>MCC</th>\n",
              "      <th>Total Time</th>\n",
              "      <th>Confusion Matrix</th>\n",
              "      <th>Classification Report</th>\n",
              "    </tr>\n",
              "  </thead>\n",
              "  <tbody>\n",
              "    <tr>\n",
              "      <th>3</th>\n",
              "      <td>XGB</td>\n",
              "      <td>0.958199</td>\n",
              "      <td>0.959029</td>\n",
              "      <td>0.958199</td>\n",
              "      <td>0.916726</td>\n",
              "      <td>5.032727</td>\n",
              "      <td>[[156   9]\\n [  4 142]]</td>\n",
              "      <td>precision    recall  f1-score   ...</td>\n",
              "    </tr>\n",
              "    <tr>\n",
              "      <th>10</th>\n",
              "      <td>ExtraTrees</td>\n",
              "      <td>0.958199</td>\n",
              "      <td>0.957057</td>\n",
              "      <td>0.958199</td>\n",
              "      <td>0.916399</td>\n",
              "      <td>1.023029</td>\n",
              "      <td>[[161   4]\\n [  9 137]]</td>\n",
              "      <td>precision    recall  f1-score   ...</td>\n",
              "    </tr>\n",
              "    <tr>\n",
              "      <th>9</th>\n",
              "      <td>DT</td>\n",
              "      <td>0.954984</td>\n",
              "      <td>0.955210</td>\n",
              "      <td>0.954984</td>\n",
              "      <td>0.909777</td>\n",
              "      <td>0.414561</td>\n",
              "      <td>[[157   8]\\n [  6 140]]</td>\n",
              "      <td>precision    recall  f1-score   ...</td>\n",
              "    </tr>\n",
              "    <tr>\n",
              "      <th>2</th>\n",
              "      <td>RF</td>\n",
              "      <td>0.954984</td>\n",
              "      <td>0.954815</td>\n",
              "      <td>0.954984</td>\n",
              "      <td>0.909631</td>\n",
              "      <td>1.229125</td>\n",
              "      <td>[[158   7]\\n [  7 139]]</td>\n",
              "      <td>precision    recall  f1-score   ...</td>\n",
              "    </tr>\n",
              "    <tr>\n",
              "      <th>0</th>\n",
              "      <td>Calibrated-LSVC</td>\n",
              "      <td>0.951768</td>\n",
              "      <td>0.952179</td>\n",
              "      <td>0.951768</td>\n",
              "      <td>0.903459</td>\n",
              "      <td>2.375288</td>\n",
              "      <td>[[156   9]\\n [  6 140]]</td>\n",
              "      <td>precision    recall  f1-score   ...</td>\n",
              "    </tr>\n",
              "    <tr>\n",
              "      <th>8</th>\n",
              "      <td>KNN</td>\n",
              "      <td>0.951768</td>\n",
              "      <td>0.951391</td>\n",
              "      <td>0.951768</td>\n",
              "      <td>0.903156</td>\n",
              "      <td>0.180408</td>\n",
              "      <td>[[158   7]\\n [  8 138]]</td>\n",
              "      <td>precision    recall  f1-score   ...</td>\n",
              "    </tr>\n",
              "    <tr>\n",
              "      <th>7</th>\n",
              "      <td>LSVC</td>\n",
              "      <td>0.948553</td>\n",
              "      <td>0.948755</td>\n",
              "      <td>0.948553</td>\n",
              "      <td>0.896877</td>\n",
              "      <td>0.227024</td>\n",
              "      <td>[[156   9]\\n [  7 139]]</td>\n",
              "      <td>precision    recall  f1-score   ...</td>\n",
              "    </tr>\n",
              "    <tr>\n",
              "      <th>4</th>\n",
              "      <td>MLP</td>\n",
              "      <td>0.935691</td>\n",
              "      <td>0.934662</td>\n",
              "      <td>0.935691</td>\n",
              "      <td>0.870988</td>\n",
              "      <td>16.866199</td>\n",
              "      <td>[[157   8]\\n [ 12 134]]</td>\n",
              "      <td>precision    recall  f1-score   ...</td>\n",
              "    </tr>\n",
              "    <tr>\n",
              "      <th>5</th>\n",
              "      <td>SGD</td>\n",
              "      <td>0.929260</td>\n",
              "      <td>0.927812</td>\n",
              "      <td>0.929260</td>\n",
              "      <td>0.858301</td>\n",
              "      <td>0.207124</td>\n",
              "      <td>[[157   8]\\n [ 14 132]]</td>\n",
              "      <td>precision    recall  f1-score   ...</td>\n",
              "    </tr>\n",
              "    <tr>\n",
              "      <th>1</th>\n",
              "      <td>LR</td>\n",
              "      <td>0.919614</td>\n",
              "      <td>0.917144</td>\n",
              "      <td>0.919614</td>\n",
              "      <td>0.840062</td>\n",
              "      <td>0.315784</td>\n",
              "      <td>[[158   7]\\n [ 18 128]]</td>\n",
              "      <td>precision    recall  f1-score   ...</td>\n",
              "    </tr>\n",
              "    <tr>\n",
              "      <th>6</th>\n",
              "      <td>NB</td>\n",
              "      <td>0.858521</td>\n",
              "      <td>0.849315</td>\n",
              "      <td>0.858521</td>\n",
              "      <td>0.742664</td>\n",
              "      <td>0.149695</td>\n",
              "      <td>[[165   0]\\n [ 44 102]]</td>\n",
              "      <td>precision    recall  f1-score   ...</td>\n",
              "    </tr>\n",
              "  </tbody>\n",
              "</table>\n",
              "</div>"
            ],
            "text/plain": [
              "              Model        F1      BACC       ACC       MCC  Total Time  \\\n",
              "3               XGB  0.958199  0.959029  0.958199  0.916726    5.032727   \n",
              "10       ExtraTrees  0.958199  0.957057  0.958199  0.916399    1.023029   \n",
              "9                DT  0.954984  0.955210  0.954984  0.909777    0.414561   \n",
              "2                RF  0.954984  0.954815  0.954984  0.909631    1.229125   \n",
              "0   Calibrated-LSVC  0.951768  0.952179  0.951768  0.903459    2.375288   \n",
              "8               KNN  0.951768  0.951391  0.951768  0.903156    0.180408   \n",
              "7              LSVC  0.948553  0.948755  0.948553  0.896877    0.227024   \n",
              "4               MLP  0.935691  0.934662  0.935691  0.870988   16.866199   \n",
              "5               SGD  0.929260  0.927812  0.929260  0.858301    0.207124   \n",
              "1                LR  0.919614  0.917144  0.919614  0.840062    0.315784   \n",
              "6                NB  0.858521  0.849315  0.858521  0.742664    0.149695   \n",
              "\n",
              "           Confusion Matrix                              Classification Report  \n",
              "3   [[156   9]\\n [  4 142]]                precision    recall  f1-score   ...  \n",
              "10  [[161   4]\\n [  9 137]]                precision    recall  f1-score   ...  \n",
              "9   [[157   8]\\n [  6 140]]                precision    recall  f1-score   ...  \n",
              "2   [[158   7]\\n [  7 139]]                precision    recall  f1-score   ...  \n",
              "0   [[156   9]\\n [  6 140]]                precision    recall  f1-score   ...  \n",
              "8   [[158   7]\\n [  8 138]]                precision    recall  f1-score   ...  \n",
              "7   [[156   9]\\n [  7 139]]                precision    recall  f1-score   ...  \n",
              "4   [[157   8]\\n [ 12 134]]                precision    recall  f1-score   ...  \n",
              "5   [[157   8]\\n [ 14 132]]                precision    recall  f1-score   ...  \n",
              "1   [[158   7]\\n [ 18 128]]                precision    recall  f1-score   ...  \n",
              "6   [[165   0]\\n [ 44 102]]                precision    recall  f1-score   ...  "
            ]
          },
          "execution_count": 67,
          "metadata": {},
          "output_type": "execute_result"
        }
      ],
      "source": [
        "import time\n",
        "from multiprocessing import cpu_count\n",
        "\n",
        "#from lightgbm import LGBMClassifier\n",
        "from sklearn.calibration import CalibratedClassifierCV\n",
        "from sklearn.ensemble import (RandomForestClassifier, StackingClassifier,\n",
        "                              ExtraTreesClassifier)\n",
        "from sklearn.feature_extraction.text import TfidfVectorizer\n",
        "from sklearn.linear_model import LogisticRegression, SGDClassifier\n",
        "from sklearn.metrics import (accuracy_score, average_precision_score,\n",
        "                             balanced_accuracy_score, classification_report,\n",
        "                             cohen_kappa_score, confusion_matrix, f1_score,\n",
        "                             matthews_corrcoef)\n",
        "from sklearn.model_selection import (StratifiedKFold, cross_val_predict,\n",
        "                                     train_test_split)\n",
        "from sklearn.naive_bayes import MultinomialNB\n",
        "from sklearn.neighbors import KNeighborsClassifier\n",
        "from sklearn.neural_network import MLPClassifier\n",
        "from sklearn.svm import SVC, LinearSVC\n",
        "from sklearn.tree import DecisionTreeClassifier\n",
        "from xgboost import XGBClassifier\n",
        "\n",
        "tfidf_vec_ssl = TfidfVectorizer(ngram_range=(1,3), strip_accents='unicode', lowercase=True, max_features=1000, min_df=3)\n",
        "\n",
        "X_dev = tfidf_vec_ssl.fit_transform(df_dev.texto)\n",
        "X_dev = X_dev.toarray()\n",
        "y_dev = df_dev.Classificacao_Binaria.values\n",
        "X_dev.shape\n",
        "\n",
        "\n",
        "\n",
        "def train_models(X, y):\n",
        "    random_state = 42\n",
        "\n",
        "    # Spot Check\n",
        "    models = []\n",
        "    models.append(('Calibrated-LSVC', CalibratedClassifierCV(LinearSVC(random_state=42, class_weight='balanced', dual='auto'))))\n",
        "    models.append(('LR', LogisticRegression(random_state=42, n_jobs=-1, class_weight='balanced')))\n",
        "    models.append(('RF', RandomForestClassifier(random_state=42, n_jobs=-1, class_weight='balanced')))\n",
        "\n",
        "    models.append(('XGB', XGBClassifier(random_state=42, n_jobs=-1, class_weight='balanced', verbosity=0)))\n",
        "    models.append(('MLP', MLPClassifier(random_state=42)))\n",
        "    models.append(('SGD', SGDClassifier(random_state=42, n_jobs=-1, class_weight='balanced')))\n",
        "    models.append(('NB', MultinomialNB()))\n",
        "    models.append(('LSVC', LinearSVC(random_state=42, class_weight='balanced')))\n",
        "    models.append(('KNN', KNeighborsClassifier(n_jobs=-1)))\n",
        "    models.append(('DT', DecisionTreeClassifier(random_state=42, class_weight='balanced')))\n",
        "    models.append(('ExtraTrees', ExtraTreesClassifier(random_state=42, n_jobs=-1, class_weight='balanced')))\n",
        "\n",
        "    #models.append(('LGBM', LGBMClassifier(random_state=42, n_jobs=-1, class_weight='balanced', verbose=-1)))\n",
        "\n",
        "    results = []\n",
        "    creports = []\n",
        "\n",
        "    cv = StratifiedKFold(n_splits=10, shuffle=True, random_state=random_state)\n",
        "\n",
        "    for name, model in models:\n",
        "        start_time = time.time()\n",
        "\n",
        "        try:\n",
        "            pred = cross_val_predict(estimator=model, X=X, y=y, cv=cv,\n",
        "                                     method=\"predict\", n_jobs=2)\n",
        "        except Exception as e:\n",
        "            print(f'Error {name} - {e}')\n",
        "            continue\n",
        "\n",
        "        f1 = f1_score(y, pred, average='micro')\n",
        "        bacc = balanced_accuracy_score(y, pred)\n",
        "        acc = accuracy_score(y, pred)\n",
        "        cr = classification_report(y, pred)\n",
        "        mcc = matthews_corrcoef(y, pred)\n",
        "        cm = confusion_matrix(y, pred)\n",
        "        creports.append([name, cr, cm])\n",
        "\n",
        "        elapsed = time.time() - start_time\n",
        "        results.append([name, f1, bacc, acc, mcc, elapsed, cm, cr])\n",
        "\n",
        "        msg = f'Name: {name} - F1: {f1:.4f} - BACC: {bacc:.4f} - ACC: {acc:.4f} - MCC: {mcc:.4f} - Elapsed: {elapsed:.2f}s'\n",
        "        print(msg)\n",
        "        print(cr)\n",
        "        print(cm)\n",
        "        print('*' * 20, '\\n')\n",
        "\n",
        "    columns = ['Model', 'F1', 'BACC', 'ACC', 'MCC', 'Total Time', 'Confusion Matrix', 'Classification Report']\n",
        "    df_results = pd.DataFrame(results, columns=columns)\n",
        "    df_results['Confusion Matrix'] = df_results['Confusion Matrix'].apply(lambda x: str(x))\n",
        "\n",
        "    return df_results, creports\n",
        "\n",
        "\n",
        "df_results, creports = train_models(X_dev, y_dev)\n",
        "\n",
        "df_results.sort_values(by='MCC', ascending=False)"
      ]
    },
    {
      "cell_type": "markdown",
      "metadata": {
        "id": "IR1Gt80DwrT5"
      },
      "source": [
        "# Testes de acuracia para o modelo supervisionado\n",
        "\n",
        "A a partir dos testes acima foi utilizado o metodo XGBoost Classifier, um ensamble capaz de obter boa generalização dos dados.\n",
        "\n",
        "Devido ao número pequeno de dados foi utilizado o kfold cross validation, para a divisão dos dados para que nenhuma observação não pertence-se ao conjunto de treinamento ou ao conjunto de teste"
      ]
    },
    {
      "cell_type": "code",
      "execution_count": null,
      "metadata": {
        "id": "bXR8EvKJwrT5"
      },
      "outputs": [],
      "source": [
        "model_ssl = CalibratedClassifierCV(SGDClassifier(random_state=42, n_jobs=-1, class_weight='balanced'), cv=StratifiedKFold(n_splits=10, shuffle=True, random_state=42))\n",
        "model_ssl = model_ssl.fit(X_dev, y_dev)"
      ]
    },
    {
      "cell_type": "markdown",
      "metadata": {
        "id": "HF-4oNqfwrT5"
      },
      "source": [
        "## Uso de outros modelos\n",
        "\n",
        "O uso de outros modelos para melhorar a robustei da pipeline de supervisão fraca se mostrou nescessária devido aos problemas referentes a cobertura das label functions de Regex no conjunto de teste\n",
        "\n",
        "Com isso foi treinado um modelo supervisionado apenas com as petições rotuladas a de proporcionar uma melhor cobertura\n",
        "\n",
        "Tambem foi utilizado transfer learning com o uso do modelo do GPT-3.5-turbo na qual tinha como objetivo retornar positivo ou negativo para as petições."
      ]
    },
    {
      "cell_type": "code",
      "execution_count": null,
      "metadata": {
        "id": "v5-WIQJhwrT5",
        "colab": {
          "base_uri": "https://localhost:8080/",
          "height": 394
        },
        "outputId": "8793c986-951d-44db-d1fa-09c2131fd25d"
      },
      "outputs": [
        {
          "output_type": "error",
          "ename": "ModuleNotFoundError",
          "evalue": "No module named 'snorkel'",
          "traceback": [
            "\u001b[0;31m---------------------------------------------------------------------------\u001b[0m",
            "\u001b[0;31mModuleNotFoundError\u001b[0m                       Traceback (most recent call last)",
            "\u001b[0;32m<ipython-input-1-74ed6088f631>\u001b[0m in \u001b[0;36m<cell line: 1>\u001b[0;34m()\u001b[0m\n\u001b[0;32m----> 1\u001b[0;31m \u001b[0;32mfrom\u001b[0m \u001b[0msnorkel\u001b[0m\u001b[0;34m.\u001b[0m\u001b[0mpreprocess\u001b[0m \u001b[0;32mimport\u001b[0m \u001b[0mpreprocessor\u001b[0m\u001b[0;34m\u001b[0m\u001b[0;34m\u001b[0m\u001b[0m\n\u001b[0m\u001b[1;32m      2\u001b[0m \u001b[0;34m\u001b[0m\u001b[0m\n\u001b[1;32m      3\u001b[0m \u001b[0;31m# Define a preprocessor function that adds a predicted label and score to a given example using a stacked classifier\u001b[0m\u001b[0;34m\u001b[0m\u001b[0;34m\u001b[0m\u001b[0m\n\u001b[1;32m      4\u001b[0m \u001b[0;34m@\u001b[0m\u001b[0mpreprocessor\u001b[0m\u001b[0;34m(\u001b[0m\u001b[0mmemoize\u001b[0m\u001b[0;34m=\u001b[0m\u001b[0;32mTrue\u001b[0m\u001b[0;34m)\u001b[0m\u001b[0;34m\u001b[0m\u001b[0;34m\u001b[0m\u001b[0m\n\u001b[1;32m      5\u001b[0m \u001b[0;32mdef\u001b[0m \u001b[0msemi_superv_stacked_classifier\u001b[0m\u001b[0;34m(\u001b[0m\u001b[0mx\u001b[0m\u001b[0;34m)\u001b[0m\u001b[0;34m:\u001b[0m\u001b[0;34m\u001b[0m\u001b[0;34m\u001b[0m\u001b[0m\n",
            "\u001b[0;31mModuleNotFoundError\u001b[0m: No module named 'snorkel'",
            "",
            "\u001b[0;31m---------------------------------------------------------------------------\u001b[0;32m\nNOTE: If your import is failing due to a missing package, you can\nmanually install dependencies using either !pip or !apt.\n\nTo view examples of installing some common dependencies, click the\n\"Open Examples\" button below.\n\u001b[0;31m---------------------------------------------------------------------------\u001b[0m\n"
          ],
          "errorDetails": {
            "actions": [
              {
                "action": "open_url",
                "actionText": "Open Examples",
                "url": "/notebooks/snippets/importing_libraries.ipynb"
              }
            ]
          }
        }
      ],
      "source": [
        "from snorkel.preprocess import preprocessor\n",
        "\n",
        "# Define a preprocessor function that adds a predicted label and score to a given example using a stacked classifier\n",
        "@preprocessor(memoize=True)\n",
        "def semi_superv_stacked_classifier(x):\n",
        "    # Vectorize the text of the example using a TF-IDF vectorizer trained on the semi-supervised dataset\n",
        "    vectorized_text = tfidf_vec_ssl.transform([x.texto])\n",
        "    # Use the stacked classifier trained on the semi-supervised dataset to predict the label probabilities for the example\n",
        "    pred_proba = model_ssl.predict_proba(vectorized_text)\n",
        "    # Determine the predicted label and score based on the predicted probabilities\n",
        "    pred = np.argmax(pred_proba, axis=1)\n",
        "    x.label_pred_ssl = YES if pred == 1 else NO\n",
        "    x.score_ssl = pred_proba[0][pred]\n",
        "    # Return the example with the predicted label and score added\n",
        "    return x\n",
        "\n",
        "@labeling_function(pre=[semi_superv_stacked_classifier])\n",
        "def lf_ssl(x):\n",
        "    if x.score_ssl >= 0.70: # If we don't apply this threshold, we'd get 100% coverage. But we'd also get a wrong labels.\n",
        "        if x.label_pred_ssl == 1:\n",
        "            return YES\n",
        "        elif x.label_pred_ssl == 0:\n",
        "            return NO\n",
        "    else:\n",
        "        return ABSTAIN\n",
        "\n",
        "\n",
        "\n",
        "\n",
        "\n",
        "lfs = [\n",
        "    lf_regex_a, lf_regex_b, lf_regex_c, lf_regex_d, lf_regex_e, lf_regex_f,\n",
        "    lf_regex_g, lf_regex_h, lf_regex_i, lf_regex_j, lf_regex_k, lf_regex_l,\n",
        "    lf_regex_m, lf_regex_n,lf_regex_o,lf_regex_s,lf_ssl\n",
        "]\n",
        "\n",
        "\n"
      ]
    },
    {
      "cell_type": "markdown",
      "metadata": {
        "id": "ixtmymM0wrT5"
      },
      "source": [
        "Tentei usar o modelo do chatgpt, porem apenas o GPT4 conseguia retornar somente o valor 0 para falso e 1 para verdadeiro, devido ao seu custo não tive como utiliza-lo pois com cerca de 1500 requisições estourou o limite de 5 dolares.\n",
        "\n",
        "As informações de prompt engineering de como foi realizada a ligação com a API da openAI está no arquivo gpt.py\n"
      ]
    },
    {
      "cell_type": "markdown",
      "metadata": {
        "id": "6QIFeDoBwrT6"
      },
      "source": [
        "\n",
        "def obter_primeiras_1000_palavras(texto):\n",
        "    palavras = texto.split()[:1000]\n",
        "    resultado = ' '.join(palavras)\n",
        "    return resultado\n",
        "\n",
        "import gpt\n",
        "@labeling_function()\n",
        "def lf_gpt(x):\n",
        "    texto=obter_primeiras_1000_palavras(x.texto)\n",
        "    resposta=gpt.aposentadoria_verdadeiro_falso(texto)\n",
        "    print(resposta)\n",
        "    try:\n",
        "        if int(resposta) == 0:\n",
        "            print(NO)\n",
        "            return NO\n",
        "        elif int(resposta)==1:\n",
        "            print (YES)\n",
        "            return YES\n",
        "            \n",
        "        else:\n",
        "            return ABSTAIN\n",
        "        \n",
        "    except:\n",
        "        return ABSTAIN\n",
        "    \n",
        "lfs_gpt = [\n",
        "    lf_regex_a, lf_regex_b, lf_regex_c, lf_regex_d, lf_regex_e, lf_regex_f,\n",
        "    lf_regex_g, lf_regex_h, lf_regex_i, lf_regex_j, lf_regex_k, lf_regex_l,\n",
        "    lf_regex_m, lf_regex_n,lf_regex_o,lf_regex_s,lf_ssl,lf_gpt\n",
        "]\n",
        "    \n",
        "applier_gpt = PandasLFApplier(lfs=lfs_gpt)\n",
        "L_dev = applier_gpt.apply(df=df_dev)\n",
        "\n",
        "\n",
        "from IPython.display import clear_output\n",
        "clear_output(wait=True)\n",
        "\n",
        "display(LFAnalysis(L=L_dev, lfs=lfs_gpt).lf_summary(Y=df_dev.Classificacao_Binaria.values))\n",
        "resultados_com_gpt=LFAnalysis(L=L_dev, lfs=lfs_gpt).lf_summary(Y=df_dev.Classificacao_Binaria.values)\n",
        "\n",
        "df_resultados_gpt=pd.DataFrame(resultados_com_gpt).to_csv('resultados_gpt.csv')\n",
        "\n",
        "\n"
      ]
    },
    {
      "cell_type": "markdown",
      "metadata": {
        "id": "FxfxrwIrwrT6"
      },
      "source": [
        "Devido ao numero restrito de requisições não foi possivel rodar essa label function utilizando o GPT no conjunto de treinamento as label functions utilizadas foram as descritas anteriormente\n",
        "\n",
        "Apenas no conjunto de desenvolvimento, porem não houve boa acuracia do modelo, isso pode ter sido causado devido ao número limitado de tokens.\n",
        "\n",
        "O uso do GPT4 pode ter melhor performa-se devido ao número de tokens máximo, porem o custo se torna proibitivo para um caso academico. O uso de outros modelos generativos podem ser uma alternativa para a criação de noisy labels em pipelines de aprendizado semi-supervisionado.\n",
        "\n",
        "\n",
        " Abaixo foi utilizado as label function antes descritas"
      ]
    },
    {
      "cell_type": "code",
      "execution_count": null,
      "metadata": {
        "id": "O-UPMwtiwrT6",
        "outputId": "0fbb317a-a4ea-4541-d456-508c728aac8a"
      },
      "outputs": [
        {
          "name": "stderr",
          "output_type": "stream",
          "text": [
            "100%|██████████| 10000/10000 [02:21<00:00, 70.63it/s]\n",
            "100%|██████████| 311/311 [00:04<00:00, 64.04it/s]\n"
          ]
        }
      ],
      "source": [
        "applier = PandasLFApplier(lfs=lfs)\n",
        "L_train = applier.apply(df=df)\n",
        "L_dev = applier.apply(df=df_dev)"
      ]
    },
    {
      "cell_type": "code",
      "execution_count": null,
      "metadata": {
        "id": "0pQRjBuZwrT6",
        "outputId": "1bd76d2c-e1a6-4402-88f9-f52be4c2eed9"
      },
      "outputs": [
        {
          "data": {
            "text/html": [
              "<div>\n",
              "<style scoped>\n",
              "    .dataframe tbody tr th:only-of-type {\n",
              "        vertical-align: middle;\n",
              "    }\n",
              "\n",
              "    .dataframe tbody tr th {\n",
              "        vertical-align: top;\n",
              "    }\n",
              "\n",
              "    .dataframe thead th {\n",
              "        text-align: right;\n",
              "    }\n",
              "</style>\n",
              "<table border=\"1\" class=\"dataframe\">\n",
              "  <thead>\n",
              "    <tr style=\"text-align: right;\">\n",
              "      <th></th>\n",
              "      <th>j</th>\n",
              "      <th>Polarity</th>\n",
              "      <th>Coverage</th>\n",
              "      <th>Overlaps</th>\n",
              "      <th>Conflicts</th>\n",
              "    </tr>\n",
              "  </thead>\n",
              "  <tbody>\n",
              "    <tr>\n",
              "      <th>lf_regex_a</th>\n",
              "      <td>0</td>\n",
              "      <td>[1]</td>\n",
              "      <td>0.247588</td>\n",
              "      <td>0.247588</td>\n",
              "      <td>0.099678</td>\n",
              "    </tr>\n",
              "    <tr>\n",
              "      <th>lf_regex_b</th>\n",
              "      <td>1</td>\n",
              "      <td>[1]</td>\n",
              "      <td>0.630225</td>\n",
              "      <td>0.630225</td>\n",
              "      <td>0.501608</td>\n",
              "    </tr>\n",
              "    <tr>\n",
              "      <th>lf_regex_c</th>\n",
              "      <td>2</td>\n",
              "      <td>[1]</td>\n",
              "      <td>0.810289</td>\n",
              "      <td>0.810289</td>\n",
              "      <td>0.504823</td>\n",
              "    </tr>\n",
              "    <tr>\n",
              "      <th>lf_regex_d</th>\n",
              "      <td>3</td>\n",
              "      <td>[1]</td>\n",
              "      <td>0.173633</td>\n",
              "      <td>0.173633</td>\n",
              "      <td>0.128617</td>\n",
              "    </tr>\n",
              "    <tr>\n",
              "      <th>lf_regex_e</th>\n",
              "      <td>4</td>\n",
              "      <td>[1]</td>\n",
              "      <td>0.318328</td>\n",
              "      <td>0.318328</td>\n",
              "      <td>0.257235</td>\n",
              "    </tr>\n",
              "    <tr>\n",
              "      <th>lf_regex_f</th>\n",
              "      <td>5</td>\n",
              "      <td>[1]</td>\n",
              "      <td>0.009646</td>\n",
              "      <td>0.009646</td>\n",
              "      <td>0.006431</td>\n",
              "    </tr>\n",
              "    <tr>\n",
              "      <th>lf_regex_g</th>\n",
              "      <td>6</td>\n",
              "      <td>[0]</td>\n",
              "      <td>0.096463</td>\n",
              "      <td>0.096463</td>\n",
              "      <td>0.096463</td>\n",
              "    </tr>\n",
              "    <tr>\n",
              "      <th>lf_regex_h</th>\n",
              "      <td>7</td>\n",
              "      <td>[0]</td>\n",
              "      <td>0.073955</td>\n",
              "      <td>0.073955</td>\n",
              "      <td>0.073955</td>\n",
              "    </tr>\n",
              "    <tr>\n",
              "      <th>lf_regex_i</th>\n",
              "      <td>8</td>\n",
              "      <td>[1]</td>\n",
              "      <td>0.006431</td>\n",
              "      <td>0.006431</td>\n",
              "      <td>0.006431</td>\n",
              "    </tr>\n",
              "    <tr>\n",
              "      <th>lf_regex_j</th>\n",
              "      <td>9</td>\n",
              "      <td>[0]</td>\n",
              "      <td>0.009646</td>\n",
              "      <td>0.009646</td>\n",
              "      <td>0.009646</td>\n",
              "    </tr>\n",
              "    <tr>\n",
              "      <th>lf_regex_k</th>\n",
              "      <td>10</td>\n",
              "      <td>[1]</td>\n",
              "      <td>0.006431</td>\n",
              "      <td>0.006431</td>\n",
              "      <td>0.006431</td>\n",
              "    </tr>\n",
              "    <tr>\n",
              "      <th>lf_regex_l</th>\n",
              "      <td>11</td>\n",
              "      <td>[0]</td>\n",
              "      <td>0.347267</td>\n",
              "      <td>0.347267</td>\n",
              "      <td>0.340836</td>\n",
              "    </tr>\n",
              "    <tr>\n",
              "      <th>lf_regex_m</th>\n",
              "      <td>12</td>\n",
              "      <td>[0]</td>\n",
              "      <td>0.234727</td>\n",
              "      <td>0.234727</td>\n",
              "      <td>0.234727</td>\n",
              "    </tr>\n",
              "    <tr>\n",
              "      <th>lf_regex_n</th>\n",
              "      <td>13</td>\n",
              "      <td>[]</td>\n",
              "      <td>0.000000</td>\n",
              "      <td>0.000000</td>\n",
              "      <td>0.000000</td>\n",
              "    </tr>\n",
              "    <tr>\n",
              "      <th>lf_regex_o</th>\n",
              "      <td>14</td>\n",
              "      <td>[]</td>\n",
              "      <td>0.000000</td>\n",
              "      <td>0.000000</td>\n",
              "      <td>0.000000</td>\n",
              "    </tr>\n",
              "    <tr>\n",
              "      <th>lf_regex_s</th>\n",
              "      <td>15</td>\n",
              "      <td>[1]</td>\n",
              "      <td>0.144695</td>\n",
              "      <td>0.144695</td>\n",
              "      <td>0.096463</td>\n",
              "    </tr>\n",
              "    <tr>\n",
              "      <th>lf_ssl</th>\n",
              "      <td>16</td>\n",
              "      <td>[0, 1]</td>\n",
              "      <td>0.980707</td>\n",
              "      <td>0.954984</td>\n",
              "      <td>0.649518</td>\n",
              "    </tr>\n",
              "  </tbody>\n",
              "</table>\n",
              "</div>"
            ],
            "text/plain": [
              "             j Polarity  Coverage  Overlaps  Conflicts\n",
              "lf_regex_a   0      [1]  0.247588  0.247588   0.099678\n",
              "lf_regex_b   1      [1]  0.630225  0.630225   0.501608\n",
              "lf_regex_c   2      [1]  0.810289  0.810289   0.504823\n",
              "lf_regex_d   3      [1]  0.173633  0.173633   0.128617\n",
              "lf_regex_e   4      [1]  0.318328  0.318328   0.257235\n",
              "lf_regex_f   5      [1]  0.009646  0.009646   0.006431\n",
              "lf_regex_g   6      [0]  0.096463  0.096463   0.096463\n",
              "lf_regex_h   7      [0]  0.073955  0.073955   0.073955\n",
              "lf_regex_i   8      [1]  0.006431  0.006431   0.006431\n",
              "lf_regex_j   9      [0]  0.009646  0.009646   0.009646\n",
              "lf_regex_k  10      [1]  0.006431  0.006431   0.006431\n",
              "lf_regex_l  11      [0]  0.347267  0.347267   0.340836\n",
              "lf_regex_m  12      [0]  0.234727  0.234727   0.234727\n",
              "lf_regex_n  13       []  0.000000  0.000000   0.000000\n",
              "lf_regex_o  14       []  0.000000  0.000000   0.000000\n",
              "lf_regex_s  15      [1]  0.144695  0.144695   0.096463\n",
              "lf_ssl      16   [0, 1]  0.980707  0.954984   0.649518"
            ]
          },
          "metadata": {},
          "output_type": "display_data"
        },
        {
          "data": {
            "text/html": [
              "<div>\n",
              "<style scoped>\n",
              "    .dataframe tbody tr th:only-of-type {\n",
              "        vertical-align: middle;\n",
              "    }\n",
              "\n",
              "    .dataframe tbody tr th {\n",
              "        vertical-align: top;\n",
              "    }\n",
              "\n",
              "    .dataframe thead th {\n",
              "        text-align: right;\n",
              "    }\n",
              "</style>\n",
              "<table border=\"1\" class=\"dataframe\">\n",
              "  <thead>\n",
              "    <tr style=\"text-align: right;\">\n",
              "      <th></th>\n",
              "      <th>j</th>\n",
              "      <th>Polarity</th>\n",
              "      <th>Coverage</th>\n",
              "      <th>Overlaps</th>\n",
              "      <th>Conflicts</th>\n",
              "      <th>Correct</th>\n",
              "      <th>Incorrect</th>\n",
              "      <th>Emp. Acc.</th>\n",
              "    </tr>\n",
              "  </thead>\n",
              "  <tbody>\n",
              "    <tr>\n",
              "      <th>lf_regex_a</th>\n",
              "      <td>0</td>\n",
              "      <td>[1]</td>\n",
              "      <td>0.247588</td>\n",
              "      <td>0.247588</td>\n",
              "      <td>0.099678</td>\n",
              "      <td>74</td>\n",
              "      <td>3</td>\n",
              "      <td>0.961039</td>\n",
              "    </tr>\n",
              "    <tr>\n",
              "      <th>lf_regex_b</th>\n",
              "      <td>1</td>\n",
              "      <td>[1]</td>\n",
              "      <td>0.630225</td>\n",
              "      <td>0.630225</td>\n",
              "      <td>0.501608</td>\n",
              "      <td>80</td>\n",
              "      <td>116</td>\n",
              "      <td>0.408163</td>\n",
              "    </tr>\n",
              "    <tr>\n",
              "      <th>lf_regex_c</th>\n",
              "      <td>2</td>\n",
              "      <td>[1]</td>\n",
              "      <td>0.810289</td>\n",
              "      <td>0.810289</td>\n",
              "      <td>0.504823</td>\n",
              "      <td>140</td>\n",
              "      <td>112</td>\n",
              "      <td>0.555556</td>\n",
              "    </tr>\n",
              "    <tr>\n",
              "      <th>lf_regex_d</th>\n",
              "      <td>3</td>\n",
              "      <td>[1]</td>\n",
              "      <td>0.173633</td>\n",
              "      <td>0.173633</td>\n",
              "      <td>0.128617</td>\n",
              "      <td>22</td>\n",
              "      <td>32</td>\n",
              "      <td>0.407407</td>\n",
              "    </tr>\n",
              "    <tr>\n",
              "      <th>lf_regex_e</th>\n",
              "      <td>4</td>\n",
              "      <td>[1]</td>\n",
              "      <td>0.318328</td>\n",
              "      <td>0.318328</td>\n",
              "      <td>0.257235</td>\n",
              "      <td>34</td>\n",
              "      <td>65</td>\n",
              "      <td>0.343434</td>\n",
              "    </tr>\n",
              "    <tr>\n",
              "      <th>lf_regex_f</th>\n",
              "      <td>5</td>\n",
              "      <td>[1]</td>\n",
              "      <td>0.009646</td>\n",
              "      <td>0.009646</td>\n",
              "      <td>0.006431</td>\n",
              "      <td>1</td>\n",
              "      <td>2</td>\n",
              "      <td>0.333333</td>\n",
              "    </tr>\n",
              "    <tr>\n",
              "      <th>lf_regex_g</th>\n",
              "      <td>6</td>\n",
              "      <td>[0]</td>\n",
              "      <td>0.096463</td>\n",
              "      <td>0.096463</td>\n",
              "      <td>0.096463</td>\n",
              "      <td>24</td>\n",
              "      <td>6</td>\n",
              "      <td>0.800000</td>\n",
              "    </tr>\n",
              "    <tr>\n",
              "      <th>lf_regex_h</th>\n",
              "      <td>7</td>\n",
              "      <td>[0]</td>\n",
              "      <td>0.073955</td>\n",
              "      <td>0.073955</td>\n",
              "      <td>0.073955</td>\n",
              "      <td>20</td>\n",
              "      <td>3</td>\n",
              "      <td>0.869565</td>\n",
              "    </tr>\n",
              "    <tr>\n",
              "      <th>lf_regex_i</th>\n",
              "      <td>8</td>\n",
              "      <td>[1]</td>\n",
              "      <td>0.006431</td>\n",
              "      <td>0.006431</td>\n",
              "      <td>0.006431</td>\n",
              "      <td>0</td>\n",
              "      <td>2</td>\n",
              "      <td>0.000000</td>\n",
              "    </tr>\n",
              "    <tr>\n",
              "      <th>lf_regex_j</th>\n",
              "      <td>9</td>\n",
              "      <td>[0]</td>\n",
              "      <td>0.009646</td>\n",
              "      <td>0.009646</td>\n",
              "      <td>0.009646</td>\n",
              "      <td>2</td>\n",
              "      <td>1</td>\n",
              "      <td>0.666667</td>\n",
              "    </tr>\n",
              "    <tr>\n",
              "      <th>lf_regex_k</th>\n",
              "      <td>10</td>\n",
              "      <td>[1]</td>\n",
              "      <td>0.006431</td>\n",
              "      <td>0.006431</td>\n",
              "      <td>0.006431</td>\n",
              "      <td>1</td>\n",
              "      <td>1</td>\n",
              "      <td>0.500000</td>\n",
              "    </tr>\n",
              "    <tr>\n",
              "      <th>lf_regex_l</th>\n",
              "      <td>11</td>\n",
              "      <td>[0]</td>\n",
              "      <td>0.347267</td>\n",
              "      <td>0.347267</td>\n",
              "      <td>0.340836</td>\n",
              "      <td>68</td>\n",
              "      <td>40</td>\n",
              "      <td>0.629630</td>\n",
              "    </tr>\n",
              "    <tr>\n",
              "      <th>lf_regex_m</th>\n",
              "      <td>12</td>\n",
              "      <td>[0]</td>\n",
              "      <td>0.234727</td>\n",
              "      <td>0.234727</td>\n",
              "      <td>0.234727</td>\n",
              "      <td>67</td>\n",
              "      <td>6</td>\n",
              "      <td>0.917808</td>\n",
              "    </tr>\n",
              "    <tr>\n",
              "      <th>lf_regex_n</th>\n",
              "      <td>13</td>\n",
              "      <td>[]</td>\n",
              "      <td>0.000000</td>\n",
              "      <td>0.000000</td>\n",
              "      <td>0.000000</td>\n",
              "      <td>0</td>\n",
              "      <td>0</td>\n",
              "      <td>0.000000</td>\n",
              "    </tr>\n",
              "    <tr>\n",
              "      <th>lf_regex_o</th>\n",
              "      <td>14</td>\n",
              "      <td>[]</td>\n",
              "      <td>0.000000</td>\n",
              "      <td>0.000000</td>\n",
              "      <td>0.000000</td>\n",
              "      <td>0</td>\n",
              "      <td>0</td>\n",
              "      <td>0.000000</td>\n",
              "    </tr>\n",
              "    <tr>\n",
              "      <th>lf_regex_s</th>\n",
              "      <td>15</td>\n",
              "      <td>[1]</td>\n",
              "      <td>0.144695</td>\n",
              "      <td>0.144695</td>\n",
              "      <td>0.096463</td>\n",
              "      <td>23</td>\n",
              "      <td>22</td>\n",
              "      <td>0.511111</td>\n",
              "    </tr>\n",
              "    <tr>\n",
              "      <th>lf_ssl</th>\n",
              "      <td>16</td>\n",
              "      <td>[0, 1]</td>\n",
              "      <td>0.980707</td>\n",
              "      <td>0.954984</td>\n",
              "      <td>0.649518</td>\n",
              "      <td>305</td>\n",
              "      <td>0</td>\n",
              "      <td>1.000000</td>\n",
              "    </tr>\n",
              "  </tbody>\n",
              "</table>\n",
              "</div>"
            ],
            "text/plain": [
              "             j Polarity  Coverage  Overlaps  Conflicts  Correct  Incorrect  \\\n",
              "lf_regex_a   0      [1]  0.247588  0.247588   0.099678       74          3   \n",
              "lf_regex_b   1      [1]  0.630225  0.630225   0.501608       80        116   \n",
              "lf_regex_c   2      [1]  0.810289  0.810289   0.504823      140        112   \n",
              "lf_regex_d   3      [1]  0.173633  0.173633   0.128617       22         32   \n",
              "lf_regex_e   4      [1]  0.318328  0.318328   0.257235       34         65   \n",
              "lf_regex_f   5      [1]  0.009646  0.009646   0.006431        1          2   \n",
              "lf_regex_g   6      [0]  0.096463  0.096463   0.096463       24          6   \n",
              "lf_regex_h   7      [0]  0.073955  0.073955   0.073955       20          3   \n",
              "lf_regex_i   8      [1]  0.006431  0.006431   0.006431        0          2   \n",
              "lf_regex_j   9      [0]  0.009646  0.009646   0.009646        2          1   \n",
              "lf_regex_k  10      [1]  0.006431  0.006431   0.006431        1          1   \n",
              "lf_regex_l  11      [0]  0.347267  0.347267   0.340836       68         40   \n",
              "lf_regex_m  12      [0]  0.234727  0.234727   0.234727       67          6   \n",
              "lf_regex_n  13       []  0.000000  0.000000   0.000000        0          0   \n",
              "lf_regex_o  14       []  0.000000  0.000000   0.000000        0          0   \n",
              "lf_regex_s  15      [1]  0.144695  0.144695   0.096463       23         22   \n",
              "lf_ssl      16   [0, 1]  0.980707  0.954984   0.649518      305          0   \n",
              "\n",
              "            Emp. Acc.  \n",
              "lf_regex_a   0.961039  \n",
              "lf_regex_b   0.408163  \n",
              "lf_regex_c   0.555556  \n",
              "lf_regex_d   0.407407  \n",
              "lf_regex_e   0.343434  \n",
              "lf_regex_f   0.333333  \n",
              "lf_regex_g   0.800000  \n",
              "lf_regex_h   0.869565  \n",
              "lf_regex_i   0.000000  \n",
              "lf_regex_j   0.666667  \n",
              "lf_regex_k   0.500000  \n",
              "lf_regex_l   0.629630  \n",
              "lf_regex_m   0.917808  \n",
              "lf_regex_n   0.000000  \n",
              "lf_regex_o   0.000000  \n",
              "lf_regex_s   0.511111  \n",
              "lf_ssl       1.000000  "
            ]
          },
          "metadata": {},
          "output_type": "display_data"
        },
        {
          "name": "stdout",
          "output_type": "stream",
          "text": [
            "Cobertura das Label functions no Dataset de desenvolvimento 100.0%\n",
            "Cobertura das Label functions no Dataset de treinamento 91.23%\n"
          ]
        }
      ],
      "source": [
        "display(LFAnalysis(L_dev, lfs).lf_summary())\n",
        "display(LFAnalysis(L=L_dev, lfs=lfs).lf_summary(Y=df_dev.Classificacao_Binaria.values))\n",
        "print(f'Cobertura das Label functions no Dataset de desenvolvimento {LFAnalysis(L=L_dev, lfs=lfs).label_coverage()*100}%')\n",
        "print(f'Cobertura das Label functions no Dataset de treinamento {LFAnalysis(L=L_train, lfs=lfs).label_coverage()*100}%')\n"
      ]
    },
    {
      "cell_type": "markdown",
      "metadata": {
        "id": "Ny1-2g1wwrT6"
      },
      "source": [
        "# Segunda Etapa\n",
        "\n",
        "Criação dos label models utilizando as label functions criadas anteriormente utilizando regex e o modelo treinado em um conjunto limitado de observações.\n",
        "\n",
        "Foi utilizado para treinar dois tipos de modelos, um sendo do voto da maioria e outro usando um modelo probabilistico\n"
      ]
    },
    {
      "cell_type": "code",
      "execution_count": null,
      "metadata": {
        "id": "8wALcnFBwrT6"
      },
      "outputs": [],
      "source": [
        "from snorkel.labeling.model import MajorityLabelVoter\n",
        "\n",
        "majority_model = MajorityLabelVoter()\n",
        "preds_train = majority_model.predict(L=L_train)"
      ]
    },
    {
      "cell_type": "code",
      "execution_count": null,
      "metadata": {
        "id": "KzJAP4QzwrT6",
        "outputId": "2773a740-3c9d-497b-cea9-cfc59f623109"
      },
      "outputs": [
        {
          "name": "stderr",
          "output_type": "stream",
          "text": [
            "INFO:root:Computing O...\n",
            "INFO:root:Estimating \\mu...\n",
            "  0%|          | 0/500 [00:00<?, ?epoch/s]INFO:root:[0 epochs]: TRAIN:[loss=1.216]\n",
            " 15%|█▌        | 75/500 [00:00<00:00, 745.87epoch/s]INFO:root:[100 epochs]: TRAIN:[loss=0.018]\n",
            " 36%|███▌      | 181/500 [00:00<00:00, 927.44epoch/s]INFO:root:[200 epochs]: TRAIN:[loss=0.018]\n",
            " 58%|█████▊    | 291/500 [00:00<00:00, 1002.55epoch/s]INFO:root:[300 epochs]: TRAIN:[loss=0.018]\n",
            "INFO:root:[400 epochs]: TRAIN:[loss=0.018]\n",
            "100%|██████████| 500/500 [00:00<00:00, 979.19epoch/s] \n",
            "INFO:root:Finished Training\n"
          ]
        }
      ],
      "source": [
        "from snorkel.labeling.model import LabelModel\n",
        "\n",
        "label_model = LabelModel(cardinality=2, verbose=True)\n",
        "label_model.fit(L_train=L_train, n_epochs=500, log_freq=100, seed=10)"
      ]
    },
    {
      "cell_type": "code",
      "execution_count": null,
      "metadata": {
        "id": "EU74l5CSwrT7",
        "outputId": "d2bb7046-c84f-46fa-a1a8-d8bea29e24e9"
      },
      "outputs": [
        {
          "name": "stdout",
          "output_type": "stream",
          "text": [
            "Classification report for majority model: \n",
            "              precision    recall  f1-score   support\n",
            "\n",
            "          -1       0.00      0.00      0.00         0\n",
            "           0       1.00      0.37      0.54       165\n",
            "           1       0.73      1.00      0.84       146\n",
            "\n",
            "    accuracy                           0.67       311\n",
            "   macro avg       0.58      0.46      0.46       311\n",
            "weighted avg       0.87      0.67      0.68       311\n",
            "\n",
            "Number of abstains: 49\n",
            "\n",
            "\n",
            "Classification report for label model: \n",
            "              precision    recall  f1-score   support\n",
            "\n",
            "           0       0.97      0.43      0.60       165\n",
            "           1       0.61      0.99      0.75       146\n",
            "\n",
            "    accuracy                           0.69       311\n",
            "   macro avg       0.79      0.71      0.67       311\n",
            "weighted avg       0.80      0.69      0.67       311\n",
            "\n",
            "Number of abstains: 0\n"
          ]
        },
        {
          "name": "stderr",
          "output_type": "stream",
          "text": [
            "/home/juliano/TRF5/Aprendizado-semi-supervisionado/.venv/lib/python3.10/site-packages/sklearn/metrics/_classification.py:1471: UndefinedMetricWarning:\n",
            "\n",
            "Recall and F-score are ill-defined and being set to 0.0 in labels with no true samples. Use `zero_division` parameter to control this behavior.\n",
            "\n",
            "/home/juliano/TRF5/Aprendizado-semi-supervisionado/.venv/lib/python3.10/site-packages/sklearn/metrics/_classification.py:1471: UndefinedMetricWarning:\n",
            "\n",
            "Recall and F-score are ill-defined and being set to 0.0 in labels with no true samples. Use `zero_division` parameter to control this behavior.\n",
            "\n",
            "/home/juliano/TRF5/Aprendizado-semi-supervisionado/.venv/lib/python3.10/site-packages/sklearn/metrics/_classification.py:1471: UndefinedMetricWarning:\n",
            "\n",
            "Recall and F-score are ill-defined and being set to 0.0 in labels with no true samples. Use `zero_division` parameter to control this behavior.\n",
            "\n"
          ]
        }
      ],
      "source": [
        "majority_pred = majority_model.predict(L=L_dev)\n",
        "label_model_pred = label_model.predict(L=L_dev)\n",
        "\n",
        "print(f'Classification report for majority model: \\n{classification_report(df_dev.Classificacao_Binaria.values, majority_pred)}')\n",
        "print(f'Number of abstains: {np.count_nonzero(majority_pred == -1)}')\n",
        "print(f'\\n\\nClassification report for label model: \\n{classification_report(df_dev.Classificacao_Binaria.values, label_model_pred)}')\n",
        "print(f'Number of abstains: {np.count_nonzero(label_model_pred == -1)}')"
      ]
    },
    {
      "cell_type": "code",
      "execution_count": null,
      "metadata": {
        "id": "hlXdsqIuwrT7",
        "outputId": "1d378bc8-fda1-4c80-dac1-b02c1e17a518"
      },
      "outputs": [
        {
          "name": "stdout",
          "output_type": "stream",
          "text": [
            "lf_regex_a: 89.15%\n",
            "lf_regex_b: 45.63%\n",
            "lf_regex_c: 73.05%\n",
            "lf_regex_d: 100.00%\n",
            "lf_regex_e: 100.00%\n",
            "lf_regex_f: 7.50%\n",
            "lf_regex_g: 88.25%\n",
            "lf_regex_h: 59.46%\n",
            "lf_regex_i: 46.90%\n",
            "lf_regex_j: 100.00%\n",
            "lf_regex_k: 0.35%\n",
            "lf_regex_l: 32.31%\n",
            "lf_regex_m: 74.61%\n",
            "lf_regex_n: 100.00%\n",
            "lf_regex_o: 100.00%\n",
            "lf_regex_s: 83.08%\n",
            "lf_ssl: 81.87%\n"
          ]
        }
      ],
      "source": [
        "# Iterate over the labeling functions and their corresponding weights in the label model\n",
        "# This code is useful for understanding the contribution of each labeling function to the label model, and can be used to identify labeling functions that are particularly informative or noisy.\n",
        "for name, value in zip([lf.name for lf in lfs], label_model.get_weights()):\n",
        "    # Print the name of the labeling function and its weight as a percentage\n",
        "    print(f'{name}: {value*100:.2f}%')"
      ]
    },
    {
      "cell_type": "code",
      "execution_count": null,
      "metadata": {
        "id": "yia-rNmIwrT7",
        "outputId": "5ae20c57-dde0-49b7-93f6-85885ac848e1"
      },
      "outputs": [
        {
          "data": {
            "image/png": "[encoded data removed]",
            "text/plain": [
              "<Figure size 640x480 with 1 Axes>"
            ]
          },
          "metadata": {},
          "output_type": "display_data"
        },
        {
          "data": {
            "image/png": "[encoded data removed]",
            "text/plain": [
              "<Figure size 640x480 with 1 Axes>"
            ]
          },
          "metadata": {},
          "output_type": "display_data"
        },
        {
          "data": {
            "image/png": "[encoded data removed]",
            "text/plain": [
              "<Figure size 640x480 with 1 Axes>"
            ]
          },
          "metadata": {},
          "output_type": "display_data"
        }
      ],
      "source": [
        "# Define a function to plot a histogram of the probabilities of the YES label\n",
        "def plot_probabilities_histogram(Y,texto):\n",
        "    # Plot a histogram of the probabilities with 10 bins\n",
        "    plt.hist(Y, bins=10)\n",
        "    # Set the x-axis label\n",
        "    plt.xlabel(f\"Probability of {texto} label\")\n",
        "    # Set the y-axis label\n",
        "    plt.ylabel(\"Number of data points\")\n",
        "    # Show the plot\n",
        "    plt.show()\n",
        "\n",
        "# Use the label model to predict label probabilities for the training set\n",
        "probs_train = label_model.predict_proba(L=L_train)\n",
        "# Plot a histogram of the probabilities of the YES label\n",
        "plot_probabilities_histogram(probs_train[:, YES],'YES')\n",
        "# Plot a histogram of the probabilities of the NO label\n",
        "plot_probabilities_histogram(probs_train[:, NO],'NO')\n",
        "# Plot a histogram of the probabilities of the YES label\n",
        "plot_probabilities_histogram(probs_train[:, ABSTAIN],\"ABSTAIN\")"
      ]
    },
    {
      "cell_type": "markdown",
      "metadata": {
        "id": "6ZQwLC4-wrT7"
      },
      "source": [
        "Criando o Label model\n"
      ]
    },
    {
      "cell_type": "code",
      "execution_count": null,
      "metadata": {
        "id": "MiY1yH42wrT7"
      },
      "outputs": [],
      "source": [
        "from snorkel.labeling import filter_unlabeled_dataframe\n",
        "# Filtrar todas as instancias que não foram rotuladas por nenhuma label model\n",
        "df_train_weakly_labeled, probs_train_weakly_labeled = filter_unlabeled_dataframe(\n",
        "    X=df_train, y=probs_train, L=L_train)"
      ]
    },
    {
      "cell_type": "code",
      "execution_count": null,
      "metadata": {
        "id": "0GK2eCEhwrT7",
        "outputId": "737a5827-3b0f-4e01-81cc-03b202747cde"
      },
      "outputs": [
        {
          "name": "stdout",
          "output_type": "stream",
          "text": [
            "Number of data points after filtering: 9123 (removed 877 data points)\n"
          ]
        }
      ],
      "source": [
        "if len(df_train_weakly_labeled) == len(df_train):\n",
        "    print(\"All data points are weakly labeled!\")\n",
        "else:\n",
        "    print(f\"Number of data points after filtering: {len(df_train_weakly_labeled)} (removed {len(df_train) - len(df_train_weakly_labeled)} data points)\")"
      ]
    },
    {
      "cell_type": "code",
      "execution_count": null,
      "metadata": {
        "id": "DowB7vBxwrT8"
      },
      "outputs": [],
      "source": [
        "vectorizer = TfidfVectorizer(ngram_range=(1,3), strip_accents='unicode', lowercase=True, max_features=1000, max_df=0.85, min_df=3)\n",
        "vectorizer.fit(df_train.textos_limpos.values)\n",
        "X_train = vectorizer.transform(df_train.texto.values).toarray()\n",
        "X_dev = vectorizer.transform(df_dev.texto.values).toarray()\n",
        "\n",
        "y_dev_true = df_dev.Classificacao_Binaria.values"
      ]
    },
    {
      "cell_type": "code",
      "execution_count": null,
      "metadata": {
        "id": "P2n0n74owrT8"
      },
      "outputs": [],
      "source": [
        "y_train_prob_labels = probs_train"
      ]
    },
    {
      "cell_type": "code",
      "execution_count": null,
      "metadata": {
        "id": "1nj3hJqBwrT_"
      },
      "outputs": [],
      "source": [
        "from tensorflow.keras import optimizers\n",
        "from tensorflow.keras.layers import Dense, Dropout, Input\n",
        "from tensorflow.keras.models import Model\n",
        "import tensorflow as tf\n",
        "import os\n",
        "\n",
        "def get_model(ip_dim, dim_h1, dim_h3, dim_h5,dim_h7, out_size, dropout, lr):\n",
        "    x = Input(shape=(ip_dim,))\n",
        "    h1 = Dense(dim_h1)(x)\n",
        "    h2 = Dropout(dropout)(h1)\n",
        "    h3 = Dense(dim_h3, activation='relu')(h2)\n",
        "    h4 = Dropout(dropout)(h3)\n",
        "    h5 = Dense(dim_h5, activation='relu')(h4)\n",
        "    h6 = Dropout(dropout)(h5)\n",
        "    h7 = Dense(dim_h7,activation = 'sigmoid')(h5)\n",
        "    h8 = Dropout(dropout)(h7)\n",
        "    h9 = Dense(out_size, activation='softmax')(h8)\n",
        "    model = Model(inputs=x, outputs=h9)\n",
        "    model.compile(optimizers.Adam(lr), 'kullback_leibler_divergence', ['accuracy'])\n",
        "    #model.compile(optimizers.Adam(lr), 'categorical_crossentropy', ['accuracy'])\n",
        "    return model\n",
        "\n",
        "\n",
        "\n"
      ]
    },
    {
      "cell_type": "code",
      "execution_count": null,
      "metadata": {
        "id": "uSZ_-IydwrT_"
      },
      "outputs": [],
      "source": [
        "def train_model_keras(X_train, y_train, X_dev, y_dev):\n",
        "    ip_dim = X_train.shape[1]\n",
        "    dim_h1 = 1000\n",
        "    dim_h3 = 500\n",
        "    dim_h5 = 300\n",
        "    dim_h7 = 100\n",
        "\n",
        "    dropout = 0.1\n",
        "    lr = 0.0003\n",
        "    epochs = 20\n",
        "    batch_size = 256\n",
        "    out_size = y_train.shape[1]\n",
        "    earlystop_callback = tf.keras.callbacks.EarlyStopping(monitor='val_loss', patience=5)\n",
        "    checkpoint_callback = tf.keras.callbacks.ModelCheckpoint('best_model.h5', monitor='val_accuracy', save_best_only=True, save_weights_only=True)\n",
        "\n",
        "    with tf.device('/cpu:0'): # or /gpu:0\n",
        "        model_tf = get_model(ip_dim, dim_h1, dim_h3, dim_h5,dim_h7, out_size, dropout, lr)\n",
        "        # Define a model checkpointing callback to save the best model after each step\n",
        "\n",
        "        model_tf.fit(X_train, y_train, epochs=epochs, batch_size=batch_size, shuffle=True, validation_data=(X_dev, y_dev), callbacks=[earlystop_callback, checkpoint_callback])\n",
        "\n",
        "    # Load the weights from the best model\n",
        "    model_tf.load_weights('best_model.h5')\n",
        "\n",
        "    # remove the file\n",
        "    os.remove('best_model.h5')\n",
        "\n",
        "    return model_tf\n",
        "def print_metrics(y_true, y_pred):\n",
        "    if len(y_true.shape) > 1:\n",
        "        y_true = np.argmax(y_true, axis=1)\n",
        "    if len(y_pred.shape) > 1:\n",
        "        y_pred = np.argmax(y_pred, axis=1)\n",
        "\n",
        "    print(f'Classification report for the DL model: \\n{classification_report(y_true, y_pred)}')\n",
        "    print(f'MCC: {matthews_corrcoef(y_true, y_pred)}')\n",
        "    print(f'ACC: {accuracy_score(y_true, y_pred)}')\n",
        "    print(f'Confusion matrix: \\n{confusion_matrix(y_true, y_pred)}')\n",
        "    print(f'Trained with {len(y_true)} labels')"
      ]
    },
    {
      "cell_type": "code",
      "execution_count": null,
      "metadata": {
        "id": "jvEm5wZ6wrUA",
        "outputId": "5211f342-d76d-4448-f023-359e2be92667"
      },
      "outputs": [
        {
          "name": "stdout",
          "output_type": "stream",
          "text": [
            "Epoch 1/20\n",
            "40/40 [==============================] - 3s 48ms/step - loss: 0.2191 - accuracy: 0.7094 - val_loss: 0.6663 - val_accuracy: 0.6302\n",
            "Epoch 2/20\n",
            "40/40 [==============================] - 2s 42ms/step - loss: 0.0921 - accuracy: 0.8320 - val_loss: 0.7183 - val_accuracy: 0.6527\n",
            "Epoch 3/20\n",
            "40/40 [==============================] - 2s 41ms/step - loss: 0.0774 - accuracy: 0.8475 - val_loss: 0.8063 - val_accuracy: 0.6495\n",
            "Epoch 4/20\n",
            "40/40 [==============================] - 2s 41ms/step - loss: 0.0700 - accuracy: 0.8509 - val_loss: 0.6859 - val_accuracy: 0.7363\n",
            "Epoch 5/20\n",
            "40/40 [==============================] - 2s 40ms/step - loss: 0.0661 - accuracy: 0.8556 - val_loss: 0.7797 - val_accuracy: 0.6849\n",
            "Epoch 6/20\n",
            "40/40 [==============================] - 2s 40ms/step - loss: 0.0609 - accuracy: 0.8583 - val_loss: 0.9542 - val_accuracy: 0.6495\n"
          ]
        }
      ],
      "source": [
        "model_tf = train_model_keras(X_train, y_train_prob_labels, X_dev, np.eye(2)[y_dev_true])"
      ]
    },
    {
      "cell_type": "code",
      "execution_count": null,
      "metadata": {
        "id": "JxeBTUsewrUA",
        "outputId": "4786ea99-58ec-4ba4-9692-94f281e7c8db"
      },
      "outputs": [
        {
          "name": "stdout",
          "output_type": "stream",
          "text": [
            "10/10 [==============================] - 0s 4ms/step\n",
            "Classification report for the DL model: \n",
            "              precision    recall  f1-score   support\n",
            "\n",
            "           0       0.98      0.62      0.76       165\n",
            "           1       0.70      0.99      0.82       146\n",
            "\n",
            "    accuracy                           0.79       311\n",
            "   macro avg       0.84      0.81      0.79       311\n",
            "weighted avg       0.85      0.79      0.79       311\n",
            "\n",
            "MCC: 0.6443279361525832\n",
            "ACC: 0.7942122186495176\n",
            "Confusion matrix: \n",
            "[[103  62]\n",
            " [  2 144]]\n",
            "Trained with 311 labels\n"
          ]
        }
      ],
      "source": [
        "predito_dev= model_tf.predict(X_dev)\n",
        "verdadeiro_dev=df_dev.Classificacao_Binaria.values\n",
        "\n",
        "\n",
        "print_metrics(verdadeiro_dev,predito_dev)"
      ]
    },
    {
      "cell_type": "markdown",
      "metadata": {
        "id": "j0Rtf7viwrUA"
      },
      "source": [
        "# Metricas para o utilizando os dados de teste para a validação final"
      ]
    },
    {
      "cell_type": "code",
      "execution_count": null,
      "metadata": {
        "id": "iCGjXSU3wrUA",
        "outputId": "f8f24962-3084-4118-c89c-d1999a298af6"
      },
      "outputs": [
        {
          "name": "stderr",
          "output_type": "stream",
          "text": [
            "  0%|          | 0/310 [00:00<?, ?it/s]"
          ]
        },
        {
          "name": "stderr",
          "output_type": "stream",
          "text": [
            "100%|██████████| 310/310 [00:00<00:00, 357.37it/s]\n",
            "INFO:root:Computing O...\n",
            "INFO:root:Estimating \\mu...\n",
            "  0%|          | 0/5000 [00:00<?, ?epoch/s]INFO:root:[0 epochs]: TRAIN:[loss=2.056]\n",
            "INFO:root:[100 epochs]: TRAIN:[loss=0.042]\n",
            "  2%|▏         | 101/5000 [00:00<00:04, 1002.15epoch/s]INFO:root:[200 epochs]: TRAIN:[loss=0.039]\n",
            "  4%|▍         | 208/5000 [00:00<00:04, 1040.73epoch/s]INFO:root:[300 epochs]: TRAIN:[loss=0.038]\n",
            "  8%|▊         | 398/5000 [00:00<00:05, 771.12epoch/s] INFO:root:[400 epochs]: TRAIN:[loss=0.038]\n",
            " 10%|▉         | 485/5000 [00:00<00:05, 801.31epoch/s]INFO:root:[500 epochs]: TRAIN:[loss=0.038]\n",
            " 11%|█▏        | 569/5000 [00:00<00:05, 812.76epoch/s]INFO:root:[600 epochs]: TRAIN:[loss=0.038]\n",
            " 13%|█▎        | 660/5000 [00:00<00:05, 841.55epoch/s]INFO:root:[700 epochs]: TRAIN:[loss=0.038]\n",
            " 15%|█▍        | 746/5000 [00:00<00:05, 847.11epoch/s]INFO:root:[800 epochs]: TRAIN:[loss=0.038]\n",
            " 17%|█▋        | 841/5000 [00:00<00:04, 875.94epoch/s]INFO:root:[900 epochs]: TRAIN:[loss=0.038]\n",
            " 19%|█▊        | 935/5000 [00:01<00:04, 893.19epoch/s]INFO:root:[1000 epochs]: TRAIN:[loss=0.038]\n",
            " 20%|██        | 1025/5000 [00:01<00:04, 891.43epoch/s]INFO:root:[1100 epochs]: TRAIN:[loss=0.038]\n",
            " 24%|██▍       | 1193/5000 [00:01<00:05, 737.70epoch/s]INFO:root:[1200 epochs]: TRAIN:[loss=0.038]\n",
            " 25%|██▌       | 1274/5000 [00:01<00:04, 756.36epoch/s]INFO:root:[1300 epochs]: TRAIN:[loss=0.038]\n",
            " 27%|██▋       | 1357/5000 [00:01<00:04, 776.09epoch/s]INFO:root:[1400 epochs]: TRAIN:[loss=0.038]\n",
            " 29%|██▊       | 1437/5000 [00:01<00:04, 772.23epoch/s]INFO:root:[1500 epochs]: TRAIN:[loss=0.038]\n",
            " 30%|███       | 1517/5000 [00:01<00:04, 776.74epoch/s]INFO:root:[1600 epochs]: TRAIN:[loss=0.038]\n",
            " 34%|███▎      | 1687/5000 [00:02<00:04, 809.76epoch/s]INFO:root:[1700 epochs]: TRAIN:[loss=0.038]\n",
            " 35%|███▌      | 1771/5000 [00:02<00:03, 817.95epoch/s]INFO:root:[1800 epochs]: TRAIN:[loss=0.038]\n",
            " 37%|███▋      | 1854/5000 [00:02<00:03, 806.81epoch/s]INFO:root:[1900 epochs]: TRAIN:[loss=0.038]\n",
            " 39%|███▊      | 1936/5000 [00:02<00:03, 783.11epoch/s]INFO:root:[2000 epochs]: TRAIN:[loss=0.038]\n",
            " 42%|████▏     | 2098/5000 [00:02<00:03, 795.50epoch/s]INFO:root:[2100 epochs]: TRAIN:[loss=0.038]\n",
            " 44%|████▎     | 2178/5000 [00:02<00:03, 795.32epoch/s]INFO:root:[2200 epochs]: TRAIN:[loss=0.038]\n",
            " 45%|████▌     | 2258/5000 [00:02<00:03, 780.57epoch/s]INFO:root:[2300 epochs]: TRAIN:[loss=0.038]\n",
            " 47%|████▋     | 2337/5000 [00:02<00:03, 779.94epoch/s]INFO:root:[2400 epochs]: TRAIN:[loss=0.038]\n",
            " 50%|████▉     | 2495/5000 [00:03<00:03, 777.67epoch/s]INFO:root:[2500 epochs]: TRAIN:[loss=0.038]\n",
            " 52%|█████▏    | 2579/5000 [00:03<00:03, 795.84epoch/s]INFO:root:[2600 epochs]: TRAIN:[loss=0.038]\n",
            " 53%|█████▎    | 2659/5000 [00:03<00:03, 758.01epoch/s]INFO:root:[2700 epochs]: TRAIN:[loss=0.038]\n",
            " 55%|█████▍    | 2736/5000 [00:03<00:03, 748.17epoch/s]INFO:root:[2800 epochs]: TRAIN:[loss=0.038]\n",
            " 58%|█████▊    | 2893/5000 [00:03<00:02, 746.82epoch/s]INFO:root:[2900 epochs]: TRAIN:[loss=0.038]\n",
            " 59%|█████▉    | 2970/5000 [00:03<00:02, 751.62epoch/s]INFO:root:[3000 epochs]: TRAIN:[loss=0.038]\n",
            " 61%|██████    | 3046/5000 [00:03<00:02, 744.46epoch/s]INFO:root:[3100 epochs]: TRAIN:[loss=0.038]\n",
            " 62%|██████▎   | 3125/5000 [00:03<00:02, 757.45epoch/s]INFO:root:[3200 epochs]: TRAIN:[loss=0.038]\n",
            " 66%|██████▌   | 3297/5000 [00:04<00:02, 808.22epoch/s]INFO:root:[3300 epochs]: TRAIN:[loss=0.038]\n",
            " 68%|██████▊   | 3393/5000 [00:04<00:01, 852.84epoch/s]INFO:root:[3400 epochs]: TRAIN:[loss=0.038]\n",
            " 70%|██████▉   | 3479/5000 [00:04<00:01, 830.83epoch/s]INFO:root:[3500 epochs]: TRAIN:[loss=0.038]\n",
            " 71%|███████▏  | 3565/5000 [00:04<00:01, 838.34epoch/s]INFO:root:[3600 epochs]: TRAIN:[loss=0.038]\n",
            " 73%|███████▎  | 3650/5000 [00:04<00:01, 816.48epoch/s]INFO:root:[3700 epochs]: TRAIN:[loss=0.038]\n",
            " 75%|███████▍  | 3732/5000 [00:04<00:01, 795.62epoch/s]INFO:root:[3800 epochs]: TRAIN:[loss=0.038]\n",
            " 76%|███████▋  | 3815/5000 [00:04<00:01, 803.94epoch/s]INFO:root:[3900 epochs]: TRAIN:[loss=0.038]\n",
            " 80%|███████▉  | 3997/5000 [00:04<00:01, 851.29epoch/s]INFO:root:[4000 epochs]: TRAIN:[loss=0.038]\n",
            " 82%|████████▏ | 4083/5000 [00:05<00:01, 853.65epoch/s]INFO:root:[4100 epochs]: TRAIN:[loss=0.038]\n",
            " 83%|████████▎ | 4169/5000 [00:05<00:00, 848.37epoch/s]INFO:root:[4200 epochs]: TRAIN:[loss=0.038]\n",
            " 85%|████████▌ | 4254/5000 [00:05<00:00, 758.62epoch/s]INFO:root:[4300 epochs]: TRAIN:[loss=0.038]\n",
            " 87%|████████▋ | 4336/5000 [00:05<00:00, 773.36epoch/s]INFO:root:[4400 epochs]: TRAIN:[loss=0.038]\n",
            " 89%|████████▊ | 4431/5000 [00:05<00:00, 821.38epoch/s]INFO:root:[4500 epochs]: TRAIN:[loss=0.038]\n",
            " 90%|█████████ | 4524/5000 [00:05<00:00, 849.30epoch/s]INFO:root:[4600 epochs]: TRAIN:[loss=0.038]\n",
            " 92%|█████████▏| 4610/5000 [00:05<00:00, 804.08epoch/s]INFO:root:[4700 epochs]: TRAIN:[loss=0.038]\n",
            " 94%|█████████▍| 4725/5000 [00:05<00:00, 900.65epoch/s]INFO:root:[4800 epochs]: TRAIN:[loss=0.038]\n",
            " 97%|█████████▋| 4837/5000 [00:05<00:00, 961.70epoch/s]INFO:root:[4900 epochs]: TRAIN:[loss=0.038]\n",
            "100%|██████████| 5000/5000 [00:06<00:00, 819.04epoch/s]\n",
            "INFO:root:Finished Training\n",
            "/home/juliano/TRF5/Aprendizado-semi-supervisionado/.venv/lib/python3.10/site-packages/sklearn/metrics/_classification.py:1471: UndefinedMetricWarning:\n",
            "\n",
            "Recall and F-score are ill-defined and being set to 0.0 in labels with no true samples. Use `zero_division` parameter to control this behavior.\n",
            "\n",
            "/home/juliano/TRF5/Aprendizado-semi-supervisionado/.venv/lib/python3.10/site-packages/sklearn/metrics/_classification.py:1471: UndefinedMetricWarning:\n",
            "\n",
            "Recall and F-score are ill-defined and being set to 0.0 in labels with no true samples. Use `zero_division` parameter to control this behavior.\n",
            "\n",
            "/home/juliano/TRF5/Aprendizado-semi-supervisionado/.venv/lib/python3.10/site-packages/sklearn/metrics/_classification.py:1471: UndefinedMetricWarning:\n",
            "\n",
            "Recall and F-score are ill-defined and being set to 0.0 in labels with no true samples. Use `zero_division` parameter to control this behavior.\n",
            "\n",
            "/home/juliano/TRF5/Aprendizado-semi-supervisionado/.venv/lib/python3.10/site-packages/sklearn/metrics/_classification.py:1471: UndefinedMetricWarning:\n",
            "\n",
            "Recall and F-score are ill-defined and being set to 0.0 in labels with no true samples. Use `zero_division` parameter to control this behavior.\n",
            "\n",
            "/home/juliano/TRF5/Aprendizado-semi-supervisionado/.venv/lib/python3.10/site-packages/sklearn/metrics/_classification.py:1471: UndefinedMetricWarning:\n",
            "\n",
            "Recall and F-score are ill-defined and being set to 0.0 in labels with no true samples. Use `zero_division` parameter to control this behavior.\n",
            "\n",
            "/home/juliano/TRF5/Aprendizado-semi-supervisionado/.venv/lib/python3.10/site-packages/sklearn/metrics/_classification.py:1471: UndefinedMetricWarning:\n",
            "\n",
            "Recall and F-score are ill-defined and being set to 0.0 in labels with no true samples. Use `zero_division` parameter to control this behavior.\n",
            "\n"
          ]
        },
        {
          "name": "stdout",
          "output_type": "stream",
          "text": [
            "Classification report for majority model: \n",
            "              precision    recall  f1-score   support\n",
            "\n",
            "          -1       0.00      0.00      0.00         0\n",
            "           0       1.00      0.32      0.49       165\n",
            "           1       0.69      0.99      0.81       145\n",
            "\n",
            "    accuracy                           0.63       310\n",
            "   macro avg       0.56      0.44      0.43       310\n",
            "weighted avg       0.86      0.63      0.64       310\n",
            "\n",
            "Number of abstains: 51\n",
            "\n",
            "\n",
            "Classification report for label model: \n",
            "              precision    recall  f1-score   support\n",
            "\n",
            "          -1       0.00      0.00      0.00         0\n",
            "           0       0.95      0.96      0.95       165\n",
            "           1       0.95      0.92      0.94       145\n",
            "\n",
            "    accuracy                           0.94       310\n",
            "   macro avg       0.63      0.63      0.63       310\n",
            "weighted avg       0.95      0.94      0.94       310\n",
            "\n",
            "Number of abstains: 2\n",
            "10/10 [==============================] - 0s 4ms/step\n",
            "Classification report for the DL model: \n",
            "              precision    recall  f1-score   support\n",
            "\n",
            "           0       0.98      0.62      0.76       165\n",
            "           1       0.70      0.99      0.82       146\n",
            "\n",
            "    accuracy                           0.79       311\n",
            "   macro avg       0.84      0.81      0.79       311\n",
            "weighted avg       0.85      0.79      0.79       311\n",
            "\n",
            "MCC: 0.6443279361525832\n",
            "ACC: 0.7942122186495176\n",
            "Confusion matrix: \n",
            "[[103  62]\n",
            " [  2 144]]\n",
            "Trained with 311 labels\n"
          ]
        }
      ],
      "source": [
        "\n",
        "Y_test=df_teste.Classificacao_Binaria\n",
        "\n",
        "applier = PandasLFApplier(lfs=lfs)\n",
        "L_teste = applier.apply(df=df_teste)\n",
        "\n",
        "label_model.fit(L_train=L_teste, n_epochs=5000, log_freq=100, seed=10)\n",
        "\n",
        "preds_train = majority_model.predict(L=L_teste)\n",
        "\n",
        "majority_pred = majority_model.predict(L=L_teste)\n",
        "label_model_pred = label_model.predict(L=L_teste)\n",
        "\n",
        "print(f'Classification report for majority model: \\n{classification_report(df_teste.Classificacao_Binaria.values, majority_pred)}')\n",
        "print(f'Number of abstains: {np.count_nonzero(majority_pred == -1)}')\n",
        "print(f'\\n\\nClassification report for label model: \\n{classification_report(df_teste.Classificacao_Binaria.values, label_model_pred)}')\n",
        "print(f'Number of abstains: {np.count_nonzero(label_model_pred == -1)}')\n",
        "\n",
        "\n",
        "X_test = vectorizer.transform(df_teste.texto.values).toarray()\n",
        "\n",
        "y_test_true = df_teste.Classificacao_Binaria.values\n",
        "\n",
        "predict_dev= model_tf.predict(X_test)\n",
        "\n",
        "print_metrics(verdadeiro_dev,predito_dev)\n",
        "\n",
        "\n",
        "\n",
        "\n"
      ]
    },
    {
      "cell_type": "markdown",
      "metadata": {
        "id": "aEYRDBqNwrUA"
      },
      "source": [
        "# Conclusões\n",
        "\n",
        "Nas duas metodologias de voto majoritario quanto de valores probabilisticos e depois usando um modelo descriminativo, no caso uma rede neural, se mostraram com uma performa-se ruim para o caso dos falso negativos, imputando uma quantidade de negativos muito maior do que realmente é o valor verdadeiro.\n",
        "\n",
        "\n",
        "Dessa maneira será nescessário usar melhores label functions, como a estrategia de transfer learning usando modelos LLM, como o gpt, como tambem o uso de todas as petições na qual não foi possivel devido as limitações de hardware.\n",
        "\n",
        "Assim, foi possivel aprender os conceitos e caracteristicas do aprendizado semi-supervisionado, que demostra ser uma boa alternativa para o caso dos problemas da justiça onde a sua rotulagem revela-se custosa. E uso desse tipo de metodológia, teve bons casos na literatura, e os resultados encontrados nesse estudo podem ser melhorados com o uso das estrategias descritas acima.\n",
        "\n",
        "A caracteristica do Dataset ser desbalanceado pode ter interferido na sua perfomance devido que a maioria das petições iniciais utilizadas são de casos que não são referentes a aposentadoria."
      ]
    }
  ],
  "metadata": {
    "kernelspec": {
      "display_name": "Python 3",
      "language": "python",
      "name": "python3"
    },
    "language_info": {
      "codemirror_mode": {
        "name": "ipython",
        "version": 3
      },
      "file_extension": ".py",
      "mimetype": "text/x-python",
      "name": "python",
      "nbconvert_exporter": "python",
      "pygments_lexer": "ipython3",
      "version": "3.10.12"
    },
    "colab": {
      "provenance": []
    }
  },
  "nbformat": 4,
  "nbformat_minor": 0
}