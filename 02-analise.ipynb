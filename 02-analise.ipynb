{
 "cells": [
  {
   "cell_type": "markdown",
   "metadata": {},
   "source": [
    "# Preparação dos dados"
   ]
  },
  {
   "cell_type": "code",
   "execution_count": null,
   "metadata": {},
   "outputs": [],
   "source": [
    "import pandas as pd\n",
    "import os\n",
    "from dotenv import load_dotenv\n",
    "load_dotenv()\n",
    "dfs = []\n",
    "pasta_dados=os.getenv('PATH_DADOS')\n",
    "#intera sobre os arquivos da pasta\n",
    "for path in os.listdir(pasta_dados):\n",
    "    if path.endswith('parquet'): #ver se é final parquet\n",
    "        df = pd.read_parquet(f'{pasta_dados}/{path}')# ler os dados e\n",
    "        dfs.append(df)\n",
    "\n",
    "df_completo = pd.concat(dfs,ignore_index=True)\n",
    "\n",
    "df_completo.head()"
   ]
  },
  {
   "cell_type": "code",
   "execution_count": null,
   "metadata": {},
   "outputs": [],
   "source": [
    "colunas_remover = [\"código documento\", \"sistema\", \"órgão\", \"tipoDocumento\", \"numeroProcesso\"]\n",
    "df_completo = df_completo.drop(columns=colunas_remover)"
   ]
  },
  {
   "cell_type": "code",
   "execution_count": null,
   "metadata": {},
   "outputs": [],
   "source": [
    "df_completo.columns\n",
    "\n",
    "print(str(df_completo['texto'].iloc[10]))"
   ]
  },
  {
   "cell_type": "code",
   "execution_count": null,
   "metadata": {},
   "outputs": [],
   "source": [
    "print(df_completo.columns)\n",
    "\n",
    "df_completo.describe()\n"
   ]
  },
  {
   "cell_type": "code",
   "execution_count": null,
   "metadata": {},
   "outputs": [],
   "source": [
    "colunas_sem_sentido_para_o_trabalho = ['referenciasLegislativas','publicacoes','votantes','doutrinas','destaques'] \n",
    "colunas_drop = []\n",
    "\n",
    "df_completo.drop(columns=colunas_sem_sentido_para_o_trabalho,inplace=True)\n",
    "\n",
    "for coluna in df_completo.columns:\n",
    "    valores_unicos = len(df_completo[coluna].unique())\n",
    "    #print(valores_unicos)\n",
    "    if valores_unicos<2:\n",
    "        colunas_drop.append(coluna)\n",
    "\n",
    "df_completo.drop(columns=colunas_drop,inplace=True)\n"
   ]
  },
  {
   "cell_type": "code",
   "execution_count": null,
   "metadata": {},
   "outputs": [],
   "source": [
    "df_completo.to_parquet(f'{pasta_dados}/completo.parquet')"
   ]
  },
  {
   "cell_type": "markdown",
   "metadata": {},
   "source": [
    "# Analise exploratória de Dados"
   ]
  },
  {
   "cell_type": "code",
   "execution_count": null,
   "metadata": {},
   "outputs": [],
   "source": [
    "df_completo.head(10)"
   ]
  },
  {
   "cell_type": "markdown",
   "metadata": {},
   "source": [
    "## Classe Judicial"
   ]
  },
  {
   "cell_type": "code",
   "execution_count": null,
   "metadata": {},
   "outputs": [],
   "source": [
    "julgamentos_classejudicial=df_completo['classeJudicial'].value_counts(normalize=True)\n",
    "\n",
    "display(julgamentos_classejudicial.sort_values(ascending=False))\n",
    "\n",
    "n_classejudicial = len(df_completo.classeJudicial.unique())\n",
    "\n",
    "print(f'O número de classes judiciais foi {n_classejudicial}')"
   ]
  },
  {
   "cell_type": "markdown",
   "metadata": {},
   "source": [
    "## Relatores"
   ]
  },
  {
   "cell_type": "code",
   "execution_count": null,
   "metadata": {},
   "outputs": [],
   "source": [
    "julgamentos_relator=df_completo['relator'].value_counts()\n",
    "\n",
    "display(julgamentos_relator.sort_values(ascending=False))\n",
    "\n",
    "n_relatores = len(df_completo.relator.unique())\n",
    "\n",
    "print(f'O número de relatores foi {n_relatores}')"
   ]
  },
  {
   "cell_type": "code",
   "execution_count": null,
   "metadata": {},
   "outputs": [],
   "source": [
    "import matplotlib.pyplot as plt\n",
    "\n",
    "\n",
    "plt.hist(julgamentos_relator,bins=10)"
   ]
  },
  {
   "cell_type": "markdown",
   "metadata": {},
   "source": [
    "## dataJulgamento\t"
   ]
  },
  {
   "cell_type": "markdown",
   "metadata": {},
   "source": [
    "## data assinatura"
   ]
  }
 ],
 "metadata": {
  "kernelspec": {
   "display_name": ".venv",
   "language": "python",
   "name": "python3"
  },
  "language_info": {
   "codemirror_mode": {
    "name": "ipython",
    "version": 3
   },
   "file_extension": ".py",
   "mimetype": "text/x-python",
   "name": "python",
   "nbconvert_exporter": "python",
   "pygments_lexer": "ipython3",
   "version": "3.12.8"
  }
 },
 "nbformat": 4,
 "nbformat_minor": 2
}
